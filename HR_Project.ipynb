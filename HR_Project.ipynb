{
  "cells": [
    {
      "cell_type": "markdown",
      "metadata": {
        "id": "view-in-github",
        "colab_type": "text"
      },
      "source": [
        "<a href=\"https://colab.research.google.com/github/dev-abdulraheem/Employee-churn-Prediction/blob/master/HR_Project.ipynb\" target=\"_parent\"><img src=\"https://colab.research.google.com/assets/colab-badge.svg\" alt=\"Open In Colab\"/></a>"
      ]
    },
    {
      "cell_type": "markdown",
      "metadata": {
        "id": "4d9ad282"
      },
      "source": [
        "Importing Libraries"
      ],
      "id": "4d9ad282"
    },
    {
      "cell_type": "code",
      "execution_count": null,
      "metadata": {
        "colab": {
          "base_uri": "https://localhost:8080/"
        },
        "id": "4d1c0b98",
        "outputId": "c7fe6b56-d901-4192-dbdd-f81b5c7ad171"
      },
      "outputs": [
        {
          "name": "stdout",
          "output_type": "stream",
          "text": [
            "Drive already mounted at /content/drive; to attempt to forcibly remount, call drive.mount(\"/content/drive\", force_remount=True).\n"
          ]
        }
      ],
      "source": [
        "import pandas as pd\n",
        "import numpy as np\n",
        "#import visualization libraries\n",
        "import matplotlib.pyplot as plt\n",
        "%matplotlib inline\n",
        "import seaborn as sns\n",
        "import warnings\n",
        "warnings.filterwarnings('ignore')\n",
        "# connecting to the Google drive\n",
        "from google.colab import drive\n",
        "drive.mount('/content/drive')\n",
        "from sklearn.model_selection import train_test_split\n",
        "from sklearn.preprocessing import StandardScaler\n",
        "from sklearn.ensemble import RandomForestClassifier, GradientBoostingClassifier\n",
        "from xgboost import XGBClassifier\n",
        "from sklearn.neighbors import KNeighborsClassifier\n",
        "from sklearn.metrics import accuracy_score, confusion_matrix, classification_report, roc_auc_score, roc_curve"
      ],
      "id": "4d1c0b98"
    },
    {
      "cell_type": "markdown",
      "metadata": {
        "id": "0d2cb3da"
      },
      "source": [
        "Importing Data Sets"
      ],
      "id": "0d2cb3da"
    },
    {
      "cell_type": "code",
      "execution_count": null,
      "metadata": {
        "id": "b67f81dc"
      },
      "outputs": [],
      "source": [
        "A= pd.read_excel('drive/MyDrive/Employees_Churn_Prediction/2018_03_31_Establishment_Data_Extract.xlsx')"
      ],
      "id": "b67f81dc"
    },
    {
      "cell_type": "code",
      "execution_count": null,
      "metadata": {
        "id": "6aabb80a"
      },
      "outputs": [],
      "source": [
        "B=pd.read_excel('drive/MyDrive/Employees_Churn_Prediction/2019_03_31_Establishment_Data_Extract.xlsx')"
      ],
      "id": "6aabb80a"
    },
    {
      "cell_type": "code",
      "execution_count": null,
      "metadata": {
        "id": "4ddd3932"
      },
      "outputs": [],
      "source": [
        "C=pd.read_excel('drive/MyDrive/Employees_Churn_Prediction/2020_03_31_Establishment_Data_Extract.xlsx')"
      ],
      "id": "4ddd3932"
    },
    {
      "cell_type": "code",
      "execution_count": null,
      "metadata": {
        "id": "5805105a"
      },
      "outputs": [],
      "source": [
        "D=pd.read_excel('drive/MyDrive/Employees_Churn_Prediction/2021_03_31_Establishment_Data_Extract.xlsx')"
      ],
      "id": "5805105a"
    },
    {
      "cell_type": "code",
      "execution_count": null,
      "metadata": {
        "id": "1860a571"
      },
      "outputs": [],
      "source": [
        "E=pd.read_excel('drive/MyDrive/Employees_Churn_Prediction/2022_03_31_Establishment_Data_Extract.xlsx')"
      ],
      "id": "1860a571"
    },
    {
      "cell_type": "markdown",
      "metadata": {
        "id": "efce06a2"
      },
      "source": [
        "Checking across each file "
      ],
      "id": "efce06a2"
    },
    {
      "cell_type": "code",
      "execution_count": null,
      "metadata": {
        "colab": {
          "base_uri": "https://localhost:8080/",
          "height": 341
        },
        "id": "33026291",
        "outputId": "ab1c64a9-70b9-460c-942d-7539a51f5f69"
      },
      "outputs": [
        {
          "data": {
            "text/html": [
              "\n",
              "  <div id=\"df-d6dffab1-a8d8-4b06-8d22-42219a5ef48b\">\n",
              "    <div class=\"colab-df-container\">\n",
              "      <div>\n",
              "<style scoped>\n",
              "    .dataframe tbody tr th:only-of-type {\n",
              "        vertical-align: middle;\n",
              "    }\n",
              "\n",
              "    .dataframe tbody tr th {\n",
              "        vertical-align: top;\n",
              "    }\n",
              "\n",
              "    .dataframe thead th {\n",
              "        text-align: right;\n",
              "    }\n",
              "</style>\n",
              "<table border=\"1\" class=\"dataframe\">\n",
              "  <thead>\n",
              "    <tr style=\"text-align: right;\">\n",
              "      <th></th>\n",
              "      <th>Month Number</th>\n",
              "      <th>START PERIOD</th>\n",
              "      <th>END PERIOD</th>\n",
              "      <th>REPORT RUN PERIOD</th>\n",
              "      <th>REPORT MONTH</th>\n",
              "      <th>YTD FLAG</th>\n",
              "      <th>Academic Year</th>\n",
              "      <th>FIN YTD START FLAG</th>\n",
              "      <th>FIN YTD START POS</th>\n",
              "      <th>YTD START FLAG - Person</th>\n",
              "      <th>...</th>\n",
              "      <th>START DATE OCCUPANCY</th>\n",
              "      <th>END DATE OCCUPANCY</th>\n",
              "      <th>Expected Occupancy End Reason</th>\n",
              "      <th>ORG PARTY ID</th>\n",
              "      <th>POSITION ID</th>\n",
              "      <th>PARTY LNK ID OCCUPANCY</th>\n",
              "      <th>PERSON ID</th>\n",
              "      <th>distinct person id</th>\n",
              "      <th>Unnamed: 89</th>\n",
              "      <th>distinct position id</th>\n",
              "    </tr>\n",
              "  </thead>\n",
              "  <tbody>\n",
              "    <tr>\n",
              "      <th>0</th>\n",
              "      <td>0</td>\n",
              "      <td>2018-02-01</td>\n",
              "      <td>2018-02-28</td>\n",
              "      <td>02/2018</td>\n",
              "      <td>2</td>\n",
              "      <td>1</td>\n",
              "      <td>17/18</td>\n",
              "      <td>0</td>\n",
              "      <td>0</td>\n",
              "      <td>0</td>\n",
              "      <td>...</td>\n",
              "      <td>NaT</td>\n",
              "      <td>NaT</td>\n",
              "      <td>NaN</td>\n",
              "      <td>740974004Y</td>\n",
              "      <td>1950110spi</td>\n",
              "      <td>NaN</td>\n",
              "      <td>NaN</td>\n",
              "      <td>0</td>\n",
              "      <td>NaN</td>\n",
              "      <td>1</td>\n",
              "    </tr>\n",
              "    <tr>\n",
              "      <th>1</th>\n",
              "      <td>0</td>\n",
              "      <td>2018-02-01</td>\n",
              "      <td>2018-02-28</td>\n",
              "      <td>02/2018</td>\n",
              "      <td>2</td>\n",
              "      <td>1</td>\n",
              "      <td>17/18</td>\n",
              "      <td>0</td>\n",
              "      <td>0</td>\n",
              "      <td>0</td>\n",
              "      <td>...</td>\n",
              "      <td>NaT</td>\n",
              "      <td>NaT</td>\n",
              "      <td>NaN</td>\n",
              "      <td>740974004Y</td>\n",
              "      <td>2102900LiG</td>\n",
              "      <td>NaN</td>\n",
              "      <td>NaN</td>\n",
              "      <td>0</td>\n",
              "      <td>NaN</td>\n",
              "      <td>1</td>\n",
              "    </tr>\n",
              "    <tr>\n",
              "      <th>2</th>\n",
              "      <td>0</td>\n",
              "      <td>2018-02-01</td>\n",
              "      <td>2018-02-28</td>\n",
              "      <td>02/2018</td>\n",
              "      <td>2</td>\n",
              "      <td>1</td>\n",
              "      <td>17/18</td>\n",
              "      <td>0</td>\n",
              "      <td>0</td>\n",
              "      <td>0</td>\n",
              "      <td>...</td>\n",
              "      <td>NaT</td>\n",
              "      <td>NaT</td>\n",
              "      <td>NaN</td>\n",
              "      <td>740974004Y</td>\n",
              "      <td>32054807if</td>\n",
              "      <td>NaN</td>\n",
              "      <td>NaN</td>\n",
              "      <td>0</td>\n",
              "      <td>NaN</td>\n",
              "      <td>1</td>\n",
              "    </tr>\n",
              "  </tbody>\n",
              "</table>\n",
              "<p>3 rows × 91 columns</p>\n",
              "</div>\n",
              "      <button class=\"colab-df-convert\" onclick=\"convertToInteractive('df-d6dffab1-a8d8-4b06-8d22-42219a5ef48b')\"\n",
              "              title=\"Convert this dataframe to an interactive table.\"\n",
              "              style=\"display:none;\">\n",
              "        \n",
              "  <svg xmlns=\"http://www.w3.org/2000/svg\" height=\"24px\"viewBox=\"0 0 24 24\"\n",
              "       width=\"24px\">\n",
              "    <path d=\"M0 0h24v24H0V0z\" fill=\"none\"/>\n",
              "    <path d=\"M18.56 5.44l.94 2.06.94-2.06 2.06-.94-2.06-.94-.94-2.06-.94 2.06-2.06.94zm-11 1L8.5 8.5l.94-2.06 2.06-.94-2.06-.94L8.5 2.5l-.94 2.06-2.06.94zm10 10l.94 2.06.94-2.06 2.06-.94-2.06-.94-.94-2.06-.94 2.06-2.06.94z\"/><path d=\"M17.41 7.96l-1.37-1.37c-.4-.4-.92-.59-1.43-.59-.52 0-1.04.2-1.43.59L10.3 9.45l-7.72 7.72c-.78.78-.78 2.05 0 2.83L4 21.41c.39.39.9.59 1.41.59.51 0 1.02-.2 1.41-.59l7.78-7.78 2.81-2.81c.8-.78.8-2.07 0-2.86zM5.41 20L4 18.59l7.72-7.72 1.47 1.35L5.41 20z\"/>\n",
              "  </svg>\n",
              "      </button>\n",
              "      \n",
              "  <style>\n",
              "    .colab-df-container {\n",
              "      display:flex;\n",
              "      flex-wrap:wrap;\n",
              "      gap: 12px;\n",
              "    }\n",
              "\n",
              "    .colab-df-convert {\n",
              "      background-color: #E8F0FE;\n",
              "      border: none;\n",
              "      border-radius: 50%;\n",
              "      cursor: pointer;\n",
              "      display: none;\n",
              "      fill: #1967D2;\n",
              "      height: 32px;\n",
              "      padding: 0 0 0 0;\n",
              "      width: 32px;\n",
              "    }\n",
              "\n",
              "    .colab-df-convert:hover {\n",
              "      background-color: #E2EBFA;\n",
              "      box-shadow: 0px 1px 2px rgba(60, 64, 67, 0.3), 0px 1px 3px 1px rgba(60, 64, 67, 0.15);\n",
              "      fill: #174EA6;\n",
              "    }\n",
              "\n",
              "    [theme=dark] .colab-df-convert {\n",
              "      background-color: #3B4455;\n",
              "      fill: #D2E3FC;\n",
              "    }\n",
              "\n",
              "    [theme=dark] .colab-df-convert:hover {\n",
              "      background-color: #434B5C;\n",
              "      box-shadow: 0px 1px 3px 1px rgba(0, 0, 0, 0.15);\n",
              "      filter: drop-shadow(0px 1px 2px rgba(0, 0, 0, 0.3));\n",
              "      fill: #FFFFFF;\n",
              "    }\n",
              "  </style>\n",
              "\n",
              "      <script>\n",
              "        const buttonEl =\n",
              "          document.querySelector('#df-d6dffab1-a8d8-4b06-8d22-42219a5ef48b button.colab-df-convert');\n",
              "        buttonEl.style.display =\n",
              "          google.colab.kernel.accessAllowed ? 'block' : 'none';\n",
              "\n",
              "        async function convertToInteractive(key) {\n",
              "          const element = document.querySelector('#df-d6dffab1-a8d8-4b06-8d22-42219a5ef48b');\n",
              "          const dataTable =\n",
              "            await google.colab.kernel.invokeFunction('convertToInteractive',\n",
              "                                                     [key], {});\n",
              "          if (!dataTable) return;\n",
              "\n",
              "          const docLinkHtml = 'Like what you see? Visit the ' +\n",
              "            '<a target=\"_blank\" href=https://colab.research.google.com/notebooks/data_table.ipynb>data table notebook</a>'\n",
              "            + ' to learn more about interactive tables.';\n",
              "          element.innerHTML = '';\n",
              "          dataTable['output_type'] = 'display_data';\n",
              "          await google.colab.output.renderOutput(dataTable, element);\n",
              "          const docLink = document.createElement('div');\n",
              "          docLink.innerHTML = docLinkHtml;\n",
              "          element.appendChild(docLink);\n",
              "        }\n",
              "      </script>\n",
              "    </div>\n",
              "  </div>\n",
              "  "
            ],
            "text/plain": [
              "   Month Number START PERIOD END PERIOD REPORT RUN PERIOD  REPORT MONTH  \\\n",
              "0             0   2018-02-01 2018-02-28           02/2018             2   \n",
              "1             0   2018-02-01 2018-02-28           02/2018             2   \n",
              "2             0   2018-02-01 2018-02-28           02/2018             2   \n",
              "\n",
              "   YTD FLAG Academic Year  FIN YTD START FLAG  FIN YTD START POS  \\\n",
              "0         1         17/18                   0                  0   \n",
              "1         1         17/18                   0                  0   \n",
              "2         1         17/18                   0                  0   \n",
              "\n",
              "   YTD START FLAG - Person  ...  START DATE OCCUPANCY  END DATE OCCUPANCY  \\\n",
              "0                        0  ...                   NaT                 NaT   \n",
              "1                        0  ...                   NaT                 NaT   \n",
              "2                        0  ...                   NaT                 NaT   \n",
              "\n",
              "   Expected Occupancy End Reason  ORG PARTY ID  POSITION ID  \\\n",
              "0                            NaN    740974004Y   1950110spi   \n",
              "1                            NaN    740974004Y   2102900LiG   \n",
              "2                            NaN    740974004Y   32054807if   \n",
              "\n",
              "   PARTY LNK ID OCCUPANCY  PERSON ID  distinct person id  Unnamed: 89  \\\n",
              "0                     NaN        NaN                   0          NaN   \n",
              "1                     NaN        NaN                   0          NaN   \n",
              "2                     NaN        NaN                   0          NaN   \n",
              "\n",
              "   distinct position id  \n",
              "0                     1  \n",
              "1                     1  \n",
              "2                     1  \n",
              "\n",
              "[3 rows x 91 columns]"
            ]
          },
          "execution_count": 7,
          "metadata": {},
          "output_type": "execute_result"
        }
      ],
      "source": [
        "A.head(3)"
      ],
      "id": "33026291"
    },
    {
      "cell_type": "code",
      "execution_count": null,
      "metadata": {
        "colab": {
          "base_uri": "https://localhost:8080/",
          "height": 358
        },
        "id": "4d2c8831",
        "outputId": "0d05445d-1cb7-451e-e558-97c90cfac0dd"
      },
      "outputs": [
        {
          "data": {
            "text/html": [
              "\n",
              "  <div id=\"df-fa3eb9b6-de2a-4790-ae28-6d67b31575d1\">\n",
              "    <div class=\"colab-df-container\">\n",
              "      <div>\n",
              "<style scoped>\n",
              "    .dataframe tbody tr th:only-of-type {\n",
              "        vertical-align: middle;\n",
              "    }\n",
              "\n",
              "    .dataframe tbody tr th {\n",
              "        vertical-align: top;\n",
              "    }\n",
              "\n",
              "    .dataframe thead th {\n",
              "        text-align: right;\n",
              "    }\n",
              "</style>\n",
              "<table border=\"1\" class=\"dataframe\">\n",
              "  <thead>\n",
              "    <tr style=\"text-align: right;\">\n",
              "      <th></th>\n",
              "      <th>Month Number</th>\n",
              "      <th>START PERIOD</th>\n",
              "      <th>END PERIOD</th>\n",
              "      <th>REPORT RUN PERIOD</th>\n",
              "      <th>REPORT MONTH</th>\n",
              "      <th>YTD FLAG</th>\n",
              "      <th>Academic Year</th>\n",
              "      <th>FIN YTD START FLAG</th>\n",
              "      <th>FIN YTD START POS</th>\n",
              "      <th>YTD START FLAG - Person</th>\n",
              "      <th>...</th>\n",
              "      <th>START DATE OCCUPANCY</th>\n",
              "      <th>END DATE OCCUPANCY</th>\n",
              "      <th>Expected Occupancy End Reason</th>\n",
              "      <th>ORG PARTY ID</th>\n",
              "      <th>POSITION ID</th>\n",
              "      <th>PARTY LNK ID OCCUPANCY</th>\n",
              "      <th>PERSON ID</th>\n",
              "      <th>distinct person id</th>\n",
              "      <th>Unnamed: 89</th>\n",
              "      <th>distinct position id</th>\n",
              "    </tr>\n",
              "  </thead>\n",
              "  <tbody>\n",
              "    <tr>\n",
              "      <th>0</th>\n",
              "      <td>0</td>\n",
              "      <td>2019-02-01</td>\n",
              "      <td>2019-02-28</td>\n",
              "      <td>02/2019</td>\n",
              "      <td>2</td>\n",
              "      <td>1</td>\n",
              "      <td>18/19</td>\n",
              "      <td>0</td>\n",
              "      <td>0</td>\n",
              "      <td>0</td>\n",
              "      <td>...</td>\n",
              "      <td>NaT</td>\n",
              "      <td>NaT</td>\n",
              "      <td>NaN</td>\n",
              "      <td>740974004Y</td>\n",
              "      <td>39330321kR</td>\n",
              "      <td>NaN</td>\n",
              "      <td>NaN</td>\n",
              "      <td>0</td>\n",
              "      <td>NaN</td>\n",
              "      <td>1</td>\n",
              "    </tr>\n",
              "    <tr>\n",
              "      <th>1</th>\n",
              "      <td>0</td>\n",
              "      <td>2019-02-01</td>\n",
              "      <td>2019-02-28</td>\n",
              "      <td>02/2019</td>\n",
              "      <td>2</td>\n",
              "      <td>1</td>\n",
              "      <td>18/19</td>\n",
              "      <td>0</td>\n",
              "      <td>0</td>\n",
              "      <td>0</td>\n",
              "      <td>...</td>\n",
              "      <td>2018-08-01</td>\n",
              "      <td>2020-04-30</td>\n",
              "      <td>NaN</td>\n",
              "      <td>740974004Y</td>\n",
              "      <td>2095201Qg6</td>\n",
              "      <td>4114111Qg6</td>\n",
              "      <td>43616601YZ</td>\n",
              "      <td>1</td>\n",
              "      <td>NaN</td>\n",
              "      <td>1</td>\n",
              "    </tr>\n",
              "    <tr>\n",
              "      <th>2</th>\n",
              "      <td>0</td>\n",
              "      <td>2019-02-01</td>\n",
              "      <td>2019-02-28</td>\n",
              "      <td>02/2019</td>\n",
              "      <td>2</td>\n",
              "      <td>1</td>\n",
              "      <td>18/19</td>\n",
              "      <td>0</td>\n",
              "      <td>0</td>\n",
              "      <td>0</td>\n",
              "      <td>...</td>\n",
              "      <td>2019-01-10</td>\n",
              "      <td>2019-12-31</td>\n",
              "      <td>Occasional Worker Contract</td>\n",
              "      <td>740974004Y</td>\n",
              "      <td>6412671vGm</td>\n",
              "      <td>8100261vGm</td>\n",
              "      <td>0279480NN0</td>\n",
              "      <td>1</td>\n",
              "      <td>NaN</td>\n",
              "      <td>1</td>\n",
              "    </tr>\n",
              "  </tbody>\n",
              "</table>\n",
              "<p>3 rows × 91 columns</p>\n",
              "</div>\n",
              "      <button class=\"colab-df-convert\" onclick=\"convertToInteractive('df-fa3eb9b6-de2a-4790-ae28-6d67b31575d1')\"\n",
              "              title=\"Convert this dataframe to an interactive table.\"\n",
              "              style=\"display:none;\">\n",
              "        \n",
              "  <svg xmlns=\"http://www.w3.org/2000/svg\" height=\"24px\"viewBox=\"0 0 24 24\"\n",
              "       width=\"24px\">\n",
              "    <path d=\"M0 0h24v24H0V0z\" fill=\"none\"/>\n",
              "    <path d=\"M18.56 5.44l.94 2.06.94-2.06 2.06-.94-2.06-.94-.94-2.06-.94 2.06-2.06.94zm-11 1L8.5 8.5l.94-2.06 2.06-.94-2.06-.94L8.5 2.5l-.94 2.06-2.06.94zm10 10l.94 2.06.94-2.06 2.06-.94-2.06-.94-.94-2.06-.94 2.06-2.06.94z\"/><path d=\"M17.41 7.96l-1.37-1.37c-.4-.4-.92-.59-1.43-.59-.52 0-1.04.2-1.43.59L10.3 9.45l-7.72 7.72c-.78.78-.78 2.05 0 2.83L4 21.41c.39.39.9.59 1.41.59.51 0 1.02-.2 1.41-.59l7.78-7.78 2.81-2.81c.8-.78.8-2.07 0-2.86zM5.41 20L4 18.59l7.72-7.72 1.47 1.35L5.41 20z\"/>\n",
              "  </svg>\n",
              "      </button>\n",
              "      \n",
              "  <style>\n",
              "    .colab-df-container {\n",
              "      display:flex;\n",
              "      flex-wrap:wrap;\n",
              "      gap: 12px;\n",
              "    }\n",
              "\n",
              "    .colab-df-convert {\n",
              "      background-color: #E8F0FE;\n",
              "      border: none;\n",
              "      border-radius: 50%;\n",
              "      cursor: pointer;\n",
              "      display: none;\n",
              "      fill: #1967D2;\n",
              "      height: 32px;\n",
              "      padding: 0 0 0 0;\n",
              "      width: 32px;\n",
              "    }\n",
              "\n",
              "    .colab-df-convert:hover {\n",
              "      background-color: #E2EBFA;\n",
              "      box-shadow: 0px 1px 2px rgba(60, 64, 67, 0.3), 0px 1px 3px 1px rgba(60, 64, 67, 0.15);\n",
              "      fill: #174EA6;\n",
              "    }\n",
              "\n",
              "    [theme=dark] .colab-df-convert {\n",
              "      background-color: #3B4455;\n",
              "      fill: #D2E3FC;\n",
              "    }\n",
              "\n",
              "    [theme=dark] .colab-df-convert:hover {\n",
              "      background-color: #434B5C;\n",
              "      box-shadow: 0px 1px 3px 1px rgba(0, 0, 0, 0.15);\n",
              "      filter: drop-shadow(0px 1px 2px rgba(0, 0, 0, 0.3));\n",
              "      fill: #FFFFFF;\n",
              "    }\n",
              "  </style>\n",
              "\n",
              "      <script>\n",
              "        const buttonEl =\n",
              "          document.querySelector('#df-fa3eb9b6-de2a-4790-ae28-6d67b31575d1 button.colab-df-convert');\n",
              "        buttonEl.style.display =\n",
              "          google.colab.kernel.accessAllowed ? 'block' : 'none';\n",
              "\n",
              "        async function convertToInteractive(key) {\n",
              "          const element = document.querySelector('#df-fa3eb9b6-de2a-4790-ae28-6d67b31575d1');\n",
              "          const dataTable =\n",
              "            await google.colab.kernel.invokeFunction('convertToInteractive',\n",
              "                                                     [key], {});\n",
              "          if (!dataTable) return;\n",
              "\n",
              "          const docLinkHtml = 'Like what you see? Visit the ' +\n",
              "            '<a target=\"_blank\" href=https://colab.research.google.com/notebooks/data_table.ipynb>data table notebook</a>'\n",
              "            + ' to learn more about interactive tables.';\n",
              "          element.innerHTML = '';\n",
              "          dataTable['output_type'] = 'display_data';\n",
              "          await google.colab.output.renderOutput(dataTable, element);\n",
              "          const docLink = document.createElement('div');\n",
              "          docLink.innerHTML = docLinkHtml;\n",
              "          element.appendChild(docLink);\n",
              "        }\n",
              "      </script>\n",
              "    </div>\n",
              "  </div>\n",
              "  "
            ],
            "text/plain": [
              "   Month Number START PERIOD END PERIOD REPORT RUN PERIOD  REPORT MONTH  \\\n",
              "0             0   2019-02-01 2019-02-28           02/2019             2   \n",
              "1             0   2019-02-01 2019-02-28           02/2019             2   \n",
              "2             0   2019-02-01 2019-02-28           02/2019             2   \n",
              "\n",
              "   YTD FLAG Academic Year  FIN YTD START FLAG  FIN YTD START POS  \\\n",
              "0         1         18/19                   0                  0   \n",
              "1         1         18/19                   0                  0   \n",
              "2         1         18/19                   0                  0   \n",
              "\n",
              "   YTD START FLAG - Person  ...  START DATE OCCUPANCY  END DATE OCCUPANCY  \\\n",
              "0                        0  ...                   NaT                 NaT   \n",
              "1                        0  ...            2018-08-01          2020-04-30   \n",
              "2                        0  ...            2019-01-10          2019-12-31   \n",
              "\n",
              "   Expected Occupancy End Reason  ORG PARTY ID  POSITION ID  \\\n",
              "0                            NaN    740974004Y   39330321kR   \n",
              "1                            NaN    740974004Y   2095201Qg6   \n",
              "2     Occasional Worker Contract    740974004Y   6412671vGm   \n",
              "\n",
              "   PARTY LNK ID OCCUPANCY   PERSON ID  distinct person id  Unnamed: 89  \\\n",
              "0                     NaN         NaN                   0          NaN   \n",
              "1              4114111Qg6  43616601YZ                   1          NaN   \n",
              "2              8100261vGm  0279480NN0                   1          NaN   \n",
              "\n",
              "   distinct position id  \n",
              "0                     1  \n",
              "1                     1  \n",
              "2                     1  \n",
              "\n",
              "[3 rows x 91 columns]"
            ]
          },
          "execution_count": 8,
          "metadata": {},
          "output_type": "execute_result"
        }
      ],
      "source": [
        "B.head(3)"
      ],
      "id": "4d2c8831"
    },
    {
      "cell_type": "code",
      "execution_count": null,
      "metadata": {
        "colab": {
          "base_uri": "https://localhost:8080/",
          "height": 341
        },
        "id": "ad564050",
        "outputId": "a23eef0c-7240-4ef6-c5ba-4447c7d47ea5"
      },
      "outputs": [
        {
          "data": {
            "text/html": [
              "\n",
              "  <div id=\"df-00dcb614-57f3-486e-815c-4c2be402dbdf\">\n",
              "    <div class=\"colab-df-container\">\n",
              "      <div>\n",
              "<style scoped>\n",
              "    .dataframe tbody tr th:only-of-type {\n",
              "        vertical-align: middle;\n",
              "    }\n",
              "\n",
              "    .dataframe tbody tr th {\n",
              "        vertical-align: top;\n",
              "    }\n",
              "\n",
              "    .dataframe thead th {\n",
              "        text-align: right;\n",
              "    }\n",
              "</style>\n",
              "<table border=\"1\" class=\"dataframe\">\n",
              "  <thead>\n",
              "    <tr style=\"text-align: right;\">\n",
              "      <th></th>\n",
              "      <th>Month Number</th>\n",
              "      <th>START PERIOD</th>\n",
              "      <th>END PERIOD</th>\n",
              "      <th>REPORT RUN PERIOD</th>\n",
              "      <th>REPORT MONTH</th>\n",
              "      <th>YTD FLAG</th>\n",
              "      <th>Academic Year</th>\n",
              "      <th>FIN YTD START FLAG</th>\n",
              "      <th>FIN YTD START POS</th>\n",
              "      <th>YTD START FLAG - Person</th>\n",
              "      <th>...</th>\n",
              "      <th>START DATE OCCUPANCY</th>\n",
              "      <th>END DATE OCCUPANCY</th>\n",
              "      <th>Expected Occupancy End Reason</th>\n",
              "      <th>ORG PARTY ID</th>\n",
              "      <th>POSITION ID</th>\n",
              "      <th>PARTY LNK ID OCCUPANCY</th>\n",
              "      <th>PERSON ID</th>\n",
              "      <th>distinct person id</th>\n",
              "      <th>Unnamed: 89</th>\n",
              "      <th>distinct position id</th>\n",
              "    </tr>\n",
              "  </thead>\n",
              "  <tbody>\n",
              "    <tr>\n",
              "      <th>0</th>\n",
              "      <td>0</td>\n",
              "      <td>2020-04-01</td>\n",
              "      <td>2020-04-30</td>\n",
              "      <td>04/2020</td>\n",
              "      <td>4</td>\n",
              "      <td>1</td>\n",
              "      <td>19/20</td>\n",
              "      <td>0</td>\n",
              "      <td>0</td>\n",
              "      <td>0</td>\n",
              "      <td>...</td>\n",
              "      <td>2019-01-01</td>\n",
              "      <td>2020-07-31</td>\n",
              "      <td>NaN</td>\n",
              "      <td>740974004Y</td>\n",
              "      <td>4023981tM3</td>\n",
              "      <td>3164661tM3</td>\n",
              "      <td>2885250BiC</td>\n",
              "      <td>1</td>\n",
              "      <td>NaN</td>\n",
              "      <td>1</td>\n",
              "    </tr>\n",
              "    <tr>\n",
              "      <th>1</th>\n",
              "      <td>0</td>\n",
              "      <td>2020-04-01</td>\n",
              "      <td>2020-04-30</td>\n",
              "      <td>04/2020</td>\n",
              "      <td>4</td>\n",
              "      <td>1</td>\n",
              "      <td>19/20</td>\n",
              "      <td>0</td>\n",
              "      <td>0</td>\n",
              "      <td>0</td>\n",
              "      <td>...</td>\n",
              "      <td>NaT</td>\n",
              "      <td>NaT</td>\n",
              "      <td>NaN</td>\n",
              "      <td>740974004Y</td>\n",
              "      <td>45440701YW</td>\n",
              "      <td>NaN</td>\n",
              "      <td>NaN</td>\n",
              "      <td>0</td>\n",
              "      <td>NaN</td>\n",
              "      <td>1</td>\n",
              "    </tr>\n",
              "    <tr>\n",
              "      <th>2</th>\n",
              "      <td>0</td>\n",
              "      <td>2020-04-01</td>\n",
              "      <td>2020-04-30</td>\n",
              "      <td>04/2020</td>\n",
              "      <td>4</td>\n",
              "      <td>1</td>\n",
              "      <td>19/20</td>\n",
              "      <td>0</td>\n",
              "      <td>0</td>\n",
              "      <td>0</td>\n",
              "      <td>...</td>\n",
              "      <td>2019-10-07</td>\n",
              "      <td>2021-08-31</td>\n",
              "      <td>NaN</td>\n",
              "      <td>740974004Y</td>\n",
              "      <td>7632452tma</td>\n",
              "      <td>0731832tma</td>\n",
              "      <td>9384112YE2</td>\n",
              "      <td>1</td>\n",
              "      <td>NaN</td>\n",
              "      <td>1</td>\n",
              "    </tr>\n",
              "  </tbody>\n",
              "</table>\n",
              "<p>3 rows × 91 columns</p>\n",
              "</div>\n",
              "      <button class=\"colab-df-convert\" onclick=\"convertToInteractive('df-00dcb614-57f3-486e-815c-4c2be402dbdf')\"\n",
              "              title=\"Convert this dataframe to an interactive table.\"\n",
              "              style=\"display:none;\">\n",
              "        \n",
              "  <svg xmlns=\"http://www.w3.org/2000/svg\" height=\"24px\"viewBox=\"0 0 24 24\"\n",
              "       width=\"24px\">\n",
              "    <path d=\"M0 0h24v24H0V0z\" fill=\"none\"/>\n",
              "    <path d=\"M18.56 5.44l.94 2.06.94-2.06 2.06-.94-2.06-.94-.94-2.06-.94 2.06-2.06.94zm-11 1L8.5 8.5l.94-2.06 2.06-.94-2.06-.94L8.5 2.5l-.94 2.06-2.06.94zm10 10l.94 2.06.94-2.06 2.06-.94-2.06-.94-.94-2.06-.94 2.06-2.06.94z\"/><path d=\"M17.41 7.96l-1.37-1.37c-.4-.4-.92-.59-1.43-.59-.52 0-1.04.2-1.43.59L10.3 9.45l-7.72 7.72c-.78.78-.78 2.05 0 2.83L4 21.41c.39.39.9.59 1.41.59.51 0 1.02-.2 1.41-.59l7.78-7.78 2.81-2.81c.8-.78.8-2.07 0-2.86zM5.41 20L4 18.59l7.72-7.72 1.47 1.35L5.41 20z\"/>\n",
              "  </svg>\n",
              "      </button>\n",
              "      \n",
              "  <style>\n",
              "    .colab-df-container {\n",
              "      display:flex;\n",
              "      flex-wrap:wrap;\n",
              "      gap: 12px;\n",
              "    }\n",
              "\n",
              "    .colab-df-convert {\n",
              "      background-color: #E8F0FE;\n",
              "      border: none;\n",
              "      border-radius: 50%;\n",
              "      cursor: pointer;\n",
              "      display: none;\n",
              "      fill: #1967D2;\n",
              "      height: 32px;\n",
              "      padding: 0 0 0 0;\n",
              "      width: 32px;\n",
              "    }\n",
              "\n",
              "    .colab-df-convert:hover {\n",
              "      background-color: #E2EBFA;\n",
              "      box-shadow: 0px 1px 2px rgba(60, 64, 67, 0.3), 0px 1px 3px 1px rgba(60, 64, 67, 0.15);\n",
              "      fill: #174EA6;\n",
              "    }\n",
              "\n",
              "    [theme=dark] .colab-df-convert {\n",
              "      background-color: #3B4455;\n",
              "      fill: #D2E3FC;\n",
              "    }\n",
              "\n",
              "    [theme=dark] .colab-df-convert:hover {\n",
              "      background-color: #434B5C;\n",
              "      box-shadow: 0px 1px 3px 1px rgba(0, 0, 0, 0.15);\n",
              "      filter: drop-shadow(0px 1px 2px rgba(0, 0, 0, 0.3));\n",
              "      fill: #FFFFFF;\n",
              "    }\n",
              "  </style>\n",
              "\n",
              "      <script>\n",
              "        const buttonEl =\n",
              "          document.querySelector('#df-00dcb614-57f3-486e-815c-4c2be402dbdf button.colab-df-convert');\n",
              "        buttonEl.style.display =\n",
              "          google.colab.kernel.accessAllowed ? 'block' : 'none';\n",
              "\n",
              "        async function convertToInteractive(key) {\n",
              "          const element = document.querySelector('#df-00dcb614-57f3-486e-815c-4c2be402dbdf');\n",
              "          const dataTable =\n",
              "            await google.colab.kernel.invokeFunction('convertToInteractive',\n",
              "                                                     [key], {});\n",
              "          if (!dataTable) return;\n",
              "\n",
              "          const docLinkHtml = 'Like what you see? Visit the ' +\n",
              "            '<a target=\"_blank\" href=https://colab.research.google.com/notebooks/data_table.ipynb>data table notebook</a>'\n",
              "            + ' to learn more about interactive tables.';\n",
              "          element.innerHTML = '';\n",
              "          dataTable['output_type'] = 'display_data';\n",
              "          await google.colab.output.renderOutput(dataTable, element);\n",
              "          const docLink = document.createElement('div');\n",
              "          docLink.innerHTML = docLinkHtml;\n",
              "          element.appendChild(docLink);\n",
              "        }\n",
              "      </script>\n",
              "    </div>\n",
              "  </div>\n",
              "  "
            ],
            "text/plain": [
              "   Month Number START PERIOD END PERIOD REPORT RUN PERIOD  REPORT MONTH  \\\n",
              "0             0   2020-04-01 2020-04-30           04/2020             4   \n",
              "1             0   2020-04-01 2020-04-30           04/2020             4   \n",
              "2             0   2020-04-01 2020-04-30           04/2020             4   \n",
              "\n",
              "   YTD FLAG Academic Year  FIN YTD START FLAG  FIN YTD START POS  \\\n",
              "0         1         19/20                   0                  0   \n",
              "1         1         19/20                   0                  0   \n",
              "2         1         19/20                   0                  0   \n",
              "\n",
              "   YTD START FLAG - Person  ...  START DATE OCCUPANCY  END DATE OCCUPANCY  \\\n",
              "0                        0  ...            2019-01-01          2020-07-31   \n",
              "1                        0  ...                   NaT                 NaT   \n",
              "2                        0  ...            2019-10-07          2021-08-31   \n",
              "\n",
              "   Expected Occupancy End Reason  ORG PARTY ID  POSITION ID  \\\n",
              "0                            NaN    740974004Y   4023981tM3   \n",
              "1                            NaN    740974004Y   45440701YW   \n",
              "2                            NaN    740974004Y   7632452tma   \n",
              "\n",
              "   PARTY LNK ID OCCUPANCY   PERSON ID  distinct person id  Unnamed: 89  \\\n",
              "0              3164661tM3  2885250BiC                   1          NaN   \n",
              "1                     NaN         NaN                   0          NaN   \n",
              "2              0731832tma  9384112YE2                   1          NaN   \n",
              "\n",
              "   distinct position id  \n",
              "0                     1  \n",
              "1                     1  \n",
              "2                     1  \n",
              "\n",
              "[3 rows x 91 columns]"
            ]
          },
          "execution_count": 9,
          "metadata": {},
          "output_type": "execute_result"
        }
      ],
      "source": [
        "C.head(3)"
      ],
      "id": "ad564050"
    },
    {
      "cell_type": "code",
      "execution_count": null,
      "metadata": {
        "colab": {
          "base_uri": "https://localhost:8080/",
          "height": 341
        },
        "id": "f039207c",
        "outputId": "a6d73ae4-7632-487b-94ff-719a6def7a07",
        "scrolled": true
      },
      "outputs": [
        {
          "data": {
            "text/html": [
              "\n",
              "  <div id=\"df-d9e9e073-37ea-4909-93d9-92290f57a7d2\">\n",
              "    <div class=\"colab-df-container\">\n",
              "      <div>\n",
              "<style scoped>\n",
              "    .dataframe tbody tr th:only-of-type {\n",
              "        vertical-align: middle;\n",
              "    }\n",
              "\n",
              "    .dataframe tbody tr th {\n",
              "        vertical-align: top;\n",
              "    }\n",
              "\n",
              "    .dataframe thead th {\n",
              "        text-align: right;\n",
              "    }\n",
              "</style>\n",
              "<table border=\"1\" class=\"dataframe\">\n",
              "  <thead>\n",
              "    <tr style=\"text-align: right;\">\n",
              "      <th></th>\n",
              "      <th>Month Number</th>\n",
              "      <th>START PERIOD</th>\n",
              "      <th>END PERIOD</th>\n",
              "      <th>REPORT RUN PERIOD</th>\n",
              "      <th>REPORT MONTH</th>\n",
              "      <th>YTD FLAG</th>\n",
              "      <th>Academic Year</th>\n",
              "      <th>FIN YTD START FLAG</th>\n",
              "      <th>FIN YTD START POS</th>\n",
              "      <th>YTD START FLAG - Person</th>\n",
              "      <th>...</th>\n",
              "      <th>START DATE OCCUPANCY</th>\n",
              "      <th>END DATE OCCUPANCY</th>\n",
              "      <th>Expected Occupancy End Reason</th>\n",
              "      <th>ORG PARTY ID</th>\n",
              "      <th>POSITION ID</th>\n",
              "      <th>PARTY LNK ID OCCUPANCY</th>\n",
              "      <th>PERSON ID</th>\n",
              "      <th>distinct person id</th>\n",
              "      <th>Unnamed: 89</th>\n",
              "      <th>distinct position id</th>\n",
              "    </tr>\n",
              "  </thead>\n",
              "  <tbody>\n",
              "    <tr>\n",
              "      <th>0</th>\n",
              "      <td>0</td>\n",
              "      <td>2021-02-01</td>\n",
              "      <td>2021-02-28</td>\n",
              "      <td>02/2021</td>\n",
              "      <td>2</td>\n",
              "      <td>1</td>\n",
              "      <td>20/21</td>\n",
              "      <td>0</td>\n",
              "      <td>0</td>\n",
              "      <td>0</td>\n",
              "      <td>...</td>\n",
              "      <td>NaT</td>\n",
              "      <td>NaT</td>\n",
              "      <td>NaN</td>\n",
              "      <td>740974004Y</td>\n",
              "      <td>2925091B9P</td>\n",
              "      <td>NaN</td>\n",
              "      <td>NaN</td>\n",
              "      <td>0</td>\n",
              "      <td>NaN</td>\n",
              "      <td>1</td>\n",
              "    </tr>\n",
              "    <tr>\n",
              "      <th>1</th>\n",
              "      <td>0</td>\n",
              "      <td>2021-02-01</td>\n",
              "      <td>2021-02-28</td>\n",
              "      <td>02/2021</td>\n",
              "      <td>2</td>\n",
              "      <td>1</td>\n",
              "      <td>20/21</td>\n",
              "      <td>0</td>\n",
              "      <td>0</td>\n",
              "      <td>0</td>\n",
              "      <td>...</td>\n",
              "      <td>NaT</td>\n",
              "      <td>NaT</td>\n",
              "      <td>NaN</td>\n",
              "      <td>740974004Y</td>\n",
              "      <td>55057901YW</td>\n",
              "      <td>NaN</td>\n",
              "      <td>NaN</td>\n",
              "      <td>0</td>\n",
              "      <td>NaN</td>\n",
              "      <td>1</td>\n",
              "    </tr>\n",
              "    <tr>\n",
              "      <th>2</th>\n",
              "      <td>0</td>\n",
              "      <td>2021-02-01</td>\n",
              "      <td>2021-02-28</td>\n",
              "      <td>02/2021</td>\n",
              "      <td>2</td>\n",
              "      <td>1</td>\n",
              "      <td>20/21</td>\n",
              "      <td>0</td>\n",
              "      <td>0</td>\n",
              "      <td>0</td>\n",
              "      <td>...</td>\n",
              "      <td>NaT</td>\n",
              "      <td>NaT</td>\n",
              "      <td>NaN</td>\n",
              "      <td>740974004Y</td>\n",
              "      <td>7892541AJz</td>\n",
              "      <td>NaN</td>\n",
              "      <td>NaN</td>\n",
              "      <td>0</td>\n",
              "      <td>NaN</td>\n",
              "      <td>1</td>\n",
              "    </tr>\n",
              "  </tbody>\n",
              "</table>\n",
              "<p>3 rows × 91 columns</p>\n",
              "</div>\n",
              "      <button class=\"colab-df-convert\" onclick=\"convertToInteractive('df-d9e9e073-37ea-4909-93d9-92290f57a7d2')\"\n",
              "              title=\"Convert this dataframe to an interactive table.\"\n",
              "              style=\"display:none;\">\n",
              "        \n",
              "  <svg xmlns=\"http://www.w3.org/2000/svg\" height=\"24px\"viewBox=\"0 0 24 24\"\n",
              "       width=\"24px\">\n",
              "    <path d=\"M0 0h24v24H0V0z\" fill=\"none\"/>\n",
              "    <path d=\"M18.56 5.44l.94 2.06.94-2.06 2.06-.94-2.06-.94-.94-2.06-.94 2.06-2.06.94zm-11 1L8.5 8.5l.94-2.06 2.06-.94-2.06-.94L8.5 2.5l-.94 2.06-2.06.94zm10 10l.94 2.06.94-2.06 2.06-.94-2.06-.94-.94-2.06-.94 2.06-2.06.94z\"/><path d=\"M17.41 7.96l-1.37-1.37c-.4-.4-.92-.59-1.43-.59-.52 0-1.04.2-1.43.59L10.3 9.45l-7.72 7.72c-.78.78-.78 2.05 0 2.83L4 21.41c.39.39.9.59 1.41.59.51 0 1.02-.2 1.41-.59l7.78-7.78 2.81-2.81c.8-.78.8-2.07 0-2.86zM5.41 20L4 18.59l7.72-7.72 1.47 1.35L5.41 20z\"/>\n",
              "  </svg>\n",
              "      </button>\n",
              "      \n",
              "  <style>\n",
              "    .colab-df-container {\n",
              "      display:flex;\n",
              "      flex-wrap:wrap;\n",
              "      gap: 12px;\n",
              "    }\n",
              "\n",
              "    .colab-df-convert {\n",
              "      background-color: #E8F0FE;\n",
              "      border: none;\n",
              "      border-radius: 50%;\n",
              "      cursor: pointer;\n",
              "      display: none;\n",
              "      fill: #1967D2;\n",
              "      height: 32px;\n",
              "      padding: 0 0 0 0;\n",
              "      width: 32px;\n",
              "    }\n",
              "\n",
              "    .colab-df-convert:hover {\n",
              "      background-color: #E2EBFA;\n",
              "      box-shadow: 0px 1px 2px rgba(60, 64, 67, 0.3), 0px 1px 3px 1px rgba(60, 64, 67, 0.15);\n",
              "      fill: #174EA6;\n",
              "    }\n",
              "\n",
              "    [theme=dark] .colab-df-convert {\n",
              "      background-color: #3B4455;\n",
              "      fill: #D2E3FC;\n",
              "    }\n",
              "\n",
              "    [theme=dark] .colab-df-convert:hover {\n",
              "      background-color: #434B5C;\n",
              "      box-shadow: 0px 1px 3px 1px rgba(0, 0, 0, 0.15);\n",
              "      filter: drop-shadow(0px 1px 2px rgba(0, 0, 0, 0.3));\n",
              "      fill: #FFFFFF;\n",
              "    }\n",
              "  </style>\n",
              "\n",
              "      <script>\n",
              "        const buttonEl =\n",
              "          document.querySelector('#df-d9e9e073-37ea-4909-93d9-92290f57a7d2 button.colab-df-convert');\n",
              "        buttonEl.style.display =\n",
              "          google.colab.kernel.accessAllowed ? 'block' : 'none';\n",
              "\n",
              "        async function convertToInteractive(key) {\n",
              "          const element = document.querySelector('#df-d9e9e073-37ea-4909-93d9-92290f57a7d2');\n",
              "          const dataTable =\n",
              "            await google.colab.kernel.invokeFunction('convertToInteractive',\n",
              "                                                     [key], {});\n",
              "          if (!dataTable) return;\n",
              "\n",
              "          const docLinkHtml = 'Like what you see? Visit the ' +\n",
              "            '<a target=\"_blank\" href=https://colab.research.google.com/notebooks/data_table.ipynb>data table notebook</a>'\n",
              "            + ' to learn more about interactive tables.';\n",
              "          element.innerHTML = '';\n",
              "          dataTable['output_type'] = 'display_data';\n",
              "          await google.colab.output.renderOutput(dataTable, element);\n",
              "          const docLink = document.createElement('div');\n",
              "          docLink.innerHTML = docLinkHtml;\n",
              "          element.appendChild(docLink);\n",
              "        }\n",
              "      </script>\n",
              "    </div>\n",
              "  </div>\n",
              "  "
            ],
            "text/plain": [
              "   Month Number START PERIOD END PERIOD REPORT RUN PERIOD  REPORT MONTH  \\\n",
              "0             0   2021-02-01 2021-02-28           02/2021             2   \n",
              "1             0   2021-02-01 2021-02-28           02/2021             2   \n",
              "2             0   2021-02-01 2021-02-28           02/2021             2   \n",
              "\n",
              "   YTD FLAG Academic Year  FIN YTD START FLAG  FIN YTD START POS  \\\n",
              "0         1         20/21                   0                  0   \n",
              "1         1         20/21                   0                  0   \n",
              "2         1         20/21                   0                  0   \n",
              "\n",
              "   YTD START FLAG - Person  ...  START DATE OCCUPANCY  END DATE OCCUPANCY  \\\n",
              "0                        0  ...                   NaT                 NaT   \n",
              "1                        0  ...                   NaT                 NaT   \n",
              "2                        0  ...                   NaT                 NaT   \n",
              "\n",
              "   Expected Occupancy End Reason  ORG PARTY ID  POSITION ID  \\\n",
              "0                            NaN    740974004Y   2925091B9P   \n",
              "1                            NaN    740974004Y   55057901YW   \n",
              "2                            NaN    740974004Y   7892541AJz   \n",
              "\n",
              "   PARTY LNK ID OCCUPANCY  PERSON ID  distinct person id  Unnamed: 89  \\\n",
              "0                     NaN        NaN                   0          NaN   \n",
              "1                     NaN        NaN                   0          NaN   \n",
              "2                     NaN        NaN                   0          NaN   \n",
              "\n",
              "   distinct position id  \n",
              "0                     1  \n",
              "1                     1  \n",
              "2                     1  \n",
              "\n",
              "[3 rows x 91 columns]"
            ]
          },
          "execution_count": 10,
          "metadata": {},
          "output_type": "execute_result"
        }
      ],
      "source": [
        "D.head(3)"
      ],
      "id": "f039207c"
    },
    {
      "cell_type": "code",
      "execution_count": null,
      "metadata": {
        "colab": {
          "base_uri": "https://localhost:8080/",
          "height": 358
        },
        "id": "b56d857f",
        "outputId": "7e846efd-9639-49d0-c5bc-2dde47585bed"
      },
      "outputs": [
        {
          "data": {
            "text/html": [
              "\n",
              "  <div id=\"df-4045d663-aa8f-4a95-9aad-4436b132dbf0\">\n",
              "    <div class=\"colab-df-container\">\n",
              "      <div>\n",
              "<style scoped>\n",
              "    .dataframe tbody tr th:only-of-type {\n",
              "        vertical-align: middle;\n",
              "    }\n",
              "\n",
              "    .dataframe tbody tr th {\n",
              "        vertical-align: top;\n",
              "    }\n",
              "\n",
              "    .dataframe thead th {\n",
              "        text-align: right;\n",
              "    }\n",
              "</style>\n",
              "<table border=\"1\" class=\"dataframe\">\n",
              "  <thead>\n",
              "    <tr style=\"text-align: right;\">\n",
              "      <th></th>\n",
              "      <th>Month Number</th>\n",
              "      <th>START PERIOD</th>\n",
              "      <th>END PERIOD</th>\n",
              "      <th>REPORT RUN PERIOD</th>\n",
              "      <th>REPORT MONTH</th>\n",
              "      <th>YTD FLAG</th>\n",
              "      <th>Academic Year</th>\n",
              "      <th>FIN YTD START FLAG</th>\n",
              "      <th>FIN YTD START POS</th>\n",
              "      <th>YTD START FLAG - Person</th>\n",
              "      <th>...</th>\n",
              "      <th>START DATE OCCUPANCY</th>\n",
              "      <th>END DATE OCCUPANCY</th>\n",
              "      <th>Expected Occupancy End Reason</th>\n",
              "      <th>ORG PARTY ID</th>\n",
              "      <th>POSITION ID</th>\n",
              "      <th>PARTY LNK ID OCCUPANCY</th>\n",
              "      <th>PERSON ID</th>\n",
              "      <th>distinct person id</th>\n",
              "      <th>Unnamed: 89</th>\n",
              "      <th>distinct position id</th>\n",
              "    </tr>\n",
              "  </thead>\n",
              "  <tbody>\n",
              "    <tr>\n",
              "      <th>0</th>\n",
              "      <td>0</td>\n",
              "      <td>2022-02-01</td>\n",
              "      <td>2022-02-28</td>\n",
              "      <td>02/2022</td>\n",
              "      <td>2</td>\n",
              "      <td>1</td>\n",
              "      <td>21/22</td>\n",
              "      <td>0</td>\n",
              "      <td>0</td>\n",
              "      <td>0</td>\n",
              "      <td>...</td>\n",
              "      <td>2021-08-17</td>\n",
              "      <td>NaT</td>\n",
              "      <td>Time Limited Requirement</td>\n",
              "      <td>740974004Y</td>\n",
              "      <td>0636774lDg</td>\n",
              "      <td>7654494luD</td>\n",
              "      <td>3439144l6v</td>\n",
              "      <td>1</td>\n",
              "      <td>NaN</td>\n",
              "      <td>1</td>\n",
              "    </tr>\n",
              "    <tr>\n",
              "      <th>1</th>\n",
              "      <td>0</td>\n",
              "      <td>2022-02-01</td>\n",
              "      <td>2022-02-28</td>\n",
              "      <td>02/2022</td>\n",
              "      <td>2</td>\n",
              "      <td>1</td>\n",
              "      <td>21/22</td>\n",
              "      <td>0</td>\n",
              "      <td>0</td>\n",
              "      <td>0</td>\n",
              "      <td>...</td>\n",
              "      <td>2021-09-20</td>\n",
              "      <td>NaT</td>\n",
              "      <td>Occasional Worker Contract</td>\n",
              "      <td>740974004Y</td>\n",
              "      <td>4075844rf6</td>\n",
              "      <td>9594914rf6</td>\n",
              "      <td>4756304rf6</td>\n",
              "      <td>1</td>\n",
              "      <td>NaN</td>\n",
              "      <td>1</td>\n",
              "    </tr>\n",
              "    <tr>\n",
              "      <th>2</th>\n",
              "      <td>0</td>\n",
              "      <td>2022-02-01</td>\n",
              "      <td>2022-02-28</td>\n",
              "      <td>02/2022</td>\n",
              "      <td>2</td>\n",
              "      <td>1</td>\n",
              "      <td>21/22</td>\n",
              "      <td>0</td>\n",
              "      <td>0</td>\n",
              "      <td>0</td>\n",
              "      <td>...</td>\n",
              "      <td>2021-03-01</td>\n",
              "      <td>NaT</td>\n",
              "      <td>NaN</td>\n",
              "      <td>740974004Y</td>\n",
              "      <td>93800546mB</td>\n",
              "      <td>39215646mB</td>\n",
              "      <td>88844346mB</td>\n",
              "      <td>1</td>\n",
              "      <td>NaN</td>\n",
              "      <td>1</td>\n",
              "    </tr>\n",
              "  </tbody>\n",
              "</table>\n",
              "<p>3 rows × 91 columns</p>\n",
              "</div>\n",
              "      <button class=\"colab-df-convert\" onclick=\"convertToInteractive('df-4045d663-aa8f-4a95-9aad-4436b132dbf0')\"\n",
              "              title=\"Convert this dataframe to an interactive table.\"\n",
              "              style=\"display:none;\">\n",
              "        \n",
              "  <svg xmlns=\"http://www.w3.org/2000/svg\" height=\"24px\"viewBox=\"0 0 24 24\"\n",
              "       width=\"24px\">\n",
              "    <path d=\"M0 0h24v24H0V0z\" fill=\"none\"/>\n",
              "    <path d=\"M18.56 5.44l.94 2.06.94-2.06 2.06-.94-2.06-.94-.94-2.06-.94 2.06-2.06.94zm-11 1L8.5 8.5l.94-2.06 2.06-.94-2.06-.94L8.5 2.5l-.94 2.06-2.06.94zm10 10l.94 2.06.94-2.06 2.06-.94-2.06-.94-.94-2.06-.94 2.06-2.06.94z\"/><path d=\"M17.41 7.96l-1.37-1.37c-.4-.4-.92-.59-1.43-.59-.52 0-1.04.2-1.43.59L10.3 9.45l-7.72 7.72c-.78.78-.78 2.05 0 2.83L4 21.41c.39.39.9.59 1.41.59.51 0 1.02-.2 1.41-.59l7.78-7.78 2.81-2.81c.8-.78.8-2.07 0-2.86zM5.41 20L4 18.59l7.72-7.72 1.47 1.35L5.41 20z\"/>\n",
              "  </svg>\n",
              "      </button>\n",
              "      \n",
              "  <style>\n",
              "    .colab-df-container {\n",
              "      display:flex;\n",
              "      flex-wrap:wrap;\n",
              "      gap: 12px;\n",
              "    }\n",
              "\n",
              "    .colab-df-convert {\n",
              "      background-color: #E8F0FE;\n",
              "      border: none;\n",
              "      border-radius: 50%;\n",
              "      cursor: pointer;\n",
              "      display: none;\n",
              "      fill: #1967D2;\n",
              "      height: 32px;\n",
              "      padding: 0 0 0 0;\n",
              "      width: 32px;\n",
              "    }\n",
              "\n",
              "    .colab-df-convert:hover {\n",
              "      background-color: #E2EBFA;\n",
              "      box-shadow: 0px 1px 2px rgba(60, 64, 67, 0.3), 0px 1px 3px 1px rgba(60, 64, 67, 0.15);\n",
              "      fill: #174EA6;\n",
              "    }\n",
              "\n",
              "    [theme=dark] .colab-df-convert {\n",
              "      background-color: #3B4455;\n",
              "      fill: #D2E3FC;\n",
              "    }\n",
              "\n",
              "    [theme=dark] .colab-df-convert:hover {\n",
              "      background-color: #434B5C;\n",
              "      box-shadow: 0px 1px 3px 1px rgba(0, 0, 0, 0.15);\n",
              "      filter: drop-shadow(0px 1px 2px rgba(0, 0, 0, 0.3));\n",
              "      fill: #FFFFFF;\n",
              "    }\n",
              "  </style>\n",
              "\n",
              "      <script>\n",
              "        const buttonEl =\n",
              "          document.querySelector('#df-4045d663-aa8f-4a95-9aad-4436b132dbf0 button.colab-df-convert');\n",
              "        buttonEl.style.display =\n",
              "          google.colab.kernel.accessAllowed ? 'block' : 'none';\n",
              "\n",
              "        async function convertToInteractive(key) {\n",
              "          const element = document.querySelector('#df-4045d663-aa8f-4a95-9aad-4436b132dbf0');\n",
              "          const dataTable =\n",
              "            await google.colab.kernel.invokeFunction('convertToInteractive',\n",
              "                                                     [key], {});\n",
              "          if (!dataTable) return;\n",
              "\n",
              "          const docLinkHtml = 'Like what you see? Visit the ' +\n",
              "            '<a target=\"_blank\" href=https://colab.research.google.com/notebooks/data_table.ipynb>data table notebook</a>'\n",
              "            + ' to learn more about interactive tables.';\n",
              "          element.innerHTML = '';\n",
              "          dataTable['output_type'] = 'display_data';\n",
              "          await google.colab.output.renderOutput(dataTable, element);\n",
              "          const docLink = document.createElement('div');\n",
              "          docLink.innerHTML = docLinkHtml;\n",
              "          element.appendChild(docLink);\n",
              "        }\n",
              "      </script>\n",
              "    </div>\n",
              "  </div>\n",
              "  "
            ],
            "text/plain": [
              "   Month Number START PERIOD END PERIOD REPORT RUN PERIOD  REPORT MONTH  \\\n",
              "0             0   2022-02-01 2022-02-28           02/2022             2   \n",
              "1             0   2022-02-01 2022-02-28           02/2022             2   \n",
              "2             0   2022-02-01 2022-02-28           02/2022             2   \n",
              "\n",
              "   YTD FLAG Academic Year  FIN YTD START FLAG  FIN YTD START POS  \\\n",
              "0         1         21/22                   0                  0   \n",
              "1         1         21/22                   0                  0   \n",
              "2         1         21/22                   0                  0   \n",
              "\n",
              "   YTD START FLAG - Person  ...  START DATE OCCUPANCY  END DATE OCCUPANCY  \\\n",
              "0                        0  ...            2021-08-17                 NaT   \n",
              "1                        0  ...            2021-09-20                 NaT   \n",
              "2                        0  ...            2021-03-01                 NaT   \n",
              "\n",
              "   Expected Occupancy End Reason  ORG PARTY ID  POSITION ID  \\\n",
              "0       Time Limited Requirement    740974004Y   0636774lDg   \n",
              "1     Occasional Worker Contract    740974004Y   4075844rf6   \n",
              "2                            NaN    740974004Y   93800546mB   \n",
              "\n",
              "   PARTY LNK ID OCCUPANCY   PERSON ID  distinct person id  Unnamed: 89  \\\n",
              "0              7654494luD  3439144l6v                   1          NaN   \n",
              "1              9594914rf6  4756304rf6                   1          NaN   \n",
              "2              39215646mB  88844346mB                   1          NaN   \n",
              "\n",
              "   distinct position id  \n",
              "0                     1  \n",
              "1                     1  \n",
              "2                     1  \n",
              "\n",
              "[3 rows x 91 columns]"
            ]
          },
          "execution_count": 11,
          "metadata": {},
          "output_type": "execute_result"
        }
      ],
      "source": [
        "E.head(3)"
      ],
      "id": "b56d857f"
    },
    {
      "cell_type": "markdown",
      "metadata": {
        "id": "de3bc472"
      },
      "source": [
        "Concatinating All the files"
      ],
      "id": "de3bc472"
    },
    {
      "cell_type": "code",
      "execution_count": null,
      "metadata": {
        "id": "4ee1992b"
      },
      "outputs": [],
      "source": [
        "#Concatinating the files together for easier analysis\n",
        "dt = [A,B,C,D,E]\n",
        "df = pd.concat(dt)"
      ],
      "id": "4ee1992b"
    },
    {
      "cell_type": "code",
      "execution_count": null,
      "metadata": {
        "colab": {
          "base_uri": "https://localhost:8080/"
        },
        "id": "3b7c751d",
        "outputId": "faab808b-51fe-4df8-cc7c-5956b34d8a61"
      },
      "outputs": [
        {
          "data": {
            "text/plain": [
              "(291837, 91)"
            ]
          },
          "execution_count": 13,
          "metadata": {},
          "output_type": "execute_result"
        }
      ],
      "source": [
        "df.shape"
      ],
      "id": "3b7c751d"
    },
    {
      "cell_type": "code",
      "execution_count": null,
      "metadata": {
        "colab": {
          "base_uri": "https://localhost:8080/"
        },
        "id": "006401cd",
        "outputId": "a388f0c3-6a79-416e-ac20-bd5b37f563b5"
      },
      "outputs": [
        {
          "name": "stdout",
          "output_type": "stream",
          "text": [
            "<class 'pandas.core.frame.DataFrame'>\n",
            "Int64Index: 291837 entries, 0 to 52434\n",
            "Data columns (total 91 columns):\n",
            " #   Column                                      Non-Null Count   Dtype         \n",
            "---  ------                                      --------------   -----         \n",
            " 0   Month Number                                291837 non-null  int64         \n",
            " 1   START PERIOD                                291837 non-null  datetime64[ns]\n",
            " 2   END PERIOD                                  291837 non-null  datetime64[ns]\n",
            " 3   REPORT RUN PERIOD                           291837 non-null  object        \n",
            " 4   REPORT MONTH                                291837 non-null  int64         \n",
            " 5   YTD FLAG                                    291837 non-null  int64         \n",
            " 6   Academic Year                               291837 non-null  object        \n",
            " 7   FIN YTD START FLAG                          291837 non-null  int64         \n",
            " 8   FIN YTD START POS                           291837 non-null  int64         \n",
            " 9   YTD START FLAG - Person                     291837 non-null  int64         \n",
            " 10  JOINER IN PERIOD                            291837 non-null  int64         \n",
            " 11  LEAVER IN PERIOD                            291837 non-null  int64         \n",
            " 12  HEADCOUNT PERIOD END                        291837 non-null  int64         \n",
            " 13  New position in period                      291837 non-null  int64         \n",
            " 14  Position Ended in Period                    291837 non-null  int64         \n",
            " 15  Position Count Period End                   291837 non-null  int64         \n",
            " 16  FTE PERIOD END                              291837 non-null  float64       \n",
            " 17  Permanent Budget FTE Period End             291837 non-null  float64       \n",
            " 18  Temporary Budget FTE Period End             291837 non-null  float64       \n",
            " 19  Total Budgeted FTE Period End               291837 non-null  float64       \n",
            " 20  Total Annual Budgeted FTE Period End        291837 non-null  float64       \n",
            " 21  FTE Joiners                                 291837 non-null  float64       \n",
            " 22  FTE LEAVERS                                 291837 non-null  float64       \n",
            " 23  FTE Position Started                        291837 non-null  float64       \n",
            " 24  FTE Position Ended                          291837 non-null  float64       \n",
            " 25  IN PERIOD STATUS                            291837 non-null  object        \n",
            " 26  In Period EST Status                        291837 non-null  object        \n",
            " 27  Date used for Reference Data                291837 non-null  datetime64[ns]\n",
            " 28  Division                                    291837 non-null  object        \n",
            " 29  Faculty / Professional Directorate          291837 non-null  object        \n",
            " 30  Position Start Date                         291837 non-null  datetime64[ns]\n",
            " 31  Position End date                           185938 non-null  datetime64[ns]\n",
            " 32  ANNUAL WEEKS WORKED                         291837 non-null  float64       \n",
            " 33  CONTRACTUAL HOURS                           291822 non-null  float64       \n",
            " 34  Permanent Establishment Budget              291837 non-null  float64       \n",
            " 35  Temporary Establishment Budget              291837 non-null  float64       \n",
            " 36  Total Establishment Budget Hours            291837 non-null  float64       \n",
            " 37  Hours Variance                              291822 non-null  float64       \n",
            " 38  Vacant Hours as a % of Total Establishment  168114 non-null  object        \n",
            " 39  Budget Effective Date                       84357 non-null   object        \n",
            " 40  FTE HOURS                                   291825 non-null  float64       \n",
            " 41  FTE                                         291837 non-null  float64       \n",
            " 42  Total Budgeted FTE                          291837 non-null  float64       \n",
            " 43  Total Annual Budgeted FTE                   291837 non-null  float64       \n",
            " 44  FTEVariance                                 291837 non-null  float64       \n",
            " 45  Vacant FTE as a % of Total Establishment    168045 non-null  object        \n",
            " 46  CATEGORY                                    291695 non-null  object        \n",
            " 47  BASIS                                       291687 non-null  object        \n",
            " 48  TYPE                                        291737 non-null  object        \n",
            " 49  Establishment Contract Type                 84357 non-null   object        \n",
            " 50  Role Title                                  291835 non-null  object        \n",
            " 51  Post reference                              291835 non-null  object        \n",
            " 52  GRADE DESC                                  261884 non-null  object        \n",
            " 53  Establishment Grade                         83246 non-null   object        \n",
            " 54  SALARY                                      262465 non-null  float64       \n",
            " 55  Pro Rated Salary                            262465 non-null  float64       \n",
            " 56  SALARY BAND                                 291837 non-null  object        \n",
            " 57  Scalept Description                         261232 non-null  object        \n",
            " 58  Off Scale Salary                            1233 non-null    float64       \n",
            " 59  Actual Scalepoint Val                       261232 non-null  float64       \n",
            " 60  JOB FAMILY                                  289990 non-null  object        \n",
            " 61  Academic employment function code           291123 non-null  float64       \n",
            " 62  academic employment function description    291123 non-null  object        \n",
            " 63  ACF Core Domain Focus                       27915 non-null   object        \n",
            " 64  ACF Agreed Date                             27915 non-null   object        \n",
            " 65  STEMM Indicator                             160872 non-null  object        \n",
            " 66  Position Grouping                           121376 non-null  object        \n",
            " 67  Vacancy Status                              91 non-null      object        \n",
            " 68  JOINING DATE                                271696 non-null  datetime64[ns]\n",
            " 69  SERVICE LENGTH DAYS                         271696 non-null  float64       \n",
            " 70  SERVICE LENGTH YEARS                        271696 non-null  float64       \n",
            " 71  SERVICE LENGTH BAND                         271696 non-null  object        \n",
            " 72  ONE YEARS SERVICE FLAG                      291837 non-null  int64         \n",
            " 73  LEAVING DATE                                131594 non-null  datetime64[ns]\n",
            " 74  LEAVING REASON                              131594 non-null  object        \n",
            " 75  Leaving Reason Category                     131594 non-null  object        \n",
            " 76  AGE BAND                                    291837 non-null  object        \n",
            " 77  Sex Identifier                              291837 non-null  object        \n",
            " 78  HESA Disability                             219462 non-null  object        \n",
            " 79  ETHNIC GROUP                                229570 non-null  object        \n",
            " 80  Religion Or Belief                          198955 non-null  object        \n",
            " 81  START DATE OCCUPANCY                        272418 non-null  datetime64[ns]\n",
            " 82  END DATE OCCUPANCY                          182735 non-null  datetime64[ns]\n",
            " 83  Expected Occupancy End Reason               97271 non-null   object        \n",
            " 84  ORG PARTY ID                                291837 non-null  object        \n",
            " 85  POSITION ID                                 291837 non-null  object        \n",
            " 86  PARTY LNK ID OCCUPANCY                      272418 non-null  object        \n",
            " 87  PERSON ID                                   272418 non-null  object        \n",
            " 88  distinct person id                          291837 non-null  int64         \n",
            " 89  Unnamed: 89                                 0 non-null       float64       \n",
            " 90  distinct position id                        291837 non-null  int64         \n",
            "dtypes: datetime64[ns](9), float64(28), int64(15), object(39)\n",
            "memory usage: 204.8+ MB\n"
          ]
        }
      ],
      "source": [
        "df.info()"
      ],
      "id": "006401cd"
    },
    {
      "cell_type": "code",
      "execution_count": null,
      "metadata": {
        "colab": {
          "base_uri": "https://localhost:8080/"
        },
        "id": "BhvZ8YlkDCcp",
        "outputId": "0051c00d-11ac-43d3-ddb4-0accaf385c97"
      },
      "outputs": [
        {
          "data": {
            "text/plain": [
              "0    Contract Expired\n",
              "dtype: object"
            ]
          },
          "execution_count": 15,
          "metadata": {},
          "output_type": "execute_result"
        }
      ],
      "source": [
        "df['LEAVING REASON'].mode()"
      ],
      "id": "BhvZ8YlkDCcp"
    },
    {
      "cell_type": "markdown",
      "metadata": {
        "id": "NJsRXpDXRy1Y"
      },
      "source": [
        "As the aim of this project is to predict employees churn, so we are generating the column to be predicted using the 'LEAVING REASON' column, which basically means if the \"LEAVING REASON\" column has no value, it means the employee has left the organization and vice versa\n"
      ],
      "id": "NJsRXpDXRy1Y"
    },
    {
      "cell_type": "code",
      "execution_count": null,
      "metadata": {
        "id": "y8DmiIX6NfKs"
      },
      "outputs": [],
      "source": [
        "df['LEAVING REASON'].isna().sum()\n",
        "# Generate the Churn Column\n",
        "df['Churn'] = np.where(df['LEAVING REASON'].isnull(), 'No', 'Yes')"
      ],
      "id": "y8DmiIX6NfKs"
    },
    {
      "cell_type": "code",
      "execution_count": null,
      "metadata": {
        "colab": {
          "base_uri": "https://localhost:8080/"
        },
        "id": "tba4wtucN7kN",
        "outputId": "4b3765e6-6c08-4ecc-9b48-c31c3154bc42"
      },
      "outputs": [
        {
          "data": {
            "text/plain": [
              "52430     No\n",
              "52431     No\n",
              "52432     No\n",
              "52433     No\n",
              "52434    Yes\n",
              "Name: Churn, dtype: object"
            ]
          },
          "execution_count": 17,
          "metadata": {},
          "output_type": "execute_result"
        }
      ],
      "source": [
        "df['Churn'].tail()"
      ],
      "id": "tba4wtucN7kN"
    },
    {
      "cell_type": "markdown",
      "metadata": {
        "id": "nbHepyyqSl7j"
      },
      "source": [
        "Since Employees leave the organization for two reasons which are **VOLUNTARILY** & **INVOLUNTARILY**, so if an employee leaves the organization willingly, it would be classify as **VOLUNTARILY**, and vice versa"
      ],
      "id": "nbHepyyqSl7j"
    },
    {
      "cell_type": "code",
      "execution_count": null,
      "metadata": {
        "id": "V1KQZzrTDBvc"
      },
      "outputs": [],
      "source": [
        "invol = [ 'Dismissal',' Redundancy','Mutual Exit']\n",
        "\n",
        "df['LEAVING REASON'] = np.where(df['LEAVING REASON'].isin(invol), \"Involuntarily\", \"Voluntarily\")"
      ],
      "id": "V1KQZzrTDBvc"
    },
    {
      "cell_type": "code",
      "execution_count": null,
      "metadata": {
        "colab": {
          "base_uri": "https://localhost:8080/"
        },
        "id": "6TCq2-p1Eyix",
        "outputId": "2b03670a-d973-4c8d-dccf-c35cbf429ffa"
      },
      "outputs": [
        {
          "name": "stdout",
          "output_type": "stream",
          "text": [
            "['Voluntarily' 'Involuntarily']\n"
          ]
        },
        {
          "data": {
            "text/plain": [
              "Voluntarily      287368\n",
              "Involuntarily      4469\n",
              "Name: LEAVING REASON, dtype: int64"
            ]
          },
          "execution_count": 19,
          "metadata": {},
          "output_type": "execute_result"
        }
      ],
      "source": [
        "print(df['LEAVING REASON'].unique())\n",
        "\n",
        "df['LEAVING REASON'].value_counts()"
      ],
      "id": "6TCq2-p1Eyix"
    },
    {
      "cell_type": "markdown",
      "metadata": {
        "id": "5-8lRGv4TZPi"
      },
      "source": [
        "**LEAVING REASONS COUNTPLOT**"
      ],
      "id": "5-8lRGv4TZPi"
    },
    {
      "cell_type": "code",
      "execution_count": null,
      "metadata": {
        "colab": {
          "base_uri": "https://localhost:8080/",
          "height": 627
        },
        "id": "-GIJ5U3RIeGh",
        "outputId": "80f96844-640c-434c-8c9b-d7523f5f7cc4"
      },
      "outputs": [
        {
          "data": {
            "image/png": "[encoded data removed]",
            "text/plain": [
              "<Figure size 720x720 with 1 Axes>"
            ]
          },
          "metadata": {},
          "output_type": "display_data"
        }
      ],
      "source": [
        "plt.figure(figsize=(10,10))\n",
        "sns.countplot(df['LEAVING REASON'])\n",
        "plt.title('Countplot Analysis Showing Leaving Reasons',fontsize=20)\n",
        "                \n",
        "plt.show()"
      ],
      "id": "-GIJ5U3RIeGh"
    },
    {
      "cell_type": "markdown",
      "metadata": {
        "id": "Z9gUMdtlFMJF"
      },
      "source": [
        "### - Clarify what each column represents e.g. **Position Start Date**, **Position End Date** as against **Leaving Date**... since i am confused\n",
        "\n",
        "### - Get his input as to the next steps to take. \n",
        "\n",
        "### - How do you get the cost per hire. \n",
        "\n",
        "\n"
      ],
      "id": "Z9gUMdtlFMJF"
    },
    {
      "cell_type": "code",
      "execution_count": null,
      "metadata": {
        "colab": {
          "base_uri": "https://localhost:8080/"
        },
        "id": "26958d73",
        "outputId": "edc98ab5-7a59-44c0-a5c2-c45a6972cdd3"
      },
      "outputs": [
        {
          "data": {
            "text/plain": [
              "Month Number                 0\n",
              "START PERIOD                 0\n",
              "END PERIOD                   0\n",
              "REPORT RUN PERIOD            0\n",
              "REPORT MONTH                 0\n",
              "                         ...  \n",
              "PERSON ID                19419\n",
              "distinct person id           0\n",
              "Unnamed: 89             291837\n",
              "distinct position id         0\n",
              "Churn                        0\n",
              "Length: 92, dtype: int64"
            ]
          },
          "execution_count": 21,
          "metadata": {},
          "output_type": "execute_result"
        }
      ],
      "source": [
        "#Checking for blanks in the Data\n",
        "df.isna().sum()"
      ],
      "id": "26958d73"
    },
    {
      "cell_type": "code",
      "execution_count": null,
      "metadata": {
        "colab": {
          "base_uri": "https://localhost:8080/",
          "height": 446
        },
        "id": "07875b99",
        "outputId": "96eee1a1-8f0d-4a88-92cf-7659bf09bc52"
      },
      "outputs": [
        {
          "data": {
            "text/html": [
              "\n",
              "  <div id=\"df-83ec6c84-7053-4cd4-b6f6-88c996d7329c\">\n",
              "    <div class=\"colab-df-container\">\n",
              "      <div>\n",
              "<style scoped>\n",
              "    .dataframe tbody tr th:only-of-type {\n",
              "        vertical-align: middle;\n",
              "    }\n",
              "\n",
              "    .dataframe tbody tr th {\n",
              "        vertical-align: top;\n",
              "    }\n",
              "\n",
              "    .dataframe thead th {\n",
              "        text-align: right;\n",
              "    }\n",
              "</style>\n",
              "<table border=\"1\" class=\"dataframe\">\n",
              "  <thead>\n",
              "    <tr style=\"text-align: right;\">\n",
              "      <th></th>\n",
              "      <th>Month Number</th>\n",
              "      <th>REPORT MONTH</th>\n",
              "      <th>YTD FLAG</th>\n",
              "      <th>FIN YTD START FLAG</th>\n",
              "      <th>FIN YTD START POS</th>\n",
              "      <th>YTD START FLAG - Person</th>\n",
              "      <th>JOINER IN PERIOD</th>\n",
              "      <th>LEAVER IN PERIOD</th>\n",
              "      <th>HEADCOUNT PERIOD END</th>\n",
              "      <th>New position in period</th>\n",
              "      <th>...</th>\n",
              "      <th>Pro Rated Salary</th>\n",
              "      <th>Off Scale Salary</th>\n",
              "      <th>Actual Scalepoint Val</th>\n",
              "      <th>Academic employment function code</th>\n",
              "      <th>SERVICE LENGTH DAYS</th>\n",
              "      <th>SERVICE LENGTH YEARS</th>\n",
              "      <th>ONE YEARS SERVICE FLAG</th>\n",
              "      <th>distinct person id</th>\n",
              "      <th>Unnamed: 89</th>\n",
              "      <th>distinct position id</th>\n",
              "    </tr>\n",
              "  </thead>\n",
              "  <tbody>\n",
              "    <tr>\n",
              "      <th>count</th>\n",
              "      <td>291837.000000</td>\n",
              "      <td>291837.000000</td>\n",
              "      <td>291837.000000</td>\n",
              "      <td>291837.000000</td>\n",
              "      <td>291837.000000</td>\n",
              "      <td>291837.000000</td>\n",
              "      <td>291837.000000</td>\n",
              "      <td>291837.000000</td>\n",
              "      <td>291837.000000</td>\n",
              "      <td>291837.000000</td>\n",
              "      <td>...</td>\n",
              "      <td>262465.000000</td>\n",
              "      <td>1233.000000</td>\n",
              "      <td>261232.000000</td>\n",
              "      <td>291123.000000</td>\n",
              "      <td>271696.000000</td>\n",
              "      <td>271696.000000</td>\n",
              "      <td>291837.000000</td>\n",
              "      <td>291837.000000</td>\n",
              "      <td>0.0</td>\n",
              "      <td>291837.0</td>\n",
              "    </tr>\n",
              "    <tr>\n",
              "      <th>mean</th>\n",
              "      <td>-6.597659</td>\n",
              "      <td>5.776481</td>\n",
              "      <td>0.166874</td>\n",
              "      <td>0.069172</td>\n",
              "      <td>0.069172</td>\n",
              "      <td>0.131337</td>\n",
              "      <td>0.028482</td>\n",
              "      <td>0.033197</td>\n",
              "      <td>0.914284</td>\n",
              "      <td>0.049439</td>\n",
              "      <td>...</td>\n",
              "      <td>21379.503468</td>\n",
              "      <td>75014.393706</td>\n",
              "      <td>33401.180277</td>\n",
              "      <td>3.023787</td>\n",
              "      <td>2386.455108</td>\n",
              "      <td>6.059364</td>\n",
              "      <td>0.679808</td>\n",
              "      <td>0.933459</td>\n",
              "      <td>NaN</td>\n",
              "      <td>1.0</td>\n",
              "    </tr>\n",
              "    <tr>\n",
              "      <th>std</th>\n",
              "      <td>4.060749</td>\n",
              "      <td>3.601480</td>\n",
              "      <td>0.372864</td>\n",
              "      <td>0.253747</td>\n",
              "      <td>0.253747</td>\n",
              "      <td>0.337769</td>\n",
              "      <td>0.166345</td>\n",
              "      <td>0.179150</td>\n",
              "      <td>0.279944</td>\n",
              "      <td>0.216782</td>\n",
              "      <td>...</td>\n",
              "      <td>22945.565649</td>\n",
              "      <td>55555.945805</td>\n",
              "      <td>17828.507202</td>\n",
              "      <td>1.432128</td>\n",
              "      <td>3012.187684</td>\n",
              "      <td>8.225584</td>\n",
              "      <td>0.466551</td>\n",
              "      <td>0.249225</td>\n",
              "      <td>NaN</td>\n",
              "      <td>0.0</td>\n",
              "    </tr>\n",
              "    <tr>\n",
              "      <th>min</th>\n",
              "      <td>-13.000000</td>\n",
              "      <td>1.000000</td>\n",
              "      <td>0.000000</td>\n",
              "      <td>0.000000</td>\n",
              "      <td>0.000000</td>\n",
              "      <td>0.000000</td>\n",
              "      <td>0.000000</td>\n",
              "      <td>0.000000</td>\n",
              "      <td>0.000000</td>\n",
              "      <td>0.000000</td>\n",
              "      <td>...</td>\n",
              "      <td>0.000000</td>\n",
              "      <td>17354.480000</td>\n",
              "      <td>14767.000000</td>\n",
              "      <td>1.000000</td>\n",
              "      <td>0.000000</td>\n",
              "      <td>0.000000</td>\n",
              "      <td>0.000000</td>\n",
              "      <td>0.000000</td>\n",
              "      <td>NaN</td>\n",
              "      <td>1.0</td>\n",
              "    </tr>\n",
              "    <tr>\n",
              "      <th>25%</th>\n",
              "      <td>-10.000000</td>\n",
              "      <td>2.000000</td>\n",
              "      <td>0.000000</td>\n",
              "      <td>0.000000</td>\n",
              "      <td>0.000000</td>\n",
              "      <td>0.000000</td>\n",
              "      <td>0.000000</td>\n",
              "      <td>0.000000</td>\n",
              "      <td>1.000000</td>\n",
              "      <td>0.000000</td>\n",
              "      <td>...</td>\n",
              "      <td>0.000000</td>\n",
              "      <td>22494.000000</td>\n",
              "      <td>18189.000000</td>\n",
              "      <td>1.000000</td>\n",
              "      <td>327.000000</td>\n",
              "      <td>0.000000</td>\n",
              "      <td>0.000000</td>\n",
              "      <td>1.000000</td>\n",
              "      <td>NaN</td>\n",
              "      <td>1.0</td>\n",
              "    </tr>\n",
              "    <tr>\n",
              "      <th>50%</th>\n",
              "      <td>-7.000000</td>\n",
              "      <td>5.000000</td>\n",
              "      <td>0.000000</td>\n",
              "      <td>0.000000</td>\n",
              "      <td>0.000000</td>\n",
              "      <td>0.000000</td>\n",
              "      <td>0.000000</td>\n",
              "      <td>0.000000</td>\n",
              "      <td>1.000000</td>\n",
              "      <td>0.000000</td>\n",
              "      <td>...</td>\n",
              "      <td>17361.000000</td>\n",
              "      <td>70059.000000</td>\n",
              "      <td>28331.000000</td>\n",
              "      <td>4.000000</td>\n",
              "      <td>1037.000000</td>\n",
              "      <td>2.000000</td>\n",
              "      <td>1.000000</td>\n",
              "      <td>1.000000</td>\n",
              "      <td>NaN</td>\n",
              "      <td>1.0</td>\n",
              "    </tr>\n",
              "    <tr>\n",
              "      <th>75%</th>\n",
              "      <td>-3.000000</td>\n",
              "      <td>9.000000</td>\n",
              "      <td>0.000000</td>\n",
              "      <td>0.000000</td>\n",
              "      <td>0.000000</td>\n",
              "      <td>0.000000</td>\n",
              "      <td>0.000000</td>\n",
              "      <td>0.000000</td>\n",
              "      <td>1.000000</td>\n",
              "      <td>0.000000</td>\n",
              "      <td>...</td>\n",
              "      <td>37467.000000</td>\n",
              "      <td>85838.000000</td>\n",
              "      <td>43686.000000</td>\n",
              "      <td>4.000000</td>\n",
              "      <td>3411.000000</td>\n",
              "      <td>9.000000</td>\n",
              "      <td>1.000000</td>\n",
              "      <td>1.000000</td>\n",
              "      <td>NaN</td>\n",
              "      <td>1.0</td>\n",
              "    </tr>\n",
              "    <tr>\n",
              "      <th>max</th>\n",
              "      <td>0.000000</td>\n",
              "      <td>12.000000</td>\n",
              "      <td>1.000000</td>\n",
              "      <td>1.000000</td>\n",
              "      <td>1.000000</td>\n",
              "      <td>1.000000</td>\n",
              "      <td>1.000000</td>\n",
              "      <td>1.000000</td>\n",
              "      <td>1.000000</td>\n",
              "      <td>1.000000</td>\n",
              "      <td>...</td>\n",
              "      <td>251593.000000</td>\n",
              "      <td>251593.000000</td>\n",
              "      <td>159307.000000</td>\n",
              "      <td>9.000000</td>\n",
              "      <td>19876.000000</td>\n",
              "      <td>54.000000</td>\n",
              "      <td>1.000000</td>\n",
              "      <td>1.000000</td>\n",
              "      <td>NaN</td>\n",
              "      <td>1.0</td>\n",
              "    </tr>\n",
              "  </tbody>\n",
              "</table>\n",
              "<p>8 rows × 43 columns</p>\n",
              "</div>\n",
              "      <button class=\"colab-df-convert\" onclick=\"convertToInteractive('df-83ec6c84-7053-4cd4-b6f6-88c996d7329c')\"\n",
              "              title=\"Convert this dataframe to an interactive table.\"\n",
              "              style=\"display:none;\">\n",
              "        \n",
              "  <svg xmlns=\"http://www.w3.org/2000/svg\" height=\"24px\"viewBox=\"0 0 24 24\"\n",
              "       width=\"24px\">\n",
              "    <path d=\"M0 0h24v24H0V0z\" fill=\"none\"/>\n",
              "    <path d=\"M18.56 5.44l.94 2.06.94-2.06 2.06-.94-2.06-.94-.94-2.06-.94 2.06-2.06.94zm-11 1L8.5 8.5l.94-2.06 2.06-.94-2.06-.94L8.5 2.5l-.94 2.06-2.06.94zm10 10l.94 2.06.94-2.06 2.06-.94-2.06-.94-.94-2.06-.94 2.06-2.06.94z\"/><path d=\"M17.41 7.96l-1.37-1.37c-.4-.4-.92-.59-1.43-.59-.52 0-1.04.2-1.43.59L10.3 9.45l-7.72 7.72c-.78.78-.78 2.05 0 2.83L4 21.41c.39.39.9.59 1.41.59.51 0 1.02-.2 1.41-.59l7.78-7.78 2.81-2.81c.8-.78.8-2.07 0-2.86zM5.41 20L4 18.59l7.72-7.72 1.47 1.35L5.41 20z\"/>\n",
              "  </svg>\n",
              "      </button>\n",
              "      \n",
              "  <style>\n",
              "    .colab-df-container {\n",
              "      display:flex;\n",
              "      flex-wrap:wrap;\n",
              "      gap: 12px;\n",
              "    }\n",
              "\n",
              "    .colab-df-convert {\n",
              "      background-color: #E8F0FE;\n",
              "      border: none;\n",
              "      border-radius: 50%;\n",
              "      cursor: pointer;\n",
              "      display: none;\n",
              "      fill: #1967D2;\n",
              "      height: 32px;\n",
              "      padding: 0 0 0 0;\n",
              "      width: 32px;\n",
              "    }\n",
              "\n",
              "    .colab-df-convert:hover {\n",
              "      background-color: #E2EBFA;\n",
              "      box-shadow: 0px 1px 2px rgba(60, 64, 67, 0.3), 0px 1px 3px 1px rgba(60, 64, 67, 0.15);\n",
              "      fill: #174EA6;\n",
              "    }\n",
              "\n",
              "    [theme=dark] .colab-df-convert {\n",
              "      background-color: #3B4455;\n",
              "      fill: #D2E3FC;\n",
              "    }\n",
              "\n",
              "    [theme=dark] .colab-df-convert:hover {\n",
              "      background-color: #434B5C;\n",
              "      box-shadow: 0px 1px 3px 1px rgba(0, 0, 0, 0.15);\n",
              "      filter: drop-shadow(0px 1px 2px rgba(0, 0, 0, 0.3));\n",
              "      fill: #FFFFFF;\n",
              "    }\n",
              "  </style>\n",
              "\n",
              "      <script>\n",
              "        const buttonEl =\n",
              "          document.querySelector('#df-83ec6c84-7053-4cd4-b6f6-88c996d7329c button.colab-df-convert');\n",
              "        buttonEl.style.display =\n",
              "          google.colab.kernel.accessAllowed ? 'block' : 'none';\n",
              "\n",
              "        async function convertToInteractive(key) {\n",
              "          const element = document.querySelector('#df-83ec6c84-7053-4cd4-b6f6-88c996d7329c');\n",
              "          const dataTable =\n",
              "            await google.colab.kernel.invokeFunction('convertToInteractive',\n",
              "                                                     [key], {});\n",
              "          if (!dataTable) return;\n",
              "\n",
              "          const docLinkHtml = 'Like what you see? Visit the ' +\n",
              "            '<a target=\"_blank\" href=https://colab.research.google.com/notebooks/data_table.ipynb>data table notebook</a>'\n",
              "            + ' to learn more about interactive tables.';\n",
              "          element.innerHTML = '';\n",
              "          dataTable['output_type'] = 'display_data';\n",
              "          await google.colab.output.renderOutput(dataTable, element);\n",
              "          const docLink = document.createElement('div');\n",
              "          docLink.innerHTML = docLinkHtml;\n",
              "          element.appendChild(docLink);\n",
              "        }\n",
              "      </script>\n",
              "    </div>\n",
              "  </div>\n",
              "  "
            ],
            "text/plain": [
              "        Month Number   REPORT MONTH       YTD FLAG  FIN YTD START FLAG  \\\n",
              "count  291837.000000  291837.000000  291837.000000       291837.000000   \n",
              "mean       -6.597659       5.776481       0.166874            0.069172   \n",
              "std         4.060749       3.601480       0.372864            0.253747   \n",
              "min       -13.000000       1.000000       0.000000            0.000000   \n",
              "25%       -10.000000       2.000000       0.000000            0.000000   \n",
              "50%        -7.000000       5.000000       0.000000            0.000000   \n",
              "75%        -3.000000       9.000000       0.000000            0.000000   \n",
              "max         0.000000      12.000000       1.000000            1.000000   \n",
              "\n",
              "       FIN YTD START POS  YTD START FLAG - Person  JOINER IN PERIOD  \\\n",
              "count      291837.000000            291837.000000     291837.000000   \n",
              "mean            0.069172                 0.131337          0.028482   \n",
              "std             0.253747                 0.337769          0.166345   \n",
              "min             0.000000                 0.000000          0.000000   \n",
              "25%             0.000000                 0.000000          0.000000   \n",
              "50%             0.000000                 0.000000          0.000000   \n",
              "75%             0.000000                 0.000000          0.000000   \n",
              "max             1.000000                 1.000000          1.000000   \n",
              "\n",
              "       LEAVER IN PERIOD  HEADCOUNT PERIOD END  New position in period  ...  \\\n",
              "count     291837.000000         291837.000000           291837.000000  ...   \n",
              "mean           0.033197              0.914284                0.049439  ...   \n",
              "std            0.179150              0.279944                0.216782  ...   \n",
              "min            0.000000              0.000000                0.000000  ...   \n",
              "25%            0.000000              1.000000                0.000000  ...   \n",
              "50%            0.000000              1.000000                0.000000  ...   \n",
              "75%            0.000000              1.000000                0.000000  ...   \n",
              "max            1.000000              1.000000                1.000000  ...   \n",
              "\n",
              "       Pro Rated Salary  Off Scale Salary  Actual Scalepoint Val  \\\n",
              "count     262465.000000       1233.000000          261232.000000   \n",
              "mean       21379.503468      75014.393706           33401.180277   \n",
              "std        22945.565649      55555.945805           17828.507202   \n",
              "min            0.000000      17354.480000           14767.000000   \n",
              "25%            0.000000      22494.000000           18189.000000   \n",
              "50%        17361.000000      70059.000000           28331.000000   \n",
              "75%        37467.000000      85838.000000           43686.000000   \n",
              "max       251593.000000     251593.000000          159307.000000   \n",
              "\n",
              "       Academic employment function code  SERVICE LENGTH DAYS  \\\n",
              "count                      291123.000000        271696.000000   \n",
              "mean                            3.023787          2386.455108   \n",
              "std                             1.432128          3012.187684   \n",
              "min                             1.000000             0.000000   \n",
              "25%                             1.000000           327.000000   \n",
              "50%                             4.000000          1037.000000   \n",
              "75%                             4.000000          3411.000000   \n",
              "max                             9.000000         19876.000000   \n",
              "\n",
              "       SERVICE LENGTH YEARS  ONE YEARS SERVICE FLAG  distinct person id  \\\n",
              "count         271696.000000           291837.000000       291837.000000   \n",
              "mean               6.059364                0.679808            0.933459   \n",
              "std                8.225584                0.466551            0.249225   \n",
              "min                0.000000                0.000000            0.000000   \n",
              "25%                0.000000                0.000000            1.000000   \n",
              "50%                2.000000                1.000000            1.000000   \n",
              "75%                9.000000                1.000000            1.000000   \n",
              "max               54.000000                1.000000            1.000000   \n",
              "\n",
              "       Unnamed: 89  distinct position id  \n",
              "count          0.0              291837.0  \n",
              "mean           NaN                   1.0  \n",
              "std            NaN                   0.0  \n",
              "min            NaN                   1.0  \n",
              "25%            NaN                   1.0  \n",
              "50%            NaN                   1.0  \n",
              "75%            NaN                   1.0  \n",
              "max            NaN                   1.0  \n",
              "\n",
              "[8 rows x 43 columns]"
            ]
          },
          "execution_count": 22,
          "metadata": {},
          "output_type": "execute_result"
        }
      ],
      "source": [
        "# Checking summary of the numeric columns og thr Data\n",
        "df.describe()"
      ],
      "id": "07875b99"
    },
    {
      "cell_type": "code",
      "execution_count": null,
      "metadata": {
        "colab": {
          "base_uri": "https://localhost:8080/",
          "height": 1000
        },
        "id": "0684fac4",
        "outputId": "ebda8a83-8c1f-4f72-d2d5-e58982e3c8c3"
      },
      "outputs": [
        {
          "data": {
            "text/html": [
              "\n",
              "  <div id=\"df-ec738e8b-b5eb-4190-8131-e8da3389fce7\">\n",
              "    <div class=\"colab-df-container\">\n",
              "      <div>\n",
              "<style scoped>\n",
              "    .dataframe tbody tr th:only-of-type {\n",
              "        vertical-align: middle;\n",
              "    }\n",
              "\n",
              "    .dataframe tbody tr th {\n",
              "        vertical-align: top;\n",
              "    }\n",
              "\n",
              "    .dataframe thead th {\n",
              "        text-align: right;\n",
              "    }\n",
              "</style>\n",
              "<table border=\"1\" class=\"dataframe\">\n",
              "  <thead>\n",
              "    <tr style=\"text-align: right;\">\n",
              "      <th></th>\n",
              "      <th>Month Number</th>\n",
              "      <th>REPORT MONTH</th>\n",
              "      <th>YTD FLAG</th>\n",
              "      <th>FIN YTD START FLAG</th>\n",
              "      <th>FIN YTD START POS</th>\n",
              "      <th>YTD START FLAG - Person</th>\n",
              "      <th>JOINER IN PERIOD</th>\n",
              "      <th>LEAVER IN PERIOD</th>\n",
              "      <th>HEADCOUNT PERIOD END</th>\n",
              "      <th>New position in period</th>\n",
              "      <th>...</th>\n",
              "      <th>Pro Rated Salary</th>\n",
              "      <th>Off Scale Salary</th>\n",
              "      <th>Actual Scalepoint Val</th>\n",
              "      <th>Academic employment function code</th>\n",
              "      <th>SERVICE LENGTH DAYS</th>\n",
              "      <th>SERVICE LENGTH YEARS</th>\n",
              "      <th>ONE YEARS SERVICE FLAG</th>\n",
              "      <th>distinct person id</th>\n",
              "      <th>Unnamed: 89</th>\n",
              "      <th>distinct position id</th>\n",
              "    </tr>\n",
              "  </thead>\n",
              "  <tbody>\n",
              "    <tr>\n",
              "      <th>Month Number</th>\n",
              "      <td>1.000000</td>\n",
              "      <td>0.337683</td>\n",
              "      <td>0.636919</td>\n",
              "      <td>0.012301</td>\n",
              "      <td>0.012301</td>\n",
              "      <td>-0.020799</td>\n",
              "      <td>0.018088</td>\n",
              "      <td>-0.001921</td>\n",
              "      <td>-0.026898</td>\n",
              "      <td>0.014325</td>\n",
              "      <td>...</td>\n",
              "      <td>0.016482</td>\n",
              "      <td>0.004436</td>\n",
              "      <td>0.027358</td>\n",
              "      <td>-0.023545</td>\n",
              "      <td>0.006065</td>\n",
              "      <td>0.006902</td>\n",
              "      <td>-0.025395</td>\n",
              "      <td>-0.029859</td>\n",
              "      <td>NaN</td>\n",
              "      <td>NaN</td>\n",
              "    </tr>\n",
              "    <tr>\n",
              "      <th>REPORT MONTH</th>\n",
              "      <td>0.337683</td>\n",
              "      <td>1.000000</td>\n",
              "      <td>-0.491709</td>\n",
              "      <td>0.168303</td>\n",
              "      <td>0.168303</td>\n",
              "      <td>-0.515698</td>\n",
              "      <td>-0.005560</td>\n",
              "      <td>0.035484</td>\n",
              "      <td>-0.022283</td>\n",
              "      <td>-0.014247</td>\n",
              "      <td>...</td>\n",
              "      <td>0.014230</td>\n",
              "      <td>0.016185</td>\n",
              "      <td>0.012887</td>\n",
              "      <td>0.000183</td>\n",
              "      <td>0.011781</td>\n",
              "      <td>0.009492</td>\n",
              "      <td>0.001078</td>\n",
              "      <td>-0.004098</td>\n",
              "      <td>NaN</td>\n",
              "      <td>NaN</td>\n",
              "    </tr>\n",
              "    <tr>\n",
              "      <th>YTD FLAG</th>\n",
              "      <td>0.636919</td>\n",
              "      <td>-0.491709</td>\n",
              "      <td>1.000000</td>\n",
              "      <td>-0.122003</td>\n",
              "      <td>-0.122003</td>\n",
              "      <td>0.380795</td>\n",
              "      <td>0.022758</td>\n",
              "      <td>-0.025735</td>\n",
              "      <td>-0.000317</td>\n",
              "      <td>0.028841</td>\n",
              "      <td>...</td>\n",
              "      <td>0.008743</td>\n",
              "      <td>-0.011905</td>\n",
              "      <td>0.017592</td>\n",
              "      <td>-0.022349</td>\n",
              "      <td>-0.003133</td>\n",
              "      <td>-0.000535</td>\n",
              "      <td>-0.029204</td>\n",
              "      <td>-0.014988</td>\n",
              "      <td>NaN</td>\n",
              "      <td>NaN</td>\n",
              "    </tr>\n",
              "    <tr>\n",
              "      <th>FIN YTD START FLAG</th>\n",
              "      <td>0.012301</td>\n",
              "      <td>0.168303</td>\n",
              "      <td>-0.122003</td>\n",
              "      <td>1.000000</td>\n",
              "      <td>1.000000</td>\n",
              "      <td>-0.105998</td>\n",
              "      <td>-0.010550</td>\n",
              "      <td>0.003231</td>\n",
              "      <td>-0.019520</td>\n",
              "      <td>0.022487</td>\n",
              "      <td>...</td>\n",
              "      <td>0.010688</td>\n",
              "      <td>0.024562</td>\n",
              "      <td>0.010837</td>\n",
              "      <td>0.008260</td>\n",
              "      <td>0.012634</td>\n",
              "      <td>0.008891</td>\n",
              "      <td>0.001323</td>\n",
              "      <td>-0.021985</td>\n",
              "      <td>NaN</td>\n",
              "      <td>NaN</td>\n",
              "    </tr>\n",
              "    <tr>\n",
              "      <th>FIN YTD START POS</th>\n",
              "      <td>0.012301</td>\n",
              "      <td>0.168303</td>\n",
              "      <td>-0.122003</td>\n",
              "      <td>1.000000</td>\n",
              "      <td>1.000000</td>\n",
              "      <td>-0.105998</td>\n",
              "      <td>-0.010550</td>\n",
              "      <td>0.003231</td>\n",
              "      <td>-0.019520</td>\n",
              "      <td>0.022487</td>\n",
              "      <td>...</td>\n",
              "      <td>0.010688</td>\n",
              "      <td>0.024562</td>\n",
              "      <td>0.010837</td>\n",
              "      <td>0.008260</td>\n",
              "      <td>0.012634</td>\n",
              "      <td>0.008891</td>\n",
              "      <td>0.001323</td>\n",
              "      <td>-0.021985</td>\n",
              "      <td>NaN</td>\n",
              "      <td>NaN</td>\n",
              "    </tr>\n",
              "    <tr>\n",
              "      <th>YTD START FLAG - Person</th>\n",
              "      <td>-0.020799</td>\n",
              "      <td>-0.515698</td>\n",
              "      <td>0.380795</td>\n",
              "      <td>-0.105998</td>\n",
              "      <td>-0.105998</td>\n",
              "      <td>1.000000</td>\n",
              "      <td>0.056737</td>\n",
              "      <td>-0.020465</td>\n",
              "      <td>0.008857</td>\n",
              "      <td>0.045537</td>\n",
              "      <td>...</td>\n",
              "      <td>-0.003902</td>\n",
              "      <td>-0.002173</td>\n",
              "      <td>-0.001481</td>\n",
              "      <td>-0.005098</td>\n",
              "      <td>-0.007110</td>\n",
              "      <td>-0.004031</td>\n",
              "      <td>0.002254</td>\n",
              "      <td>-0.000756</td>\n",
              "      <td>NaN</td>\n",
              "      <td>NaN</td>\n",
              "    </tr>\n",
              "    <tr>\n",
              "      <th>JOINER IN PERIOD</th>\n",
              "      <td>0.018088</td>\n",
              "      <td>-0.005560</td>\n",
              "      <td>0.022758</td>\n",
              "      <td>-0.010550</td>\n",
              "      <td>-0.010550</td>\n",
              "      <td>0.056737</td>\n",
              "      <td>1.000000</td>\n",
              "      <td>0.019670</td>\n",
              "      <td>0.032117</td>\n",
              "      <td>0.651959</td>\n",
              "      <td>...</td>\n",
              "      <td>-0.114709</td>\n",
              "      <td>-0.005290</td>\n",
              "      <td>-0.064777</td>\n",
              "      <td>-0.031371</td>\n",
              "      <td>-0.139650</td>\n",
              "      <td>-0.130864</td>\n",
              "      <td>-0.249485</td>\n",
              "      <td>0.045714</td>\n",
              "      <td>NaN</td>\n",
              "      <td>NaN</td>\n",
              "    </tr>\n",
              "    <tr>\n",
              "      <th>LEAVER IN PERIOD</th>\n",
              "      <td>-0.001921</td>\n",
              "      <td>0.035484</td>\n",
              "      <td>-0.025735</td>\n",
              "      <td>0.003231</td>\n",
              "      <td>0.003231</td>\n",
              "      <td>-0.020465</td>\n",
              "      <td>0.019670</td>\n",
              "      <td>1.000000</td>\n",
              "      <td>-0.276274</td>\n",
              "      <td>-0.000879</td>\n",
              "      <td>...</td>\n",
              "      <td>-0.109243</td>\n",
              "      <td>0.020899</td>\n",
              "      <td>-0.061403</td>\n",
              "      <td>-0.016635</td>\n",
              "      <td>-0.086571</td>\n",
              "      <td>-0.086459</td>\n",
              "      <td>-0.073218</td>\n",
              "      <td>0.049474</td>\n",
              "      <td>NaN</td>\n",
              "      <td>NaN</td>\n",
              "    </tr>\n",
              "    <tr>\n",
              "      <th>HEADCOUNT PERIOD END</th>\n",
              "      <td>-0.026898</td>\n",
              "      <td>-0.022283</td>\n",
              "      <td>-0.000317</td>\n",
              "      <td>-0.019520</td>\n",
              "      <td>-0.019520</td>\n",
              "      <td>0.008857</td>\n",
              "      <td>0.032117</td>\n",
              "      <td>-0.276274</td>\n",
              "      <td>1.000000</td>\n",
              "      <td>-0.063933</td>\n",
              "      <td>...</td>\n",
              "      <td>0.259868</td>\n",
              "      <td>0.016112</td>\n",
              "      <td>0.089490</td>\n",
              "      <td>-0.019059</td>\n",
              "      <td>0.071262</td>\n",
              "      <td>0.070573</td>\n",
              "      <td>0.369695</td>\n",
              "      <td>0.871979</td>\n",
              "      <td>NaN</td>\n",
              "      <td>NaN</td>\n",
              "    </tr>\n",
              "    <tr>\n",
              "      <th>New position in period</th>\n",
              "      <td>0.014325</td>\n",
              "      <td>-0.014247</td>\n",
              "      <td>0.028841</td>\n",
              "      <td>0.022487</td>\n",
              "      <td>0.022487</td>\n",
              "      <td>0.045537</td>\n",
              "      <td>0.651959</td>\n",
              "      <td>-0.000879</td>\n",
              "      <td>-0.063933</td>\n",
              "      <td>1.000000</td>\n",
              "      <td>...</td>\n",
              "      <td>-0.135241</td>\n",
              "      <td>-0.082632</td>\n",
              "      <td>-0.069273</td>\n",
              "      <td>-0.012116</td>\n",
              "      <td>-0.100636</td>\n",
              "      <td>-0.094285</td>\n",
              "      <td>-0.206336</td>\n",
              "      <td>-0.069255</td>\n",
              "      <td>NaN</td>\n",
              "      <td>NaN</td>\n",
              "    </tr>\n",
              "    <tr>\n",
              "      <th>Position Ended in Period</th>\n",
              "      <td>-0.007918</td>\n",
              "      <td>0.022690</td>\n",
              "      <td>-0.019499</td>\n",
              "      <td>0.023895</td>\n",
              "      <td>0.023895</td>\n",
              "      <td>-0.019564</td>\n",
              "      <td>0.000406</td>\n",
              "      <td>0.696702</td>\n",
              "      <td>-0.320058</td>\n",
              "      <td>-0.007170</td>\n",
              "      <td>...</td>\n",
              "      <td>-0.153103</td>\n",
              "      <td>-0.032926</td>\n",
              "      <td>-0.078244</td>\n",
              "      <td>-0.001170</td>\n",
              "      <td>-0.086852</td>\n",
              "      <td>-0.086876</td>\n",
              "      <td>-0.112615</td>\n",
              "      <td>-0.100302</td>\n",
              "      <td>NaN</td>\n",
              "      <td>NaN</td>\n",
              "    </tr>\n",
              "    <tr>\n",
              "      <th>Position Count Period End</th>\n",
              "      <td>-0.005027</td>\n",
              "      <td>-0.034515</td>\n",
              "      <td>0.018322</td>\n",
              "      <td>-0.034216</td>\n",
              "      <td>-0.034216</td>\n",
              "      <td>0.026364</td>\n",
              "      <td>-0.004323</td>\n",
              "      <td>-0.471526</td>\n",
              "      <td>0.446734</td>\n",
              "      <td>-0.000764</td>\n",
              "      <td>...</td>\n",
              "      <td>0.129928</td>\n",
              "      <td>0.060435</td>\n",
              "      <td>0.069032</td>\n",
              "      <td>-0.018693</td>\n",
              "      <td>0.076544</td>\n",
              "      <td>0.075929</td>\n",
              "      <td>0.125120</td>\n",
              "      <td>0.152261</td>\n",
              "      <td>NaN</td>\n",
              "      <td>NaN</td>\n",
              "    </tr>\n",
              "    <tr>\n",
              "      <th>FTE PERIOD END</th>\n",
              "      <td>0.008944</td>\n",
              "      <td>0.014816</td>\n",
              "      <td>0.003533</td>\n",
              "      <td>0.009591</td>\n",
              "      <td>0.009591</td>\n",
              "      <td>-0.010232</td>\n",
              "      <td>-0.121109</td>\n",
              "      <td>-0.153212</td>\n",
              "      <td>0.312688</td>\n",
              "      <td>-0.136147</td>\n",
              "      <td>...</td>\n",
              "      <td>0.818874</td>\n",
              "      <td>0.137958</td>\n",
              "      <td>0.420078</td>\n",
              "      <td>0.147483</td>\n",
              "      <td>0.456862</td>\n",
              "      <td>0.454474</td>\n",
              "      <td>0.472535</td>\n",
              "      <td>0.272657</td>\n",
              "      <td>NaN</td>\n",
              "      <td>NaN</td>\n",
              "    </tr>\n",
              "    <tr>\n",
              "      <th>Permanent Budget FTE Period End</th>\n",
              "      <td>0.081169</td>\n",
              "      <td>0.028139</td>\n",
              "      <td>0.047900</td>\n",
              "      <td>0.008904</td>\n",
              "      <td>0.008904</td>\n",
              "      <td>-0.007846</td>\n",
              "      <td>-0.077592</td>\n",
              "      <td>-0.092569</td>\n",
              "      <td>0.057264</td>\n",
              "      <td>-0.055670</td>\n",
              "      <td>...</td>\n",
              "      <td>0.449328</td>\n",
              "      <td>0.046347</td>\n",
              "      <td>0.300280</td>\n",
              "      <td>0.023235</td>\n",
              "      <td>0.294295</td>\n",
              "      <td>0.293098</td>\n",
              "      <td>0.245726</td>\n",
              "      <td>0.026239</td>\n",
              "      <td>NaN</td>\n",
              "      <td>NaN</td>\n",
              "    </tr>\n",
              "    <tr>\n",
              "      <th>Temporary Budget FTE Period End</th>\n",
              "      <td>0.046595</td>\n",
              "      <td>0.014275</td>\n",
              "      <td>0.029586</td>\n",
              "      <td>0.000534</td>\n",
              "      <td>0.000534</td>\n",
              "      <td>0.002550</td>\n",
              "      <td>-0.006236</td>\n",
              "      <td>-0.029436</td>\n",
              "      <td>-0.013772</td>\n",
              "      <td>-0.015779</td>\n",
              "      <td>...</td>\n",
              "      <td>0.100130</td>\n",
              "      <td>0.121984</td>\n",
              "      <td>0.046042</td>\n",
              "      <td>-0.006668</td>\n",
              "      <td>-0.092824</td>\n",
              "      <td>-0.093293</td>\n",
              "      <td>-0.026657</td>\n",
              "      <td>-0.028723</td>\n",
              "      <td>NaN</td>\n",
              "      <td>NaN</td>\n",
              "    </tr>\n",
              "    <tr>\n",
              "      <th>Total Budgeted FTE Period End</th>\n",
              "      <td>0.097249</td>\n",
              "      <td>0.032899</td>\n",
              "      <td>0.058295</td>\n",
              "      <td>0.008684</td>\n",
              "      <td>0.008684</td>\n",
              "      <td>-0.006342</td>\n",
              "      <td>-0.076358</td>\n",
              "      <td>-0.100632</td>\n",
              "      <td>0.048389</td>\n",
              "      <td>-0.059685</td>\n",
              "      <td>...</td>\n",
              "      <td>0.472388</td>\n",
              "      <td>0.161517</td>\n",
              "      <td>0.306511</td>\n",
              "      <td>0.019161</td>\n",
              "      <td>0.241147</td>\n",
              "      <td>0.239808</td>\n",
              "      <td>0.221702</td>\n",
              "      <td>0.012456</td>\n",
              "      <td>NaN</td>\n",
              "      <td>NaN</td>\n",
              "    </tr>\n",
              "    <tr>\n",
              "      <th>Total Annual Budgeted FTE Period End</th>\n",
              "      <td>0.097011</td>\n",
              "      <td>0.032815</td>\n",
              "      <td>0.058226</td>\n",
              "      <td>0.008694</td>\n",
              "      <td>0.008694</td>\n",
              "      <td>-0.006311</td>\n",
              "      <td>-0.076233</td>\n",
              "      <td>-0.100489</td>\n",
              "      <td>0.048026</td>\n",
              "      <td>-0.059895</td>\n",
              "      <td>...</td>\n",
              "      <td>0.473710</td>\n",
              "      <td>0.169035</td>\n",
              "      <td>0.307995</td>\n",
              "      <td>0.018372</td>\n",
              "      <td>0.240038</td>\n",
              "      <td>0.238694</td>\n",
              "      <td>0.221073</td>\n",
              "      <td>0.012099</td>\n",
              "      <td>NaN</td>\n",
              "      <td>NaN</td>\n",
              "    </tr>\n",
              "    <tr>\n",
              "      <th>FTE Joiners</th>\n",
              "      <td>0.001913</td>\n",
              "      <td>-0.004217</td>\n",
              "      <td>0.004588</td>\n",
              "      <td>0.001088</td>\n",
              "      <td>0.001088</td>\n",
              "      <td>0.010107</td>\n",
              "      <td>0.391967</td>\n",
              "      <td>-0.010686</td>\n",
              "      <td>0.019778</td>\n",
              "      <td>0.091500</td>\n",
              "      <td>...</td>\n",
              "      <td>0.036031</td>\n",
              "      <td>-0.020207</td>\n",
              "      <td>0.006972</td>\n",
              "      <td>0.004914</td>\n",
              "      <td>-0.054671</td>\n",
              "      <td>-0.051247</td>\n",
              "      <td>-0.097790</td>\n",
              "      <td>0.017919</td>\n",
              "      <td>NaN</td>\n",
              "      <td>NaN</td>\n",
              "    </tr>\n",
              "    <tr>\n",
              "      <th>FTE LEAVERS</th>\n",
              "      <td>-0.001185</td>\n",
              "      <td>0.011358</td>\n",
              "      <td>-0.005558</td>\n",
              "      <td>0.010694</td>\n",
              "      <td>0.010694</td>\n",
              "      <td>0.000892</td>\n",
              "      <td>-0.011941</td>\n",
              "      <td>0.427353</td>\n",
              "      <td>-0.110505</td>\n",
              "      <td>-0.016625</td>\n",
              "      <td>...</td>\n",
              "      <td>0.054653</td>\n",
              "      <td>0.018915</td>\n",
              "      <td>0.024744</td>\n",
              "      <td>0.008119</td>\n",
              "      <td>0.019401</td>\n",
              "      <td>0.019480</td>\n",
              "      <td>0.032364</td>\n",
              "      <td>0.021143</td>\n",
              "      <td>NaN</td>\n",
              "      <td>NaN</td>\n",
              "    </tr>\n",
              "    <tr>\n",
              "      <th>FTE Position Started</th>\n",
              "      <td>-0.001305</td>\n",
              "      <td>-0.019823</td>\n",
              "      <td>0.022067</td>\n",
              "      <td>0.066215</td>\n",
              "      <td>0.066215</td>\n",
              "      <td>-0.003771</td>\n",
              "      <td>0.072645</td>\n",
              "      <td>-0.018114</td>\n",
              "      <td>0.022440</td>\n",
              "      <td>0.459778</td>\n",
              "      <td>...</td>\n",
              "      <td>0.060582</td>\n",
              "      <td>-0.079079</td>\n",
              "      <td>0.017494</td>\n",
              "      <td>0.023572</td>\n",
              "      <td>0.028936</td>\n",
              "      <td>0.029360</td>\n",
              "      <td>0.018618</td>\n",
              "      <td>0.017392</td>\n",
              "      <td>NaN</td>\n",
              "      <td>NaN</td>\n",
              "    </tr>\n",
              "    <tr>\n",
              "      <th>FTE Position Ended</th>\n",
              "      <td>-0.007840</td>\n",
              "      <td>-0.005626</td>\n",
              "      <td>0.005775</td>\n",
              "      <td>0.005622</td>\n",
              "      <td>0.005622</td>\n",
              "      <td>0.017087</td>\n",
              "      <td>-0.015670</td>\n",
              "      <td>0.224406</td>\n",
              "      <td>-0.050967</td>\n",
              "      <td>-0.017355</td>\n",
              "      <td>...</td>\n",
              "      <td>0.059578</td>\n",
              "      <td>-0.040495</td>\n",
              "      <td>0.020910</td>\n",
              "      <td>0.021613</td>\n",
              "      <td>0.031927</td>\n",
              "      <td>0.031875</td>\n",
              "      <td>0.041807</td>\n",
              "      <td>0.019176</td>\n",
              "      <td>NaN</td>\n",
              "      <td>NaN</td>\n",
              "    </tr>\n",
              "    <tr>\n",
              "      <th>ANNUAL WEEKS WORKED</th>\n",
              "      <td>0.025732</td>\n",
              "      <td>0.022712</td>\n",
              "      <td>0.011865</td>\n",
              "      <td>0.024314</td>\n",
              "      <td>0.024314</td>\n",
              "      <td>-0.014105</td>\n",
              "      <td>-0.147278</td>\n",
              "      <td>-0.146486</td>\n",
              "      <td>0.037342</td>\n",
              "      <td>-0.113418</td>\n",
              "      <td>...</td>\n",
              "      <td>0.667883</td>\n",
              "      <td>0.174844</td>\n",
              "      <td>0.446371</td>\n",
              "      <td>0.154657</td>\n",
              "      <td>0.477811</td>\n",
              "      <td>0.475287</td>\n",
              "      <td>0.386613</td>\n",
              "      <td>-0.024224</td>\n",
              "      <td>NaN</td>\n",
              "      <td>NaN</td>\n",
              "    </tr>\n",
              "    <tr>\n",
              "      <th>CONTRACTUAL HOURS</th>\n",
              "      <td>0.008301</td>\n",
              "      <td>0.015991</td>\n",
              "      <td>0.002076</td>\n",
              "      <td>0.010646</td>\n",
              "      <td>0.010646</td>\n",
              "      <td>-0.010570</td>\n",
              "      <td>-0.123447</td>\n",
              "      <td>-0.122922</td>\n",
              "      <td>0.280826</td>\n",
              "      <td>-0.136697</td>\n",
              "      <td>...</td>\n",
              "      <td>0.824708</td>\n",
              "      <td>0.117583</td>\n",
              "      <td>0.421735</td>\n",
              "      <td>0.150958</td>\n",
              "      <td>0.460467</td>\n",
              "      <td>0.458121</td>\n",
              "      <td>0.471400</td>\n",
              "      <td>0.259752</td>\n",
              "      <td>NaN</td>\n",
              "      <td>NaN</td>\n",
              "    </tr>\n",
              "    <tr>\n",
              "      <th>Permanent Establishment Budget</th>\n",
              "      <td>0.081205</td>\n",
              "      <td>0.028286</td>\n",
              "      <td>0.047771</td>\n",
              "      <td>0.009222</td>\n",
              "      <td>0.009222</td>\n",
              "      <td>-0.008196</td>\n",
              "      <td>-0.077755</td>\n",
              "      <td>-0.092697</td>\n",
              "      <td>0.054687</td>\n",
              "      <td>-0.055733</td>\n",
              "      <td>...</td>\n",
              "      <td>0.450145</td>\n",
              "      <td>0.044342</td>\n",
              "      <td>0.303648</td>\n",
              "      <td>0.022461</td>\n",
              "      <td>0.294014</td>\n",
              "      <td>0.292816</td>\n",
              "      <td>0.244677</td>\n",
              "      <td>0.023307</td>\n",
              "      <td>NaN</td>\n",
              "      <td>NaN</td>\n",
              "    </tr>\n",
              "    <tr>\n",
              "      <th>Temporary Establishment Budget</th>\n",
              "      <td>0.046630</td>\n",
              "      <td>0.014389</td>\n",
              "      <td>0.029435</td>\n",
              "      <td>0.000495</td>\n",
              "      <td>0.000495</td>\n",
              "      <td>0.002437</td>\n",
              "      <td>-0.006341</td>\n",
              "      <td>-0.027482</td>\n",
              "      <td>-0.016336</td>\n",
              "      <td>-0.015996</td>\n",
              "      <td>...</td>\n",
              "      <td>0.100084</td>\n",
              "      <td>0.116113</td>\n",
              "      <td>0.047767</td>\n",
              "      <td>-0.007943</td>\n",
              "      <td>-0.093223</td>\n",
              "      <td>-0.093683</td>\n",
              "      <td>-0.027397</td>\n",
              "      <td>-0.030135</td>\n",
              "      <td>NaN</td>\n",
              "      <td>NaN</td>\n",
              "    </tr>\n",
              "    <tr>\n",
              "      <th>Total Establishment Budget Hours</th>\n",
              "      <td>0.097358</td>\n",
              "      <td>0.033105</td>\n",
              "      <td>0.058146</td>\n",
              "      <td>0.008965</td>\n",
              "      <td>0.008965</td>\n",
              "      <td>-0.006713</td>\n",
              "      <td>-0.076528</td>\n",
              "      <td>-0.099917</td>\n",
              "      <td>0.044763</td>\n",
              "      <td>-0.059844</td>\n",
              "      <td>...</td>\n",
              "      <td>0.473146</td>\n",
              "      <td>0.154463</td>\n",
              "      <td>0.310436</td>\n",
              "      <td>0.017843</td>\n",
              "      <td>0.240343</td>\n",
              "      <td>0.239007</td>\n",
              "      <td>0.220186</td>\n",
              "      <td>0.008980</td>\n",
              "      <td>NaN</td>\n",
              "      <td>NaN</td>\n",
              "    </tr>\n",
              "    <tr>\n",
              "      <th>Hours Variance</th>\n",
              "      <td>0.084781</td>\n",
              "      <td>0.014730</td>\n",
              "      <td>0.053721</td>\n",
              "      <td>-0.002775</td>\n",
              "      <td>-0.002775</td>\n",
              "      <td>0.004859</td>\n",
              "      <td>0.058553</td>\n",
              "      <td>0.035487</td>\n",
              "      <td>-0.257646</td>\n",
              "      <td>0.088793</td>\n",
              "      <td>...</td>\n",
              "      <td>-0.389428</td>\n",
              "      <td>0.109875</td>\n",
              "      <td>-0.134213</td>\n",
              "      <td>-0.144471</td>\n",
              "      <td>-0.269695</td>\n",
              "      <td>-0.268433</td>\n",
              "      <td>-0.292939</td>\n",
              "      <td>-0.269510</td>\n",
              "      <td>NaN</td>\n",
              "      <td>NaN</td>\n",
              "    </tr>\n",
              "    <tr>\n",
              "      <th>FTE HOURS</th>\n",
              "      <td>0.025706</td>\n",
              "      <td>0.023687</td>\n",
              "      <td>0.011174</td>\n",
              "      <td>0.025070</td>\n",
              "      <td>0.025070</td>\n",
              "      <td>-0.014797</td>\n",
              "      <td>-0.145987</td>\n",
              "      <td>-0.145676</td>\n",
              "      <td>0.038488</td>\n",
              "      <td>-0.113479</td>\n",
              "      <td>...</td>\n",
              "      <td>0.662108</td>\n",
              "      <td>-0.176623</td>\n",
              "      <td>0.450589</td>\n",
              "      <td>0.150193</td>\n",
              "      <td>0.479989</td>\n",
              "      <td>0.477526</td>\n",
              "      <td>0.388156</td>\n",
              "      <td>-0.021983</td>\n",
              "      <td>NaN</td>\n",
              "      <td>NaN</td>\n",
              "    </tr>\n",
              "    <tr>\n",
              "      <th>FTE</th>\n",
              "      <td>0.008637</td>\n",
              "      <td>0.016024</td>\n",
              "      <td>0.002395</td>\n",
              "      <td>0.010521</td>\n",
              "      <td>0.010521</td>\n",
              "      <td>-0.010497</td>\n",
              "      <td>-0.122706</td>\n",
              "      <td>-0.122356</td>\n",
              "      <td>0.279487</td>\n",
              "      <td>-0.135937</td>\n",
              "      <td>...</td>\n",
              "      <td>0.825190</td>\n",
              "      <td>0.146744</td>\n",
              "      <td>0.420583</td>\n",
              "      <td>0.150161</td>\n",
              "      <td>0.456904</td>\n",
              "      <td>0.454555</td>\n",
              "      <td>0.468571</td>\n",
              "      <td>0.258442</td>\n",
              "      <td>NaN</td>\n",
              "      <td>NaN</td>\n",
              "    </tr>\n",
              "    <tr>\n",
              "      <th>Total Budgeted FTE</th>\n",
              "      <td>0.097279</td>\n",
              "      <td>0.033034</td>\n",
              "      <td>0.058109</td>\n",
              "      <td>0.008956</td>\n",
              "      <td>0.008956</td>\n",
              "      <td>-0.006718</td>\n",
              "      <td>-0.076537</td>\n",
              "      <td>-0.099830</td>\n",
              "      <td>0.044366</td>\n",
              "      <td>-0.059686</td>\n",
              "      <td>...</td>\n",
              "      <td>0.471204</td>\n",
              "      <td>0.161517</td>\n",
              "      <td>0.306474</td>\n",
              "      <td>0.019271</td>\n",
              "      <td>0.241040</td>\n",
              "      <td>0.239705</td>\n",
              "      <td>0.220089</td>\n",
              "      <td>0.008569</td>\n",
              "      <td>NaN</td>\n",
              "      <td>NaN</td>\n",
              "    </tr>\n",
              "    <tr>\n",
              "      <th>Total Annual Budgeted FTE</th>\n",
              "      <td>0.097041</td>\n",
              "      <td>0.032950</td>\n",
              "      <td>0.058040</td>\n",
              "      <td>0.008967</td>\n",
              "      <td>0.008967</td>\n",
              "      <td>-0.006687</td>\n",
              "      <td>-0.076412</td>\n",
              "      <td>-0.099686</td>\n",
              "      <td>0.044000</td>\n",
              "      <td>-0.059896</td>\n",
              "      <td>...</td>\n",
              "      <td>0.472522</td>\n",
              "      <td>0.169035</td>\n",
              "      <td>0.307956</td>\n",
              "      <td>0.018484</td>\n",
              "      <td>0.239931</td>\n",
              "      <td>0.238591</td>\n",
              "      <td>0.219458</td>\n",
              "      <td>0.008209</td>\n",
              "      <td>NaN</td>\n",
              "      <td>NaN</td>\n",
              "    </tr>\n",
              "    <tr>\n",
              "      <th>FTEVariance</th>\n",
              "      <td>0.084253</td>\n",
              "      <td>0.014534</td>\n",
              "      <td>0.053403</td>\n",
              "      <td>-0.002699</td>\n",
              "      <td>-0.002699</td>\n",
              "      <td>0.004838</td>\n",
              "      <td>0.058073</td>\n",
              "      <td>0.035214</td>\n",
              "      <td>-0.257524</td>\n",
              "      <td>0.088197</td>\n",
              "      <td>...</td>\n",
              "      <td>-0.392089</td>\n",
              "      <td>0.106625</td>\n",
              "      <td>-0.136192</td>\n",
              "      <td>-0.143454</td>\n",
              "      <td>-0.267474</td>\n",
              "      <td>-0.266209</td>\n",
              "      <td>-0.291625</td>\n",
              "      <td>-0.269439</td>\n",
              "      <td>NaN</td>\n",
              "      <td>NaN</td>\n",
              "    </tr>\n",
              "    <tr>\n",
              "      <th>SALARY</th>\n",
              "      <td>0.028144</td>\n",
              "      <td>0.013244</td>\n",
              "      <td>0.017857</td>\n",
              "      <td>0.011082</td>\n",
              "      <td>0.011082</td>\n",
              "      <td>-0.001419</td>\n",
              "      <td>-0.062766</td>\n",
              "      <td>-0.059954</td>\n",
              "      <td>0.089196</td>\n",
              "      <td>-0.068622</td>\n",
              "      <td>...</td>\n",
              "      <td>0.774457</td>\n",
              "      <td>1.000000</td>\n",
              "      <td>1.000000</td>\n",
              "      <td>-0.332259</td>\n",
              "      <td>0.227992</td>\n",
              "      <td>0.226726</td>\n",
              "      <td>0.231635</td>\n",
              "      <td>0.065283</td>\n",
              "      <td>NaN</td>\n",
              "      <td>NaN</td>\n",
              "    </tr>\n",
              "    <tr>\n",
              "      <th>Pro Rated Salary</th>\n",
              "      <td>0.016482</td>\n",
              "      <td>0.014230</td>\n",
              "      <td>0.008743</td>\n",
              "      <td>0.010688</td>\n",
              "      <td>0.010688</td>\n",
              "      <td>-0.003902</td>\n",
              "      <td>-0.114709</td>\n",
              "      <td>-0.109243</td>\n",
              "      <td>0.259868</td>\n",
              "      <td>-0.135241</td>\n",
              "      <td>...</td>\n",
              "      <td>1.000000</td>\n",
              "      <td>0.917734</td>\n",
              "      <td>0.764609</td>\n",
              "      <td>-0.060983</td>\n",
              "      <td>0.369850</td>\n",
              "      <td>0.367531</td>\n",
              "      <td>0.436805</td>\n",
              "      <td>0.239365</td>\n",
              "      <td>NaN</td>\n",
              "      <td>NaN</td>\n",
              "    </tr>\n",
              "    <tr>\n",
              "      <th>Off Scale Salary</th>\n",
              "      <td>0.004436</td>\n",
              "      <td>0.016185</td>\n",
              "      <td>-0.011905</td>\n",
              "      <td>0.024562</td>\n",
              "      <td>0.024562</td>\n",
              "      <td>-0.002173</td>\n",
              "      <td>-0.005290</td>\n",
              "      <td>0.020899</td>\n",
              "      <td>0.016112</td>\n",
              "      <td>-0.082632</td>\n",
              "      <td>...</td>\n",
              "      <td>0.917734</td>\n",
              "      <td>1.000000</td>\n",
              "      <td>NaN</td>\n",
              "      <td>0.416661</td>\n",
              "      <td>0.072002</td>\n",
              "      <td>0.070799</td>\n",
              "      <td>0.131157</td>\n",
              "      <td>-0.000297</td>\n",
              "      <td>NaN</td>\n",
              "      <td>NaN</td>\n",
              "    </tr>\n",
              "    <tr>\n",
              "      <th>Actual Scalepoint Val</th>\n",
              "      <td>0.027358</td>\n",
              "      <td>0.012887</td>\n",
              "      <td>0.017592</td>\n",
              "      <td>0.010837</td>\n",
              "      <td>0.010837</td>\n",
              "      <td>-0.001481</td>\n",
              "      <td>-0.064777</td>\n",
              "      <td>-0.061403</td>\n",
              "      <td>0.089490</td>\n",
              "      <td>-0.069273</td>\n",
              "      <td>...</td>\n",
              "      <td>0.764609</td>\n",
              "      <td>NaN</td>\n",
              "      <td>1.000000</td>\n",
              "      <td>-0.360258</td>\n",
              "      <td>0.241124</td>\n",
              "      <td>0.239849</td>\n",
              "      <td>0.238387</td>\n",
              "      <td>0.064840</td>\n",
              "      <td>NaN</td>\n",
              "      <td>NaN</td>\n",
              "    </tr>\n",
              "    <tr>\n",
              "      <th>Academic employment function code</th>\n",
              "      <td>-0.023545</td>\n",
              "      <td>0.000183</td>\n",
              "      <td>-0.022349</td>\n",
              "      <td>0.008260</td>\n",
              "      <td>0.008260</td>\n",
              "      <td>-0.005098</td>\n",
              "      <td>-0.031371</td>\n",
              "      <td>-0.016635</td>\n",
              "      <td>-0.019059</td>\n",
              "      <td>-0.012116</td>\n",
              "      <td>...</td>\n",
              "      <td>-0.060983</td>\n",
              "      <td>0.416661</td>\n",
              "      <td>-0.360258</td>\n",
              "      <td>1.000000</td>\n",
              "      <td>0.125009</td>\n",
              "      <td>0.124654</td>\n",
              "      <td>0.085308</td>\n",
              "      <td>-0.017193</td>\n",
              "      <td>NaN</td>\n",
              "      <td>NaN</td>\n",
              "    </tr>\n",
              "    <tr>\n",
              "      <th>SERVICE LENGTH DAYS</th>\n",
              "      <td>0.006065</td>\n",
              "      <td>0.011781</td>\n",
              "      <td>-0.003133</td>\n",
              "      <td>0.012634</td>\n",
              "      <td>0.012634</td>\n",
              "      <td>-0.007110</td>\n",
              "      <td>-0.139650</td>\n",
              "      <td>-0.086571</td>\n",
              "      <td>0.071262</td>\n",
              "      <td>-0.100636</td>\n",
              "      <td>...</td>\n",
              "      <td>0.369850</td>\n",
              "      <td>0.072002</td>\n",
              "      <td>0.241124</td>\n",
              "      <td>0.125009</td>\n",
              "      <td>1.000000</td>\n",
              "      <td>0.999405</td>\n",
              "      <td>0.452125</td>\n",
              "      <td>NaN</td>\n",
              "      <td>NaN</td>\n",
              "      <td>NaN</td>\n",
              "    </tr>\n",
              "    <tr>\n",
              "      <th>SERVICE LENGTH YEARS</th>\n",
              "      <td>0.006902</td>\n",
              "      <td>0.009492</td>\n",
              "      <td>-0.000535</td>\n",
              "      <td>0.008891</td>\n",
              "      <td>0.008891</td>\n",
              "      <td>-0.004031</td>\n",
              "      <td>-0.130864</td>\n",
              "      <td>-0.086459</td>\n",
              "      <td>0.070573</td>\n",
              "      <td>-0.094285</td>\n",
              "      <td>...</td>\n",
              "      <td>0.367531</td>\n",
              "      <td>0.070799</td>\n",
              "      <td>0.239849</td>\n",
              "      <td>0.124654</td>\n",
              "      <td>0.999405</td>\n",
              "      <td>1.000000</td>\n",
              "      <td>0.450795</td>\n",
              "      <td>NaN</td>\n",
              "      <td>NaN</td>\n",
              "      <td>NaN</td>\n",
              "    </tr>\n",
              "    <tr>\n",
              "      <th>ONE YEARS SERVICE FLAG</th>\n",
              "      <td>-0.025395</td>\n",
              "      <td>0.001078</td>\n",
              "      <td>-0.029204</td>\n",
              "      <td>0.001323</td>\n",
              "      <td>0.001323</td>\n",
              "      <td>0.002254</td>\n",
              "      <td>-0.249485</td>\n",
              "      <td>-0.073218</td>\n",
              "      <td>0.369695</td>\n",
              "      <td>-0.206336</td>\n",
              "      <td>...</td>\n",
              "      <td>0.436805</td>\n",
              "      <td>0.131157</td>\n",
              "      <td>0.238387</td>\n",
              "      <td>0.085308</td>\n",
              "      <td>0.452125</td>\n",
              "      <td>0.450795</td>\n",
              "      <td>1.000000</td>\n",
              "      <td>0.389030</td>\n",
              "      <td>NaN</td>\n",
              "      <td>NaN</td>\n",
              "    </tr>\n",
              "    <tr>\n",
              "      <th>distinct person id</th>\n",
              "      <td>-0.029859</td>\n",
              "      <td>-0.004098</td>\n",
              "      <td>-0.014988</td>\n",
              "      <td>-0.021985</td>\n",
              "      <td>-0.021985</td>\n",
              "      <td>-0.000756</td>\n",
              "      <td>0.045714</td>\n",
              "      <td>0.049474</td>\n",
              "      <td>0.871979</td>\n",
              "      <td>-0.069255</td>\n",
              "      <td>...</td>\n",
              "      <td>0.239365</td>\n",
              "      <td>-0.000297</td>\n",
              "      <td>0.064840</td>\n",
              "      <td>-0.017193</td>\n",
              "      <td>NaN</td>\n",
              "      <td>NaN</td>\n",
              "      <td>0.389030</td>\n",
              "      <td>1.000000</td>\n",
              "      <td>NaN</td>\n",
              "      <td>NaN</td>\n",
              "    </tr>\n",
              "    <tr>\n",
              "      <th>Unnamed: 89</th>\n",
              "      <td>NaN</td>\n",
              "      <td>NaN</td>\n",
              "      <td>NaN</td>\n",
              "      <td>NaN</td>\n",
              "      <td>NaN</td>\n",
              "      <td>NaN</td>\n",
              "      <td>NaN</td>\n",
              "      <td>NaN</td>\n",
              "      <td>NaN</td>\n",
              "      <td>NaN</td>\n",
              "      <td>...</td>\n",
              "      <td>NaN</td>\n",
              "      <td>NaN</td>\n",
              "      <td>NaN</td>\n",
              "      <td>NaN</td>\n",
              "      <td>NaN</td>\n",
              "      <td>NaN</td>\n",
              "      <td>NaN</td>\n",
              "      <td>NaN</td>\n",
              "      <td>NaN</td>\n",
              "      <td>NaN</td>\n",
              "    </tr>\n",
              "    <tr>\n",
              "      <th>distinct position id</th>\n",
              "      <td>NaN</td>\n",
              "      <td>NaN</td>\n",
              "      <td>NaN</td>\n",
              "      <td>NaN</td>\n",
              "      <td>NaN</td>\n",
              "      <td>NaN</td>\n",
              "      <td>NaN</td>\n",
              "      <td>NaN</td>\n",
              "      <td>NaN</td>\n",
              "      <td>NaN</td>\n",
              "      <td>...</td>\n",
              "      <td>NaN</td>\n",
              "      <td>NaN</td>\n",
              "      <td>NaN</td>\n",
              "      <td>NaN</td>\n",
              "      <td>NaN</td>\n",
              "      <td>NaN</td>\n",
              "      <td>NaN</td>\n",
              "      <td>NaN</td>\n",
              "      <td>NaN</td>\n",
              "      <td>NaN</td>\n",
              "    </tr>\n",
              "  </tbody>\n",
              "</table>\n",
              "<p>43 rows × 43 columns</p>\n",
              "</div>\n",
              "      <button class=\"colab-df-convert\" onclick=\"convertToInteractive('df-ec738e8b-b5eb-4190-8131-e8da3389fce7')\"\n",
              "              title=\"Convert this dataframe to an interactive table.\"\n",
              "              style=\"display:none;\">\n",
              "        \n",
              "  <svg xmlns=\"http://www.w3.org/2000/svg\" height=\"24px\"viewBox=\"0 0 24 24\"\n",
              "       width=\"24px\">\n",
              "    <path d=\"M0 0h24v24H0V0z\" fill=\"none\"/>\n",
              "    <path d=\"M18.56 5.44l.94 2.06.94-2.06 2.06-.94-2.06-.94-.94-2.06-.94 2.06-2.06.94zm-11 1L8.5 8.5l.94-2.06 2.06-.94-2.06-.94L8.5 2.5l-.94 2.06-2.06.94zm10 10l.94 2.06.94-2.06 2.06-.94-2.06-.94-.94-2.06-.94 2.06-2.06.94z\"/><path d=\"M17.41 7.96l-1.37-1.37c-.4-.4-.92-.59-1.43-.59-.52 0-1.04.2-1.43.59L10.3 9.45l-7.72 7.72c-.78.78-.78 2.05 0 2.83L4 21.41c.39.39.9.59 1.41.59.51 0 1.02-.2 1.41-.59l7.78-7.78 2.81-2.81c.8-.78.8-2.07 0-2.86zM5.41 20L4 18.59l7.72-7.72 1.47 1.35L5.41 20z\"/>\n",
              "  </svg>\n",
              "      </button>\n",
              "      \n",
              "  <style>\n",
              "    .colab-df-container {\n",
              "      display:flex;\n",
              "      flex-wrap:wrap;\n",
              "      gap: 12px;\n",
              "    }\n",
              "\n",
              "    .colab-df-convert {\n",
              "      background-color: #E8F0FE;\n",
              "      border: none;\n",
              "      border-radius: 50%;\n",
              "      cursor: pointer;\n",
              "      display: none;\n",
              "      fill: #1967D2;\n",
              "      height: 32px;\n",
              "      padding: 0 0 0 0;\n",
              "      width: 32px;\n",
              "    }\n",
              "\n",
              "    .colab-df-convert:hover {\n",
              "      background-color: #E2EBFA;\n",
              "      box-shadow: 0px 1px 2px rgba(60, 64, 67, 0.3), 0px 1px 3px 1px rgba(60, 64, 67, 0.15);\n",
              "      fill: #174EA6;\n",
              "    }\n",
              "\n",
              "    [theme=dark] .colab-df-convert {\n",
              "      background-color: #3B4455;\n",
              "      fill: #D2E3FC;\n",
              "    }\n",
              "\n",
              "    [theme=dark] .colab-df-convert:hover {\n",
              "      background-color: #434B5C;\n",
              "      box-shadow: 0px 1px 3px 1px rgba(0, 0, 0, 0.15);\n",
              "      filter: drop-shadow(0px 1px 2px rgba(0, 0, 0, 0.3));\n",
              "      fill: #FFFFFF;\n",
              "    }\n",
              "  </style>\n",
              "\n",
              "      <script>\n",
              "        const buttonEl =\n",
              "          document.querySelector('#df-ec738e8b-b5eb-4190-8131-e8da3389fce7 button.colab-df-convert');\n",
              "        buttonEl.style.display =\n",
              "          google.colab.kernel.accessAllowed ? 'block' : 'none';\n",
              "\n",
              "        async function convertToInteractive(key) {\n",
              "          const element = document.querySelector('#df-ec738e8b-b5eb-4190-8131-e8da3389fce7');\n",
              "          const dataTable =\n",
              "            await google.colab.kernel.invokeFunction('convertToInteractive',\n",
              "                                                     [key], {});\n",
              "          if (!dataTable) return;\n",
              "\n",
              "          const docLinkHtml = 'Like what you see? Visit the ' +\n",
              "            '<a target=\"_blank\" href=https://colab.research.google.com/notebooks/data_table.ipynb>data table notebook</a>'\n",
              "            + ' to learn more about interactive tables.';\n",
              "          element.innerHTML = '';\n",
              "          dataTable['output_type'] = 'display_data';\n",
              "          await google.colab.output.renderOutput(dataTable, element);\n",
              "          const docLink = document.createElement('div');\n",
              "          docLink.innerHTML = docLinkHtml;\n",
              "          element.appendChild(docLink);\n",
              "        }\n",
              "      </script>\n",
              "    </div>\n",
              "  </div>\n",
              "  "
            ],
            "text/plain": [
              "                                      Month Number  REPORT MONTH  YTD FLAG  \\\n",
              "Month Number                              1.000000      0.337683  0.636919   \n",
              "REPORT MONTH                              0.337683      1.000000 -0.491709   \n",
              "YTD FLAG                                  0.636919     -0.491709  1.000000   \n",
              "FIN YTD START FLAG                        0.012301      0.168303 -0.122003   \n",
              "FIN YTD START POS                         0.012301      0.168303 -0.122003   \n",
              "YTD START FLAG - Person                  -0.020799     -0.515698  0.380795   \n",
              "JOINER IN PERIOD                          0.018088     -0.005560  0.022758   \n",
              "LEAVER IN PERIOD                         -0.001921      0.035484 -0.025735   \n",
              "HEADCOUNT PERIOD END                     -0.026898     -0.022283 -0.000317   \n",
              "New position in period                    0.014325     -0.014247  0.028841   \n",
              "Position Ended in Period                 -0.007918      0.022690 -0.019499   \n",
              "Position Count Period End                -0.005027     -0.034515  0.018322   \n",
              "FTE PERIOD END                            0.008944      0.014816  0.003533   \n",
              "Permanent Budget FTE Period End           0.081169      0.028139  0.047900   \n",
              "Temporary Budget FTE Period End           0.046595      0.014275  0.029586   \n",
              "Total Budgeted FTE Period End             0.097249      0.032899  0.058295   \n",
              "Total Annual Budgeted FTE Period End      0.097011      0.032815  0.058226   \n",
              "FTE Joiners                               0.001913     -0.004217  0.004588   \n",
              "FTE LEAVERS                              -0.001185      0.011358 -0.005558   \n",
              "FTE Position Started                     -0.001305     -0.019823  0.022067   \n",
              "FTE Position Ended                       -0.007840     -0.005626  0.005775   \n",
              "ANNUAL WEEKS WORKED                       0.025732      0.022712  0.011865   \n",
              "CONTRACTUAL HOURS                         0.008301      0.015991  0.002076   \n",
              "Permanent Establishment Budget            0.081205      0.028286  0.047771   \n",
              "Temporary Establishment Budget            0.046630      0.014389  0.029435   \n",
              "Total Establishment Budget Hours          0.097358      0.033105  0.058146   \n",
              "Hours Variance                            0.084781      0.014730  0.053721   \n",
              "FTE HOURS                                 0.025706      0.023687  0.011174   \n",
              "FTE                                       0.008637      0.016024  0.002395   \n",
              "Total Budgeted FTE                        0.097279      0.033034  0.058109   \n",
              "Total Annual Budgeted FTE                 0.097041      0.032950  0.058040   \n",
              "FTEVariance                               0.084253      0.014534  0.053403   \n",
              "SALARY                                    0.028144      0.013244  0.017857   \n",
              "Pro Rated Salary                          0.016482      0.014230  0.008743   \n",
              "Off Scale Salary                          0.004436      0.016185 -0.011905   \n",
              "Actual Scalepoint Val                     0.027358      0.012887  0.017592   \n",
              "Academic employment function code        -0.023545      0.000183 -0.022349   \n",
              "SERVICE LENGTH DAYS                       0.006065      0.011781 -0.003133   \n",
              "SERVICE LENGTH YEARS                      0.006902      0.009492 -0.000535   \n",
              "ONE YEARS SERVICE FLAG                   -0.025395      0.001078 -0.029204   \n",
              "distinct person id                       -0.029859     -0.004098 -0.014988   \n",
              "Unnamed: 89                                    NaN           NaN       NaN   \n",
              "distinct position id                           NaN           NaN       NaN   \n",
              "\n",
              "                                      FIN YTD START FLAG  FIN YTD START POS  \\\n",
              "Month Number                                    0.012301           0.012301   \n",
              "REPORT MONTH                                    0.168303           0.168303   \n",
              "YTD FLAG                                       -0.122003          -0.122003   \n",
              "FIN YTD START FLAG                              1.000000           1.000000   \n",
              "FIN YTD START POS                               1.000000           1.000000   \n",
              "YTD START FLAG - Person                        -0.105998          -0.105998   \n",
              "JOINER IN PERIOD                               -0.010550          -0.010550   \n",
              "LEAVER IN PERIOD                                0.003231           0.003231   \n",
              "HEADCOUNT PERIOD END                           -0.019520          -0.019520   \n",
              "New position in period                          0.022487           0.022487   \n",
              "Position Ended in Period                        0.023895           0.023895   \n",
              "Position Count Period End                      -0.034216          -0.034216   \n",
              "FTE PERIOD END                                  0.009591           0.009591   \n",
              "Permanent Budget FTE Period End                 0.008904           0.008904   \n",
              "Temporary Budget FTE Period End                 0.000534           0.000534   \n",
              "Total Budgeted FTE Period End                   0.008684           0.008684   \n",
              "Total Annual Budgeted FTE Period End            0.008694           0.008694   \n",
              "FTE Joiners                                     0.001088           0.001088   \n",
              "FTE LEAVERS                                     0.010694           0.010694   \n",
              "FTE Position Started                            0.066215           0.066215   \n",
              "FTE Position Ended                              0.005622           0.005622   \n",
              "ANNUAL WEEKS WORKED                             0.024314           0.024314   \n",
              "CONTRACTUAL HOURS                               0.010646           0.010646   \n",
              "Permanent Establishment Budget                  0.009222           0.009222   \n",
              "Temporary Establishment Budget                  0.000495           0.000495   \n",
              "Total Establishment Budget Hours                0.008965           0.008965   \n",
              "Hours Variance                                 -0.002775          -0.002775   \n",
              "FTE HOURS                                       0.025070           0.025070   \n",
              "FTE                                             0.010521           0.010521   \n",
              "Total Budgeted FTE                              0.008956           0.008956   \n",
              "Total Annual Budgeted FTE                       0.008967           0.008967   \n",
              "FTEVariance                                    -0.002699          -0.002699   \n",
              "SALARY                                          0.011082           0.011082   \n",
              "Pro Rated Salary                                0.010688           0.010688   \n",
              "Off Scale Salary                                0.024562           0.024562   \n",
              "Actual Scalepoint Val                           0.010837           0.010837   \n",
              "Academic employment function code               0.008260           0.008260   \n",
              "SERVICE LENGTH DAYS                             0.012634           0.012634   \n",
              "SERVICE LENGTH YEARS                            0.008891           0.008891   \n",
              "ONE YEARS SERVICE FLAG                          0.001323           0.001323   \n",
              "distinct person id                             -0.021985          -0.021985   \n",
              "Unnamed: 89                                          NaN                NaN   \n",
              "distinct position id                                 NaN                NaN   \n",
              "\n",
              "                                      YTD START FLAG - Person  \\\n",
              "Month Number                                        -0.020799   \n",
              "REPORT MONTH                                        -0.515698   \n",
              "YTD FLAG                                             0.380795   \n",
              "FIN YTD START FLAG                                  -0.105998   \n",
              "FIN YTD START POS                                   -0.105998   \n",
              "YTD START FLAG - Person                              1.000000   \n",
              "JOINER IN PERIOD                                     0.056737   \n",
              "LEAVER IN PERIOD                                    -0.020465   \n",
              "HEADCOUNT PERIOD END                                 0.008857   \n",
              "New position in period                               0.045537   \n",
              "Position Ended in Period                            -0.019564   \n",
              "Position Count Period End                            0.026364   \n",
              "FTE PERIOD END                                      -0.010232   \n",
              "Permanent Budget FTE Period End                     -0.007846   \n",
              "Temporary Budget FTE Period End                      0.002550   \n",
              "Total Budgeted FTE Period End                       -0.006342   \n",
              "Total Annual Budgeted FTE Period End                -0.006311   \n",
              "FTE Joiners                                          0.010107   \n",
              "FTE LEAVERS                                          0.000892   \n",
              "FTE Position Started                                -0.003771   \n",
              "FTE Position Ended                                   0.017087   \n",
              "ANNUAL WEEKS WORKED                                 -0.014105   \n",
              "CONTRACTUAL HOURS                                   -0.010570   \n",
              "Permanent Establishment Budget                      -0.008196   \n",
              "Temporary Establishment Budget                       0.002437   \n",
              "Total Establishment Budget Hours                    -0.006713   \n",
              "Hours Variance                                       0.004859   \n",
              "FTE HOURS                                           -0.014797   \n",
              "FTE                                                 -0.010497   \n",
              "Total Budgeted FTE                                  -0.006718   \n",
              "Total Annual Budgeted FTE                           -0.006687   \n",
              "FTEVariance                                          0.004838   \n",
              "SALARY                                              -0.001419   \n",
              "Pro Rated Salary                                    -0.003902   \n",
              "Off Scale Salary                                    -0.002173   \n",
              "Actual Scalepoint Val                               -0.001481   \n",
              "Academic employment function code                   -0.005098   \n",
              "SERVICE LENGTH DAYS                                 -0.007110   \n",
              "SERVICE LENGTH YEARS                                -0.004031   \n",
              "ONE YEARS SERVICE FLAG                               0.002254   \n",
              "distinct person id                                  -0.000756   \n",
              "Unnamed: 89                                               NaN   \n",
              "distinct position id                                      NaN   \n",
              "\n",
              "                                      JOINER IN PERIOD  LEAVER IN PERIOD  \\\n",
              "Month Number                                  0.018088         -0.001921   \n",
              "REPORT MONTH                                 -0.005560          0.035484   \n",
              "YTD FLAG                                      0.022758         -0.025735   \n",
              "FIN YTD START FLAG                           -0.010550          0.003231   \n",
              "FIN YTD START POS                            -0.010550          0.003231   \n",
              "YTD START FLAG - Person                       0.056737         -0.020465   \n",
              "JOINER IN PERIOD                              1.000000          0.019670   \n",
              "LEAVER IN PERIOD                              0.019670          1.000000   \n",
              "HEADCOUNT PERIOD END                          0.032117         -0.276274   \n",
              "New position in period                        0.651959         -0.000879   \n",
              "Position Ended in Period                      0.000406          0.696702   \n",
              "Position Count Period End                    -0.004323         -0.471526   \n",
              "FTE PERIOD END                               -0.121109         -0.153212   \n",
              "Permanent Budget FTE Period End              -0.077592         -0.092569   \n",
              "Temporary Budget FTE Period End              -0.006236         -0.029436   \n",
              "Total Budgeted FTE Period End                -0.076358         -0.100632   \n",
              "Total Annual Budgeted FTE Period End         -0.076233         -0.100489   \n",
              "FTE Joiners                                   0.391967         -0.010686   \n",
              "FTE LEAVERS                                  -0.011941          0.427353   \n",
              "FTE Position Started                          0.072645         -0.018114   \n",
              "FTE Position Ended                           -0.015670          0.224406   \n",
              "ANNUAL WEEKS WORKED                          -0.147278         -0.146486   \n",
              "CONTRACTUAL HOURS                            -0.123447         -0.122922   \n",
              "Permanent Establishment Budget               -0.077755         -0.092697   \n",
              "Temporary Establishment Budget               -0.006341         -0.027482   \n",
              "Total Establishment Budget Hours             -0.076528         -0.099917   \n",
              "Hours Variance                                0.058553          0.035487   \n",
              "FTE HOURS                                    -0.145987         -0.145676   \n",
              "FTE                                          -0.122706         -0.122356   \n",
              "Total Budgeted FTE                           -0.076537         -0.099830   \n",
              "Total Annual Budgeted FTE                    -0.076412         -0.099686   \n",
              "FTEVariance                                   0.058073          0.035214   \n",
              "SALARY                                       -0.062766         -0.059954   \n",
              "Pro Rated Salary                             -0.114709         -0.109243   \n",
              "Off Scale Salary                             -0.005290          0.020899   \n",
              "Actual Scalepoint Val                        -0.064777         -0.061403   \n",
              "Academic employment function code            -0.031371         -0.016635   \n",
              "SERVICE LENGTH DAYS                          -0.139650         -0.086571   \n",
              "SERVICE LENGTH YEARS                         -0.130864         -0.086459   \n",
              "ONE YEARS SERVICE FLAG                       -0.249485         -0.073218   \n",
              "distinct person id                            0.045714          0.049474   \n",
              "Unnamed: 89                                        NaN               NaN   \n",
              "distinct position id                               NaN               NaN   \n",
              "\n",
              "                                      HEADCOUNT PERIOD END  \\\n",
              "Month Number                                     -0.026898   \n",
              "REPORT MONTH                                     -0.022283   \n",
              "YTD FLAG                                         -0.000317   \n",
              "FIN YTD START FLAG                               -0.019520   \n",
              "FIN YTD START POS                                -0.019520   \n",
              "YTD START FLAG - Person                           0.008857   \n",
              "JOINER IN PERIOD                                  0.032117   \n",
              "LEAVER IN PERIOD                                 -0.276274   \n",
              "HEADCOUNT PERIOD END                              1.000000   \n",
              "New position in period                           -0.063933   \n",
              "Position Ended in Period                         -0.320058   \n",
              "Position Count Period End                         0.446734   \n",
              "FTE PERIOD END                                    0.312688   \n",
              "Permanent Budget FTE Period End                   0.057264   \n",
              "Temporary Budget FTE Period End                  -0.013772   \n",
              "Total Budgeted FTE Period End                     0.048389   \n",
              "Total Annual Budgeted FTE Period End              0.048026   \n",
              "FTE Joiners                                       0.019778   \n",
              "FTE LEAVERS                                      -0.110505   \n",
              "FTE Position Started                              0.022440   \n",
              "FTE Position Ended                               -0.050967   \n",
              "ANNUAL WEEKS WORKED                               0.037342   \n",
              "CONTRACTUAL HOURS                                 0.280826   \n",
              "Permanent Establishment Budget                    0.054687   \n",
              "Temporary Establishment Budget                   -0.016336   \n",
              "Total Establishment Budget Hours                  0.044763   \n",
              "Hours Variance                                   -0.257646   \n",
              "FTE HOURS                                         0.038488   \n",
              "FTE                                               0.279487   \n",
              "Total Budgeted FTE                                0.044366   \n",
              "Total Annual Budgeted FTE                         0.044000   \n",
              "FTEVariance                                      -0.257524   \n",
              "SALARY                                            0.089196   \n",
              "Pro Rated Salary                                  0.259868   \n",
              "Off Scale Salary                                  0.016112   \n",
              "Actual Scalepoint Val                             0.089490   \n",
              "Academic employment function code                -0.019059   \n",
              "SERVICE LENGTH DAYS                               0.071262   \n",
              "SERVICE LENGTH YEARS                              0.070573   \n",
              "ONE YEARS SERVICE FLAG                            0.369695   \n",
              "distinct person id                                0.871979   \n",
              "Unnamed: 89                                            NaN   \n",
              "distinct position id                                   NaN   \n",
              "\n",
              "                                      New position in period  ...  \\\n",
              "Month Number                                        0.014325  ...   \n",
              "REPORT MONTH                                       -0.014247  ...   \n",
              "YTD FLAG                                            0.028841  ...   \n",
              "FIN YTD START FLAG                                  0.022487  ...   \n",
              "FIN YTD START POS                                   0.022487  ...   \n",
              "YTD START FLAG - Person                             0.045537  ...   \n",
              "JOINER IN PERIOD                                    0.651959  ...   \n",
              "LEAVER IN PERIOD                                   -0.000879  ...   \n",
              "HEADCOUNT PERIOD END                               -0.063933  ...   \n",
              "New position in period                              1.000000  ...   \n",
              "Position Ended in Period                           -0.007170  ...   \n",
              "Position Count Period End                          -0.000764  ...   \n",
              "FTE PERIOD END                                     -0.136147  ...   \n",
              "Permanent Budget FTE Period End                    -0.055670  ...   \n",
              "Temporary Budget FTE Period End                    -0.015779  ...   \n",
              "Total Budgeted FTE Period End                      -0.059685  ...   \n",
              "Total Annual Budgeted FTE Period End               -0.059895  ...   \n",
              "FTE Joiners                                         0.091500  ...   \n",
              "FTE LEAVERS                                        -0.016625  ...   \n",
              "FTE Position Started                                0.459778  ...   \n",
              "FTE Position Ended                                 -0.017355  ...   \n",
              "ANNUAL WEEKS WORKED                                -0.113418  ...   \n",
              "CONTRACTUAL HOURS                                  -0.136697  ...   \n",
              "Permanent Establishment Budget                     -0.055733  ...   \n",
              "Temporary Establishment Budget                     -0.015996  ...   \n",
              "Total Establishment Budget Hours                   -0.059844  ...   \n",
              "Hours Variance                                      0.088793  ...   \n",
              "FTE HOURS                                          -0.113479  ...   \n",
              "FTE                                                -0.135937  ...   \n",
              "Total Budgeted FTE                                 -0.059686  ...   \n",
              "Total Annual Budgeted FTE                          -0.059896  ...   \n",
              "FTEVariance                                         0.088197  ...   \n",
              "SALARY                                             -0.068622  ...   \n",
              "Pro Rated Salary                                   -0.135241  ...   \n",
              "Off Scale Salary                                   -0.082632  ...   \n",
              "Actual Scalepoint Val                              -0.069273  ...   \n",
              "Academic employment function code                  -0.012116  ...   \n",
              "SERVICE LENGTH DAYS                                -0.100636  ...   \n",
              "SERVICE LENGTH YEARS                               -0.094285  ...   \n",
              "ONE YEARS SERVICE FLAG                             -0.206336  ...   \n",
              "distinct person id                                 -0.069255  ...   \n",
              "Unnamed: 89                                              NaN  ...   \n",
              "distinct position id                                     NaN  ...   \n",
              "\n",
              "                                      Pro Rated Salary  Off Scale Salary  \\\n",
              "Month Number                                  0.016482          0.004436   \n",
              "REPORT MONTH                                  0.014230          0.016185   \n",
              "YTD FLAG                                      0.008743         -0.011905   \n",
              "FIN YTD START FLAG                            0.010688          0.024562   \n",
              "FIN YTD START POS                             0.010688          0.024562   \n",
              "YTD START FLAG - Person                      -0.003902         -0.002173   \n",
              "JOINER IN PERIOD                             -0.114709         -0.005290   \n",
              "LEAVER IN PERIOD                             -0.109243          0.020899   \n",
              "HEADCOUNT PERIOD END                          0.259868          0.016112   \n",
              "New position in period                       -0.135241         -0.082632   \n",
              "Position Ended in Period                     -0.153103         -0.032926   \n",
              "Position Count Period End                     0.129928          0.060435   \n",
              "FTE PERIOD END                                0.818874          0.137958   \n",
              "Permanent Budget FTE Period End               0.449328          0.046347   \n",
              "Temporary Budget FTE Period End               0.100130          0.121984   \n",
              "Total Budgeted FTE Period End                 0.472388          0.161517   \n",
              "Total Annual Budgeted FTE Period End          0.473710          0.169035   \n",
              "FTE Joiners                                   0.036031         -0.020207   \n",
              "FTE LEAVERS                                   0.054653          0.018915   \n",
              "FTE Position Started                          0.060582         -0.079079   \n",
              "FTE Position Ended                            0.059578         -0.040495   \n",
              "ANNUAL WEEKS WORKED                           0.667883          0.174844   \n",
              "CONTRACTUAL HOURS                             0.824708          0.117583   \n",
              "Permanent Establishment Budget                0.450145          0.044342   \n",
              "Temporary Establishment Budget                0.100084          0.116113   \n",
              "Total Establishment Budget Hours              0.473146          0.154463   \n",
              "Hours Variance                               -0.389428          0.109875   \n",
              "FTE HOURS                                     0.662108         -0.176623   \n",
              "FTE                                           0.825190          0.146744   \n",
              "Total Budgeted FTE                            0.471204          0.161517   \n",
              "Total Annual Budgeted FTE                     0.472522          0.169035   \n",
              "FTEVariance                                  -0.392089          0.106625   \n",
              "SALARY                                        0.774457          1.000000   \n",
              "Pro Rated Salary                              1.000000          0.917734   \n",
              "Off Scale Salary                              0.917734          1.000000   \n",
              "Actual Scalepoint Val                         0.764609               NaN   \n",
              "Academic employment function code            -0.060983          0.416661   \n",
              "SERVICE LENGTH DAYS                           0.369850          0.072002   \n",
              "SERVICE LENGTH YEARS                          0.367531          0.070799   \n",
              "ONE YEARS SERVICE FLAG                        0.436805          0.131157   \n",
              "distinct person id                            0.239365         -0.000297   \n",
              "Unnamed: 89                                        NaN               NaN   \n",
              "distinct position id                               NaN               NaN   \n",
              "\n",
              "                                      Actual Scalepoint Val  \\\n",
              "Month Number                                       0.027358   \n",
              "REPORT MONTH                                       0.012887   \n",
              "YTD FLAG                                           0.017592   \n",
              "FIN YTD START FLAG                                 0.010837   \n",
              "FIN YTD START POS                                  0.010837   \n",
              "YTD START FLAG - Person                           -0.001481   \n",
              "JOINER IN PERIOD                                  -0.064777   \n",
              "LEAVER IN PERIOD                                  -0.061403   \n",
              "HEADCOUNT PERIOD END                               0.089490   \n",
              "New position in period                            -0.069273   \n",
              "Position Ended in Period                          -0.078244   \n",
              "Position Count Period End                          0.069032   \n",
              "FTE PERIOD END                                     0.420078   \n",
              "Permanent Budget FTE Period End                    0.300280   \n",
              "Temporary Budget FTE Period End                    0.046042   \n",
              "Total Budgeted FTE Period End                      0.306511   \n",
              "Total Annual Budgeted FTE Period End               0.307995   \n",
              "FTE Joiners                                        0.006972   \n",
              "FTE LEAVERS                                        0.024744   \n",
              "FTE Position Started                               0.017494   \n",
              "FTE Position Ended                                 0.020910   \n",
              "ANNUAL WEEKS WORKED                                0.446371   \n",
              "CONTRACTUAL HOURS                                  0.421735   \n",
              "Permanent Establishment Budget                     0.303648   \n",
              "Temporary Establishment Budget                     0.047767   \n",
              "Total Establishment Budget Hours                   0.310436   \n",
              "Hours Variance                                    -0.134213   \n",
              "FTE HOURS                                          0.450589   \n",
              "FTE                                                0.420583   \n",
              "Total Budgeted FTE                                 0.306474   \n",
              "Total Annual Budgeted FTE                          0.307956   \n",
              "FTEVariance                                       -0.136192   \n",
              "SALARY                                             1.000000   \n",
              "Pro Rated Salary                                   0.764609   \n",
              "Off Scale Salary                                        NaN   \n",
              "Actual Scalepoint Val                              1.000000   \n",
              "Academic employment function code                 -0.360258   \n",
              "SERVICE LENGTH DAYS                                0.241124   \n",
              "SERVICE LENGTH YEARS                               0.239849   \n",
              "ONE YEARS SERVICE FLAG                             0.238387   \n",
              "distinct person id                                 0.064840   \n",
              "Unnamed: 89                                             NaN   \n",
              "distinct position id                                    NaN   \n",
              "\n",
              "                                      Academic employment function code  \\\n",
              "Month Number                                                  -0.023545   \n",
              "REPORT MONTH                                                   0.000183   \n",
              "YTD FLAG                                                      -0.022349   \n",
              "FIN YTD START FLAG                                             0.008260   \n",
              "FIN YTD START POS                                              0.008260   \n",
              "YTD START FLAG - Person                                       -0.005098   \n",
              "JOINER IN PERIOD                                              -0.031371   \n",
              "LEAVER IN PERIOD                                              -0.016635   \n",
              "HEADCOUNT PERIOD END                                          -0.019059   \n",
              "New position in period                                        -0.012116   \n",
              "Position Ended in Period                                      -0.001170   \n",
              "Position Count Period End                                     -0.018693   \n",
              "FTE PERIOD END                                                 0.147483   \n",
              "Permanent Budget FTE Period End                                0.023235   \n",
              "Temporary Budget FTE Period End                               -0.006668   \n",
              "Total Budgeted FTE Period End                                  0.019161   \n",
              "Total Annual Budgeted FTE Period End                           0.018372   \n",
              "FTE Joiners                                                    0.004914   \n",
              "FTE LEAVERS                                                    0.008119   \n",
              "FTE Position Started                                           0.023572   \n",
              "FTE Position Ended                                             0.021613   \n",
              "ANNUAL WEEKS WORKED                                            0.154657   \n",
              "CONTRACTUAL HOURS                                              0.150958   \n",
              "Permanent Establishment Budget                                 0.022461   \n",
              "Temporary Establishment Budget                                -0.007943   \n",
              "Total Establishment Budget Hours                               0.017843   \n",
              "Hours Variance                                                -0.144471   \n",
              "FTE HOURS                                                      0.150193   \n",
              "FTE                                                            0.150161   \n",
              "Total Budgeted FTE                                             0.019271   \n",
              "Total Annual Budgeted FTE                                      0.018484   \n",
              "FTEVariance                                                   -0.143454   \n",
              "SALARY                                                        -0.332259   \n",
              "Pro Rated Salary                                              -0.060983   \n",
              "Off Scale Salary                                               0.416661   \n",
              "Actual Scalepoint Val                                         -0.360258   \n",
              "Academic employment function code                              1.000000   \n",
              "SERVICE LENGTH DAYS                                            0.125009   \n",
              "SERVICE LENGTH YEARS                                           0.124654   \n",
              "ONE YEARS SERVICE FLAG                                         0.085308   \n",
              "distinct person id                                            -0.017193   \n",
              "Unnamed: 89                                                         NaN   \n",
              "distinct position id                                                NaN   \n",
              "\n",
              "                                      SERVICE LENGTH DAYS  \\\n",
              "Month Number                                     0.006065   \n",
              "REPORT MONTH                                     0.011781   \n",
              "YTD FLAG                                        -0.003133   \n",
              "FIN YTD START FLAG                               0.012634   \n",
              "FIN YTD START POS                                0.012634   \n",
              "YTD START FLAG - Person                         -0.007110   \n",
              "JOINER IN PERIOD                                -0.139650   \n",
              "LEAVER IN PERIOD                                -0.086571   \n",
              "HEADCOUNT PERIOD END                             0.071262   \n",
              "New position in period                          -0.100636   \n",
              "Position Ended in Period                        -0.086852   \n",
              "Position Count Period End                        0.076544   \n",
              "FTE PERIOD END                                   0.456862   \n",
              "Permanent Budget FTE Period End                  0.294295   \n",
              "Temporary Budget FTE Period End                 -0.092824   \n",
              "Total Budgeted FTE Period End                    0.241147   \n",
              "Total Annual Budgeted FTE Period End             0.240038   \n",
              "FTE Joiners                                     -0.054671   \n",
              "FTE LEAVERS                                      0.019401   \n",
              "FTE Position Started                             0.028936   \n",
              "FTE Position Ended                               0.031927   \n",
              "ANNUAL WEEKS WORKED                              0.477811   \n",
              "CONTRACTUAL HOURS                                0.460467   \n",
              "Permanent Establishment Budget                   0.294014   \n",
              "Temporary Establishment Budget                  -0.093223   \n",
              "Total Establishment Budget Hours                 0.240343   \n",
              "Hours Variance                                  -0.269695   \n",
              "FTE HOURS                                        0.479989   \n",
              "FTE                                              0.456904   \n",
              "Total Budgeted FTE                               0.241040   \n",
              "Total Annual Budgeted FTE                        0.239931   \n",
              "FTEVariance                                     -0.267474   \n",
              "SALARY                                           0.227992   \n",
              "Pro Rated Salary                                 0.369850   \n",
              "Off Scale Salary                                 0.072002   \n",
              "Actual Scalepoint Val                            0.241124   \n",
              "Academic employment function code                0.125009   \n",
              "SERVICE LENGTH DAYS                              1.000000   \n",
              "SERVICE LENGTH YEARS                             0.999405   \n",
              "ONE YEARS SERVICE FLAG                           0.452125   \n",
              "distinct person id                                    NaN   \n",
              "Unnamed: 89                                           NaN   \n",
              "distinct position id                                  NaN   \n",
              "\n",
              "                                      SERVICE LENGTH YEARS  \\\n",
              "Month Number                                      0.006902   \n",
              "REPORT MONTH                                      0.009492   \n",
              "YTD FLAG                                         -0.000535   \n",
              "FIN YTD START FLAG                                0.008891   \n",
              "FIN YTD START POS                                 0.008891   \n",
              "YTD START FLAG - Person                          -0.004031   \n",
              "JOINER IN PERIOD                                 -0.130864   \n",
              "LEAVER IN PERIOD                                 -0.086459   \n",
              "HEADCOUNT PERIOD END                              0.070573   \n",
              "New position in period                           -0.094285   \n",
              "Position Ended in Period                         -0.086876   \n",
              "Position Count Period End                         0.075929   \n",
              "FTE PERIOD END                                    0.454474   \n",
              "Permanent Budget FTE Period End                   0.293098   \n",
              "Temporary Budget FTE Period End                  -0.093293   \n",
              "Total Budgeted FTE Period End                     0.239808   \n",
              "Total Annual Budgeted FTE Period End              0.238694   \n",
              "FTE Joiners                                      -0.051247   \n",
              "FTE LEAVERS                                       0.019480   \n",
              "FTE Position Started                              0.029360   \n",
              "FTE Position Ended                                0.031875   \n",
              "ANNUAL WEEKS WORKED                               0.475287   \n",
              "CONTRACTUAL HOURS                                 0.458121   \n",
              "Permanent Establishment Budget                    0.292816   \n",
              "Temporary Establishment Budget                   -0.093683   \n",
              "Total Establishment Budget Hours                  0.239007   \n",
              "Hours Variance                                   -0.268433   \n",
              "FTE HOURS                                         0.477526   \n",
              "FTE                                               0.454555   \n",
              "Total Budgeted FTE                                0.239705   \n",
              "Total Annual Budgeted FTE                         0.238591   \n",
              "FTEVariance                                      -0.266209   \n",
              "SALARY                                            0.226726   \n",
              "Pro Rated Salary                                  0.367531   \n",
              "Off Scale Salary                                  0.070799   \n",
              "Actual Scalepoint Val                             0.239849   \n",
              "Academic employment function code                 0.124654   \n",
              "SERVICE LENGTH DAYS                               0.999405   \n",
              "SERVICE LENGTH YEARS                              1.000000   \n",
              "ONE YEARS SERVICE FLAG                            0.450795   \n",
              "distinct person id                                     NaN   \n",
              "Unnamed: 89                                            NaN   \n",
              "distinct position id                                   NaN   \n",
              "\n",
              "                                      ONE YEARS SERVICE FLAG  \\\n",
              "Month Number                                       -0.025395   \n",
              "REPORT MONTH                                        0.001078   \n",
              "YTD FLAG                                           -0.029204   \n",
              "FIN YTD START FLAG                                  0.001323   \n",
              "FIN YTD START POS                                   0.001323   \n",
              "YTD START FLAG - Person                             0.002254   \n",
              "JOINER IN PERIOD                                   -0.249485   \n",
              "LEAVER IN PERIOD                                   -0.073218   \n",
              "HEADCOUNT PERIOD END                                0.369695   \n",
              "New position in period                             -0.206336   \n",
              "Position Ended in Period                           -0.112615   \n",
              "Position Count Period End                           0.125120   \n",
              "FTE PERIOD END                                      0.472535   \n",
              "Permanent Budget FTE Period End                     0.245726   \n",
              "Temporary Budget FTE Period End                    -0.026657   \n",
              "Total Budgeted FTE Period End                       0.221702   \n",
              "Total Annual Budgeted FTE Period End                0.221073   \n",
              "FTE Joiners                                        -0.097790   \n",
              "FTE LEAVERS                                         0.032364   \n",
              "FTE Position Started                                0.018618   \n",
              "FTE Position Ended                                  0.041807   \n",
              "ANNUAL WEEKS WORKED                                 0.386613   \n",
              "CONTRACTUAL HOURS                                   0.471400   \n",
              "Permanent Establishment Budget                      0.244677   \n",
              "Temporary Establishment Budget                     -0.027397   \n",
              "Total Establishment Budget Hours                    0.220186   \n",
              "Hours Variance                                     -0.292939   \n",
              "FTE HOURS                                           0.388156   \n",
              "FTE                                                 0.468571   \n",
              "Total Budgeted FTE                                  0.220089   \n",
              "Total Annual Budgeted FTE                           0.219458   \n",
              "FTEVariance                                        -0.291625   \n",
              "SALARY                                              0.231635   \n",
              "Pro Rated Salary                                    0.436805   \n",
              "Off Scale Salary                                    0.131157   \n",
              "Actual Scalepoint Val                               0.238387   \n",
              "Academic employment function code                   0.085308   \n",
              "SERVICE LENGTH DAYS                                 0.452125   \n",
              "SERVICE LENGTH YEARS                                0.450795   \n",
              "ONE YEARS SERVICE FLAG                              1.000000   \n",
              "distinct person id                                  0.389030   \n",
              "Unnamed: 89                                              NaN   \n",
              "distinct position id                                     NaN   \n",
              "\n",
              "                                      distinct person id  Unnamed: 89  \\\n",
              "Month Number                                   -0.029859          NaN   \n",
              "REPORT MONTH                                   -0.004098          NaN   \n",
              "YTD FLAG                                       -0.014988          NaN   \n",
              "FIN YTD START FLAG                             -0.021985          NaN   \n",
              "FIN YTD START POS                              -0.021985          NaN   \n",
              "YTD START FLAG - Person                        -0.000756          NaN   \n",
              "JOINER IN PERIOD                                0.045714          NaN   \n",
              "LEAVER IN PERIOD                                0.049474          NaN   \n",
              "HEADCOUNT PERIOD END                            0.871979          NaN   \n",
              "New position in period                         -0.069255          NaN   \n",
              "Position Ended in Period                       -0.100302          NaN   \n",
              "Position Count Period End                       0.152261          NaN   \n",
              "FTE PERIOD END                                  0.272657          NaN   \n",
              "Permanent Budget FTE Period End                 0.026239          NaN   \n",
              "Temporary Budget FTE Period End                -0.028723          NaN   \n",
              "Total Budgeted FTE Period End                   0.012456          NaN   \n",
              "Total Annual Budgeted FTE Period End            0.012099          NaN   \n",
              "FTE Joiners                                     0.017919          NaN   \n",
              "FTE LEAVERS                                     0.021143          NaN   \n",
              "FTE Position Started                            0.017392          NaN   \n",
              "FTE Position Ended                              0.019176          NaN   \n",
              "ANNUAL WEEKS WORKED                            -0.024224          NaN   \n",
              "CONTRACTUAL HOURS                               0.259752          NaN   \n",
              "Permanent Establishment Budget                  0.023307          NaN   \n",
              "Temporary Establishment Budget                 -0.030135          NaN   \n",
              "Total Establishment Budget Hours                0.008980          NaN   \n",
              "Hours Variance                                 -0.269510          NaN   \n",
              "FTE HOURS                                      -0.021983          NaN   \n",
              "FTE                                             0.258442          NaN   \n",
              "Total Budgeted FTE                              0.008569          NaN   \n",
              "Total Annual Budgeted FTE                       0.008209          NaN   \n",
              "FTEVariance                                    -0.269439          NaN   \n",
              "SALARY                                          0.065283          NaN   \n",
              "Pro Rated Salary                                0.239365          NaN   \n",
              "Off Scale Salary                               -0.000297          NaN   \n",
              "Actual Scalepoint Val                           0.064840          NaN   \n",
              "Academic employment function code              -0.017193          NaN   \n",
              "SERVICE LENGTH DAYS                                  NaN          NaN   \n",
              "SERVICE LENGTH YEARS                                 NaN          NaN   \n",
              "ONE YEARS SERVICE FLAG                          0.389030          NaN   \n",
              "distinct person id                              1.000000          NaN   \n",
              "Unnamed: 89                                          NaN          NaN   \n",
              "distinct position id                                 NaN          NaN   \n",
              "\n",
              "                                      distinct position id  \n",
              "Month Number                                           NaN  \n",
              "REPORT MONTH                                           NaN  \n",
              "YTD FLAG                                               NaN  \n",
              "FIN YTD START FLAG                                     NaN  \n",
              "FIN YTD START POS                                      NaN  \n",
              "YTD START FLAG - Person                                NaN  \n",
              "JOINER IN PERIOD                                       NaN  \n",
              "LEAVER IN PERIOD                                       NaN  \n",
              "HEADCOUNT PERIOD END                                   NaN  \n",
              "New position in period                                 NaN  \n",
              "Position Ended in Period                               NaN  \n",
              "Position Count Period End                              NaN  \n",
              "FTE PERIOD END                                         NaN  \n",
              "Permanent Budget FTE Period End                        NaN  \n",
              "Temporary Budget FTE Period End                        NaN  \n",
              "Total Budgeted FTE Period End                          NaN  \n",
              "Total Annual Budgeted FTE Period End                   NaN  \n",
              "FTE Joiners                                            NaN  \n",
              "FTE LEAVERS                                            NaN  \n",
              "FTE Position Started                                   NaN  \n",
              "FTE Position Ended                                     NaN  \n",
              "ANNUAL WEEKS WORKED                                    NaN  \n",
              "CONTRACTUAL HOURS                                      NaN  \n",
              "Permanent Establishment Budget                         NaN  \n",
              "Temporary Establishment Budget                         NaN  \n",
              "Total Establishment Budget Hours                       NaN  \n",
              "Hours Variance                                         NaN  \n",
              "FTE HOURS                                              NaN  \n",
              "FTE                                                    NaN  \n",
              "Total Budgeted FTE                                     NaN  \n",
              "Total Annual Budgeted FTE                              NaN  \n",
              "FTEVariance                                            NaN  \n",
              "SALARY                                                 NaN  \n",
              "Pro Rated Salary                                       NaN  \n",
              "Off Scale Salary                                       NaN  \n",
              "Actual Scalepoint Val                                  NaN  \n",
              "Academic employment function code                      NaN  \n",
              "SERVICE LENGTH DAYS                                    NaN  \n",
              "SERVICE LENGTH YEARS                                   NaN  \n",
              "ONE YEARS SERVICE FLAG                                 NaN  \n",
              "distinct person id                                     NaN  \n",
              "Unnamed: 89                                            NaN  \n",
              "distinct position id                                   NaN  \n",
              "\n",
              "[43 rows x 43 columns]"
            ]
          },
          "execution_count": 23,
          "metadata": {},
          "output_type": "execute_result"
        }
      ],
      "source": [
        "#Table showing correlation among columns\n",
        "df.corr()"
      ],
      "id": "0684fac4"
    },
    {
      "cell_type": "code",
      "execution_count": null,
      "metadata": {
        "colab": {
          "base_uri": "https://localhost:8080/"
        },
        "id": "68abbf86",
        "outputId": "d35af1b4-1abe-4725-9d05-5730d14a45e8",
        "scrolled": true
      },
      "outputs": [
        {
          "data": {
            "text/plain": [
              "array(['Academic Affairs', 'Vice-Chancellor', 'Chief Finance Office',\n",
              "       'Education', 'Human Resources', 'Research and Enterprise',\n",
              "       'University Registrar and Secretary', 'Chief Operating Officer',\n",
              "       'Chief People Officer', 'International'], dtype=object)"
            ]
          },
          "execution_count": 24,
          "metadata": {},
          "output_type": "execute_result"
        }
      ],
      "source": [
        "#Checking for the different Division available\n",
        "df.Division.unique()"
      ],
      "id": "68abbf86"
    },
    {
      "cell_type": "code",
      "execution_count": null,
      "metadata": {
        "colab": {
          "base_uri": "https://localhost:8080/"
        },
        "id": "0d77d46c",
        "outputId": "85e3e2b8-bd37-4926-bb47-d87581eeed3e"
      },
      "outputs": [
        {
          "data": {
            "text/plain": [
              "Division\n",
              "Vice-Chancellor                       3830113899\n",
              "Academic Affairs                      2098130012\n",
              "Education                              691804093\n",
              "Chief Operating Officer                684262022\n",
              "Chief Finance Office                   522087946\n",
              "Research and Enterprise                480810017\n",
              "University Registrar and Secretary     248697799\n",
              "Chief People Officer                   131075656\n",
              "Human Resources                         87017462\n",
              "International                           43950967\n",
              "Name: SALARY, dtype: int64"
            ]
          },
          "execution_count": 25,
          "metadata": {},
          "output_type": "execute_result"
        }
      ],
      "source": [
        "#Sum of Salary Per Division \n",
        "df.groupby('Division').SALARY.sum().astype(int).sort_values(ascending=False)[:10]"
      ],
      "id": "0d77d46c"
    },
    {
      "cell_type": "code",
      "execution_count": null,
      "metadata": {
        "colab": {
          "base_uri": "https://localhost:8080/",
          "height": 622
        },
        "id": "3c62fa40",
        "outputId": "6527a78a-9a84-4f8c-a933-139e0e84443e"
      },
      "outputs": [
        {
          "data": {
            "image/png": "[encoded data removed]",
            "text/plain": [
              "<Figure size 1080x720 with 1 Axes>"
            ]
          },
          "metadata": {},
          "output_type": "display_data"
        }
      ],
      "source": [
        "sns.set_theme(font_scale=1.5)\n",
        "plt.figure(figsize=(15,10))\n",
        "sns.barplot(x=df.groupby('Division').Division.count().values,y=df.groupby('Division').Division.count().index)\n",
        "plt.title('Distribution of Workers Across Divisions')\n",
        "plt.show()"
      ],
      "id": "3c62fa40"
    },
    {
      "cell_type": "markdown",
      "metadata": {
        "id": "ee4d625f"
      },
      "source": [
        "The graph above shows distribution of employees across different Division with Vice-Chancellor Division \n",
        "having the highest and International having the lowest"
      ],
      "id": "ee4d625f"
    },
    {
      "cell_type": "code",
      "execution_count": null,
      "metadata": {
        "colab": {
          "base_uri": "https://localhost:8080/"
        },
        "id": "362b6997",
        "outputId": "40833a21-398a-4362-ea0e-273d07d1277c"
      },
      "outputs": [
        {
          "data": {
            "text/plain": [
              "LEAVING REASON\n",
              "Voluntarily      287368\n",
              "Involuntarily      4469\n",
              "Name: LEAVING REASON, dtype: int64"
            ]
          },
          "execution_count": 27,
          "metadata": {},
          "output_type": "execute_result"
        }
      ],
      "source": [
        "reason=df.groupby('LEAVING REASON')['LEAVING REASON'].count().sort_values(ascending=False)[:5]\n",
        "reason"
      ],
      "id": "362b6997"
    },
    {
      "cell_type": "code",
      "execution_count": null,
      "metadata": {
        "colab": {
          "base_uri": "https://localhost:8080/",
          "height": 466
        },
        "id": "f5817b8e",
        "outputId": "6856bf47-8c92-4be1-af30-0bd6e115ee0c"
      },
      "outputs": [
        {
          "data": {
            "image/png": "[encoded data removed]",
            "text/plain": [
              "<Figure size 1080x504 with 1 Axes>"
            ]
          },
          "metadata": {},
          "output_type": "display_data"
        }
      ],
      "source": [
        "sns.set_theme(font_scale=1.5)\n",
        "plt.figure(figsize=(15,7))\n",
        "sns.barplot(x=reason.index,y=reason.values)\n",
        "plt.show()"
      ],
      "id": "f5817b8e"
    },
    {
      "cell_type": "markdown",
      "metadata": {
        "id": "b86103ab"
      },
      "source": [
        "Top 5 reasons employe's are leaving shows that most employee leave because their \n",
        "contract expired anf the lesat top 5 show the retired"
      ],
      "id": "b86103ab"
    },
    {
      "cell_type": "code",
      "execution_count": null,
      "metadata": {
        "colab": {
          "base_uri": "https://localhost:8080/"
        },
        "id": "7d8a1b96",
        "outputId": "efdf133e-1324-4b01-bd70-081298098fa3"
      },
      "outputs": [
        {
          "data": {
            "text/plain": [
              "CATEGORY\n",
              "Professional    170299\n",
              "Academic        121376\n",
              "XX IR35             20\n",
              "Name: CATEGORY, dtype: int64"
            ]
          },
          "execution_count": 29,
          "metadata": {},
          "output_type": "execute_result"
        }
      ],
      "source": [
        "#Distribution of Employee's into Categories\n",
        "df.groupby('CATEGORY').CATEGORY.count().sort_values(ascending=False )"
      ],
      "id": "7d8a1b96"
    },
    {
      "cell_type": "code",
      "execution_count": null,
      "metadata": {
        "colab": {
          "base_uri": "https://localhost:8080/"
        },
        "id": "e3504637",
        "outputId": "d8231b02-e266-4526-bb80-8ec017dbd64d",
        "scrolled": true
      },
      "outputs": [
        {
          "data": {
            "text/plain": [
              "BASIS\n",
              "Full Time              125774\n",
              "Atypical                93398\n",
              "Part Time               53205\n",
              "Not Set                 15559\n",
              "Part Time/Term Only      3429\n",
              "Full Time/Term Only       322\n",
              "Name: BASIS, dtype: int64"
            ]
          },
          "execution_count": 30,
          "metadata": {},
          "output_type": "execute_result"
        }
      ],
      "source": [
        "basis=df.groupby('BASIS').BASIS.count().sort_values(ascending=False)\n",
        "basis"
      ],
      "id": "e3504637"
    },
    {
      "cell_type": "code",
      "execution_count": null,
      "metadata": {
        "colab": {
          "base_uri": "https://localhost:8080/",
          "height": 596
        },
        "id": "dea30894",
        "outputId": "0e22d5d5-2400-4041-82bd-fe3e7f2fbd24"
      },
      "outputs": [
        {
          "data": {
            "image/png": "[encoded data removed]",
            "text/plain": [
              "<Figure size 720x720 with 1 Axes>"
            ]
          },
          "metadata": {},
          "output_type": "display_data"
        }
      ],
      "source": [
        "plt.figure(figsize=(10, 10))\n",
        "plt.pie(basis,labels=basis.index,autopct='%.0f%%')\n",
        "plt.title('Pie-Plot Univariate Analysis Showing Percentage of BASIS',fontsize=20)\n",
        "                \n",
        "plt.show()"
      ],
      "id": "dea30894"
    },
    {
      "cell_type": "markdown",
      "metadata": {
        "id": "8d59955a"
      },
      "source": [
        "The Pie Chart above shows most of the employee's are Full Time Staffs with few Full Time/Term only "
      ],
      "id": "8d59955a"
    },
    {
      "cell_type": "code",
      "execution_count": null,
      "metadata": {
        "colab": {
          "base_uri": "https://localhost:8080/"
        },
        "id": "6d8e8fc3",
        "outputId": "0e1e8d7b-6867-4d62-86b4-e95721de0cb4"
      },
      "outputs": [
        {
          "data": {
            "text/plain": [
              "TYPE\n",
              "Continuing            147446\n",
              "Occasional Worker      86880\n",
              "Fixed Term             25843\n",
              "Fee                    18108\n",
              "Casual                  6328\n",
              "External Agreement      5093\n",
              "Temporary               2019\n",
              "XX IR35                   20\n",
              "Name: TYPE, dtype: int64"
            ]
          },
          "execution_count": 32,
          "metadata": {},
          "output_type": "execute_result"
        }
      ],
      "source": [
        "#The table shows employee's TYPE in desending order\n",
        "type=df.groupby('TYPE').TYPE.count().sort_values(ascending=False)\n",
        "type"
      ],
      "id": "6d8e8fc3"
    },
    {
      "cell_type": "code",
      "execution_count": null,
      "metadata": {
        "colab": {
          "base_uri": "https://localhost:8080/",
          "height": 372
        },
        "id": "97586fdd",
        "outputId": "8c905b0d-8ecf-415d-fe62-1b0abbeeca72"
      },
      "outputs": [
        {
          "data": {
            "image/png": "[encoded data removed]",
            "text/plain": [
              "<Figure size 1296x360 with 1 Axes>"
            ]
          },
          "metadata": {},
          "output_type": "display_data"
        }
      ],
      "source": [
        "sns.set_theme(font_scale=1.5)\n",
        "plt.figure(figsize=(18,5))\n",
        "sns.barplot(x='CATEGORY',\n",
        "                y='SALARY',\n",
        "                 hue='BASIS',\n",
        "                 data=df,\n",
        "                ).set_title(\"CATEGORY PER SALARY AND BASIS\")\n",
        "plt.show()"
      ],
      "id": "97586fdd"
    },
    {
      "cell_type": "markdown",
      "metadata": {
        "id": "8b938b3b"
      },
      "source": [
        "The Graph above shows that:\n",
        "1. Part time employee's earn more Salary in the Academic Category followed by Full time and Part Time/Term respectively.\n",
        "2. Full time employee's earn more Salary in the Professional Category followed by Part time and Full Time/Term respectively."
      ],
      "id": "8b938b3b"
    },
    {
      "cell_type": "code",
      "execution_count": null,
      "metadata": {
        "colab": {
          "base_uri": "https://localhost:8080/"
        },
        "id": "ujGE1OdnOiU0",
        "outputId": "e4c52e8e-d9ae-4838-ffa0-b9e45463108e"
      },
      "outputs": [
        {
          "data": {
            "text/plain": [
              "Full Time              125774\n",
              "Atypical                93398\n",
              "Part Time               53205\n",
              "Not Set                 15559\n",
              "Part Time/Term Only      3429\n",
              "Full Time/Term Only       322\n",
              "Name: BASIS, dtype: int64"
            ]
          },
          "execution_count": 34,
          "metadata": {},
          "output_type": "execute_result"
        }
      ],
      "source": [
        "df['BASIS'].value_counts()"
      ],
      "id": "ujGE1OdnOiU0"
    },
    {
      "cell_type": "markdown",
      "metadata": {
        "id": "cFYcHYytT59D"
      },
      "source": [
        "REPLACE THE **\"NOT SET\"** VALUES IN THE **\"BASIS\"** COLUMN WITH THE COLUMN MODE VALUE"
      ],
      "id": "cFYcHYytT59D"
    },
    {
      "cell_type": "code",
      "execution_count": null,
      "metadata": {
        "id": "lSezPIB9O_1d"
      },
      "outputs": [],
      "source": [
        "df['BASIS'].isnull().sum()\n",
        "basis_mode = df['BASIS'].mode()[0]\n",
        "df['BASIS'].replace('Not Set', basis_mode, inplace=True)"
      ],
      "id": "lSezPIB9O_1d"
    },
    {
      "cell_type": "code",
      "execution_count": null,
      "metadata": {
        "colab": {
          "base_uri": "https://localhost:8080/"
        },
        "id": "49232a2e",
        "outputId": "5681767c-2e7d-4514-ffb4-fb5dc668dcc7"
      },
      "outputs": [
        {
          "data": {
            "text/plain": [
              "0        27\n",
              "1        19\n",
              "2         4\n",
              "3         8\n",
              "4         6\n",
              "         ..\n",
              "52430    10\n",
              "52431     1\n",
              "52432     9\n",
              "52433     1\n",
              "52434    12\n",
              "Name: Position Start Date, Length: 291837, dtype: int64"
            ]
          },
          "execution_count": 36,
          "metadata": {},
          "output_type": "execute_result"
        }
      ],
      "source": [
        "pd.to_datetime(df['Position Start Date']).dt.day"
      ],
      "id": "49232a2e"
    },
    {
      "cell_type": "code",
      "execution_count": null,
      "metadata": {
        "colab": {
          "base_uri": "https://localhost:8080/",
          "height": 355
        },
        "id": "b3f49047",
        "outputId": "e0c037a5-e9bb-42d7-ec6b-185470e29675"
      },
      "outputs": [
        {
          "data": {
            "image/png": "[encoded data removed]",
            "text/plain": [
              "<Figure size 1008x360 with 1 Axes>"
            ]
          },
          "metadata": {},
          "output_type": "display_data"
        }
      ],
      "source": [
        "plt.figure(figsize=(14, 5))\n",
        "ab=plt.hist(df['SERVICE LENGTH DAYS'])\n",
        "plt.title(\"Histogram Univariate Analysis Showing Average Time Spent In a Position by Employee's\",fontsize=24)\n",
        "plt.show()"
      ],
      "id": "b3f49047"
    },
    {
      "cell_type": "markdown",
      "metadata": {
        "id": "dc72dc93"
      },
      "source": [
        "The graph above shows that most of the employee's only worked between 0-2500days and the higher the work days the lower the employee's."
      ],
      "id": "dc72dc93"
    },
    {
      "cell_type": "code",
      "execution_count": null,
      "metadata": {
        "colab": {
          "base_uri": "https://localhost:8080/"
        },
        "id": "abe74297",
        "outputId": "d92fd750-ec4d-44fd-f9f4-8cc7ffc0d8b7"
      },
      "outputs": [
        {
          "name": "stdout",
          "output_type": "stream",
          "text": [
            "Lowest Days Spent at a Position:  0.0\n",
            "Highest Days Spent at a Position:  19876.0\n",
            "Average Days Spent at a Position:  2386.455107914728\n"
          ]
        }
      ],
      "source": [
        "print('Lowest Days Spent at a Position: ',df['SERVICE LENGTH DAYS'].min())\n",
        "print('Highest Days Spent at a Position: ',df['SERVICE LENGTH DAYS'].max())\n",
        "print('Average Days Spent at a Position: ',df['SERVICE LENGTH DAYS'].mean())"
      ],
      "id": "abe74297"
    },
    {
      "cell_type": "markdown",
      "metadata": {
        "id": "LaS-odLiUaNg"
      },
      "source": [
        "**Distribution of Sex Among Employee**"
      ],
      "id": "LaS-odLiUaNg"
    },
    {
      "cell_type": "code",
      "execution_count": null,
      "metadata": {
        "colab": {
          "base_uri": "https://localhost:8080/",
          "height": 481
        },
        "id": "66eb8095",
        "outputId": "e4cbeb0a-1a69-40ea-9b8f-faa3b21332ce"
      },
      "outputs": [
        {
          "data": {
            "image/png": "[encoded data removed]",
            "text/plain": [
              "<Figure size 1080x504 with 1 Axes>"
            ]
          },
          "metadata": {},
          "output_type": "display_data"
        }
      ],
      "source": [
        "sns.set_theme(font_scale=1.5)\n",
        "plt.figure(figsize=(15,7))\n",
        "sns.barplot(x=df.groupby('Sex Identifier')['Sex Identifier'].count().index,y=df.groupby('Sex Identifier')['Sex Identifier'].count().values)\n",
        "plt.title('Distribution of Sex Among Employee')\n",
        "plt.show()"
      ],
      "id": "66eb8095"
    },
    {
      "cell_type": "code",
      "execution_count": null,
      "metadata": {
        "colab": {
          "base_uri": "https://localhost:8080/",
          "height": 481
        },
        "id": "4293f140",
        "outputId": "41d8a41b-32a6-43db-be75-ee22d5654ff4"
      },
      "outputs": [
        {
          "data": {
            "image/png": "[encoded data removed]",
            "text/plain": [
              "<Figure size 1080x504 with 1 Axes>"
            ]
          },
          "metadata": {},
          "output_type": "display_data"
        }
      ],
      "source": [
        "sns.set_theme(font_scale=1.5)\n",
        "plt.figure(figsize=(15,7))\n",
        "sns.barplot(x=df.groupby('AGE BAND')['AGE BAND'].count().index,\n",
        "            y=df.groupby('AGE BAND')['AGE BAND'].count().values)\n",
        "plt.title(\" Age Band Among Employee's \")\n",
        "plt.show()"
      ],
      "id": "4293f140"
    },
    {
      "cell_type": "markdown",
      "metadata": {
        "id": "211ff24f"
      },
      "source": [
        "The Graph above shows that the employee's consist of mostly age 20-24"
      ],
      "id": "211ff24f"
    },
    {
      "cell_type": "markdown",
      "metadata": {
        "id": "c70bcfc1"
      },
      "source": [
        "SUMMARY\n",
        "1. Division with Vice-Chancellor Division having the highest and International having the lowest\n",
        "2. Most of the employee's are leaving because their contract has ended\n",
        "3. The average time spent in a position is  2386Days\n",
        "4. Part time employee's earn more Salary in the Academic Category followed by Full time and Part Time/Term respectively.\n",
        "5. Full time employee's earn more Salary in the Professional Category followed by Part time and Full Time/Term respectively.\n",
        "6. Employee's are mostly Full Time Staffs with few Full Time/Term only\n",
        "7. Employee's consist of mostly age 20-24\n"
      ],
      "id": "c70bcfc1"
    },
    {
      "cell_type": "code",
      "execution_count": null,
      "metadata": {
        "colab": {
          "base_uri": "https://localhost:8080/"
        },
        "id": "koNbJoJVK5pf",
        "outputId": "1d0446bf-7163-4d28-cfcc-4e5b318011f0"
      },
      "outputs": [
        {
          "name": "stdout",
          "output_type": "stream",
          "text": [
            "[[1, 1], [1, 2], [1, 3], [2, 2], [2, 3], [3, 3]]\n"
          ]
        }
      ],
      "source": [
        "# A Python program to print all combinations\n",
        "# with an element-to-itself combination is\n",
        "# also included\n",
        "from itertools import combinations_with_replacement\n",
        "\n",
        "# Get all combinations of [1, 2, 3] and length 2\n",
        "# for i in range(0,3):\n",
        "comb = combinations_with_replacement([1, 2, 3], 2)\n",
        "\n",
        "# Print the obtained combinations\n",
        "li = []\n",
        "for i in list(comb):\n",
        "\tli.append(list(i))\n",
        "\n",
        "print(li)\n"
      ],
      "id": "koNbJoJVK5pf"
    },
    {
      "cell_type": "code",
      "execution_count": null,
      "metadata": {
        "colab": {
          "base_uri": "https://localhost:8080/"
        },
        "id": "phR6EdGY5QjU",
        "outputId": "68b67956-3261-4e0d-f876-e9f4c6983813"
      },
      "outputs": [
        {
          "data": {
            "text/plain": [
              "array([0, 1])"
            ]
          },
          "execution_count": 42,
          "metadata": {},
          "output_type": "execute_result"
        }
      ],
      "source": [
        "# Check the \"distinct person id\" unique values\n",
        "df['distinct person id'].unique()"
      ],
      "id": "phR6EdGY5QjU"
    },
    {
      "cell_type": "code",
      "execution_count": null,
      "metadata": {
        "colab": {
          "base_uri": "https://localhost:8080/"
        },
        "id": "rKswv-2g5Wnq",
        "outputId": "45549aeb-7cb2-4a46-dbed-1f3a6a1292d2"
      },
      "outputs": [
        {
          "data": {
            "text/plain": [
              "Month Number                 0\n",
              "START PERIOD                 0\n",
              "END PERIOD                   0\n",
              "REPORT RUN PERIOD            0\n",
              "REPORT MONTH                 0\n",
              "                         ...  \n",
              "PERSON ID                19419\n",
              "distinct person id           0\n",
              "Unnamed: 89             291837\n",
              "distinct position id         0\n",
              "Churn                        0\n",
              "Length: 92, dtype: int64"
            ]
          },
          "execution_count": 43,
          "metadata": {},
          "output_type": "execute_result"
        }
      ],
      "source": [
        "df.isna().sum()"
      ],
      "id": "rKswv-2g5Wnq"
    },
    {
      "cell_type": "code",
      "execution_count": null,
      "metadata": {
        "colab": {
          "base_uri": "https://localhost:8080/"
        },
        "id": "m_p8-Zwd5r_M",
        "outputId": "b5f045b7-4312-4fe0-c2ae-177697476228"
      },
      "outputs": [
        {
          "data": {
            "text/plain": [
              "(291837, 92)"
            ]
          },
          "execution_count": 44,
          "metadata": {},
          "output_type": "execute_result"
        }
      ],
      "source": [
        "df.shape"
      ],
      "id": "m_p8-Zwd5r_M"
    },
    {
      "cell_type": "markdown",
      "metadata": {
        "id": "jpJV94oLUplq"
      },
      "source": [
        "The **Role Title** column has too many values, so we are spliiting the vales and the extract the first value which is the role of the Employees."
      ],
      "id": "jpJV94oLUplq"
    },
    {
      "cell_type": "code",
      "execution_count": null,
      "metadata": {
        "colab": {
          "base_uri": "https://localhost:8080/"
        },
        "id": "-uM2IZ9eTPFr",
        "outputId": "6e5d6470-60c2-451b-e947-37d6c0e6d716"
      },
      "outputs": [
        {
          "data": {
            "text/plain": [
              "array(['Administrator', 'TSS', 'Manager', 'Personal', 'Team', 'Academic',\n",
              "       'Research', 'Professor', 'Specialist', 'Graduate', 'Clinical',\n",
              "       'Z99', 'Teaching', 'Consultant', 'Nurse', 'Occasional', 'Senior',\n",
              "       'KTP', 'Craftworker', 'Community', 'Catering', 'Fitness',\n",
              "       'Leisure', 'University', 'Dean', nan, 'External', 'Adminstrator',\n",
              "       'Administration', 'EAP'], dtype=object)"
            ]
          },
          "execution_count": 45,
          "metadata": {},
          "output_type": "execute_result"
        }
      ],
      "source": [
        "# Extracting Role \n",
        "df['Role Title'] = df['Role Title'].str.split(' ').str[0]\n",
        "df['Role Title'].unique()"
      ],
      "id": "-uM2IZ9eTPFr"
    },
    {
      "cell_type": "markdown",
      "metadata": {
        "id": "VDdanqXLVVSh"
      },
      "source": [
        "REPLACE THE **Not Available** values in the **Religion Or Belief** column with NaN Values, And Then replacing those NaN values to **No Religion**, as column sets to NaN basically means the employee isn't Religious"
      ],
      "id": "VDdanqXLVVSh"
    },
    {
      "cell_type": "code",
      "execution_count": null,
      "metadata": {
        "id": "o_cFYgVxWr4W"
      },
      "outputs": [],
      "source": [
        "df['Religion Or Belief'].replace('Not Available', np.NaN, inplace=True)\n",
        "\n",
        "# Replace nan values in the \"Religion or belief\" column with \"No Religion\"\n",
        "df['Religion Or Belief'].replace(np.NaN, \"No Religion\", inplace=True)"
      ],
      "id": "o_cFYgVxWr4W"
    },
    {
      "cell_type": "code",
      "execution_count": null,
      "metadata": {
        "colab": {
          "base_uri": "https://localhost:8080/"
        },
        "id": "FyjyM3o9Uw7l",
        "outputId": "de3a0180-1ec7-4dbd-e3d0-fc6229a51fcd"
      },
      "outputs": [
        {
          "data": {
            "text/plain": [
              "array(['No Religion', 'Prefer not to say', 'Any Other Religion or Belief',\n",
              "       'Christian', 'Spiritual', 'Jewish', 'Buddhist', 'Sikh', 'Muslim',\n",
              "       'Hindu'], dtype=object)"
            ]
          },
          "execution_count": 47,
          "metadata": {},
          "output_type": "execute_result"
        }
      ],
      "source": [
        "# Check the Unique Values\n",
        "df['Religion Or Belief'].unique()"
      ],
      "id": "FyjyM3o9Uw7l"
    },
    {
      "cell_type": "markdown",
      "metadata": {
        "id": "0eRi-cQcWyXF"
      },
      "source": [
        "**Looping through each columns in the DataFrame to check the names, data types, and the sum of Null Values in Each column.**"
      ],
      "id": "0eRi-cQcWyXF"
    },
    {
      "cell_type": "code",
      "execution_count": null,
      "metadata": {
        "colab": {
          "base_uri": "https://localhost:8080/"
        },
        "collapsed": true,
        "id": "O8aZJ9LN6oGr",
        "outputId": "6c066556-98e8-413f-92db-79a70c423940"
      },
      "outputs": [
        {
          "name": "stdout",
          "output_type": "stream",
          "text": [
            "Month Number\n",
            "int64\n",
            "0\n",
            "====================================================================================================\n",
            "START PERIOD\n",
            "datetime64[ns]\n",
            "0\n",
            "====================================================================================================\n",
            "END PERIOD\n",
            "datetime64[ns]\n",
            "0\n",
            "====================================================================================================\n",
            "REPORT RUN PERIOD\n",
            "object\n",
            "0\n",
            "====================================================================================================\n",
            "REPORT MONTH\n",
            "int64\n",
            "0\n",
            "====================================================================================================\n",
            "YTD FLAG\n",
            "int64\n",
            "0\n",
            "====================================================================================================\n",
            "Academic Year\n",
            "object\n",
            "0\n",
            "====================================================================================================\n",
            "FIN YTD START FLAG\n",
            "int64\n",
            "0\n",
            "====================================================================================================\n",
            "FIN YTD START POS\n",
            "int64\n",
            "0\n",
            "====================================================================================================\n",
            "YTD START FLAG - Person\n",
            "int64\n",
            "0\n",
            "====================================================================================================\n",
            "JOINER IN PERIOD\n",
            "int64\n",
            "0\n",
            "====================================================================================================\n",
            "LEAVER IN PERIOD\n",
            "int64\n",
            "0\n",
            "====================================================================================================\n",
            "HEADCOUNT PERIOD END\n",
            "int64\n",
            "0\n",
            "====================================================================================================\n",
            "New position in period\n",
            "int64\n",
            "0\n",
            "====================================================================================================\n",
            "Position Ended in Period\n",
            "int64\n",
            "0\n",
            "====================================================================================================\n",
            "Position Count Period End\n",
            "int64\n",
            "0\n",
            "====================================================================================================\n",
            "FTE PERIOD END\n",
            "float64\n",
            "0\n",
            "====================================================================================================\n",
            "Permanent Budget FTE Period End\n",
            "float64\n",
            "0\n",
            "====================================================================================================\n",
            "Temporary Budget FTE Period End\n",
            "float64\n",
            "0\n",
            "====================================================================================================\n",
            "Total Budgeted FTE Period End\n",
            "float64\n",
            "0\n",
            "====================================================================================================\n",
            "Total Annual Budgeted FTE Period End\n",
            "float64\n",
            "0\n",
            "====================================================================================================\n",
            "FTE Joiners\n",
            "float64\n",
            "0\n",
            "====================================================================================================\n",
            "FTE LEAVERS\n",
            "float64\n",
            "0\n",
            "====================================================================================================\n",
            "FTE Position Started\n",
            "float64\n",
            "0\n",
            "====================================================================================================\n",
            "FTE Position Ended\n",
            "float64\n",
            "0\n",
            "====================================================================================================\n",
            "IN PERIOD STATUS\n",
            "object\n",
            "0\n",
            "====================================================================================================\n",
            "In Period EST Status\n",
            "object\n",
            "0\n",
            "====================================================================================================\n",
            "Date used for Reference Data\n",
            "datetime64[ns]\n",
            "0\n",
            "====================================================================================================\n",
            "Division\n",
            "object\n",
            "0\n",
            "====================================================================================================\n",
            "Faculty / Professional Directorate\n",
            "object\n",
            "0\n",
            "====================================================================================================\n",
            "Position Start Date\n",
            "datetime64[ns]\n",
            "0\n",
            "====================================================================================================\n",
            "Position End date\n",
            "datetime64[ns]\n",
            "105899\n",
            "====================================================================================================\n",
            "ANNUAL WEEKS WORKED\n",
            "float64\n",
            "0\n",
            "====================================================================================================\n",
            "CONTRACTUAL HOURS\n",
            "float64\n",
            "15\n",
            "====================================================================================================\n",
            "Permanent Establishment Budget\n",
            "float64\n",
            "0\n",
            "====================================================================================================\n",
            "Temporary Establishment Budget\n",
            "float64\n",
            "0\n",
            "====================================================================================================\n",
            "Total Establishment Budget Hours\n",
            "float64\n",
            "0\n",
            "====================================================================================================\n",
            "Hours Variance\n",
            "float64\n",
            "15\n",
            "====================================================================================================\n",
            "Vacant Hours as a % of Total Establishment\n",
            "object\n",
            "123723\n",
            "====================================================================================================\n",
            "Budget Effective Date\n",
            "object\n",
            "207480\n",
            "====================================================================================================\n",
            "FTE HOURS\n",
            "float64\n",
            "12\n",
            "====================================================================================================\n",
            "FTE\n",
            "float64\n",
            "0\n",
            "====================================================================================================\n",
            "Total Budgeted FTE\n",
            "float64\n",
            "0\n",
            "====================================================================================================\n",
            "Total Annual Budgeted FTE\n",
            "float64\n",
            "0\n",
            "====================================================================================================\n",
            "FTEVariance\n",
            "float64\n",
            "0\n",
            "====================================================================================================\n",
            "Vacant FTE as a % of Total Establishment\n",
            "object\n",
            "123792\n",
            "====================================================================================================\n",
            "CATEGORY\n",
            "object\n",
            "142\n",
            "====================================================================================================\n",
            "BASIS\n",
            "object\n",
            "150\n",
            "====================================================================================================\n",
            "TYPE\n",
            "object\n",
            "100\n",
            "====================================================================================================\n",
            "Establishment Contract Type\n",
            "object\n",
            "207480\n",
            "====================================================================================================\n",
            "Role Title\n",
            "object\n",
            "2\n",
            "====================================================================================================\n",
            "Post reference\n",
            "object\n",
            "2\n",
            "====================================================================================================\n",
            "GRADE DESC\n",
            "object\n",
            "29953\n",
            "====================================================================================================\n",
            "Establishment Grade\n",
            "object\n",
            "208591\n",
            "====================================================================================================\n",
            "SALARY\n",
            "float64\n",
            "29372\n",
            "====================================================================================================\n",
            "Pro Rated Salary\n",
            "float64\n",
            "29372\n",
            "====================================================================================================\n",
            "SALARY BAND\n",
            "object\n",
            "0\n",
            "====================================================================================================\n",
            "Scalept Description\n",
            "object\n",
            "30605\n",
            "====================================================================================================\n",
            "Off Scale Salary\n",
            "float64\n",
            "290604\n",
            "====================================================================================================\n",
            "Actual Scalepoint Val\n",
            "float64\n",
            "30605\n",
            "====================================================================================================\n",
            "JOB FAMILY\n",
            "object\n",
            "1847\n",
            "====================================================================================================\n",
            "Academic employment function code\n",
            "float64\n",
            "714\n",
            "====================================================================================================\n",
            "academic employment function description\n",
            "object\n",
            "714\n",
            "====================================================================================================\n",
            "ACF Core Domain Focus\n",
            "object\n",
            "263922\n",
            "====================================================================================================\n",
            "ACF Agreed Date\n",
            "object\n",
            "263922\n",
            "====================================================================================================\n",
            "STEMM Indicator\n",
            "object\n",
            "130965\n",
            "====================================================================================================\n",
            "Position Grouping\n",
            "object\n",
            "170461\n",
            "====================================================================================================\n",
            "Vacancy Status\n",
            "object\n",
            "291746\n",
            "====================================================================================================\n",
            "JOINING DATE\n",
            "datetime64[ns]\n",
            "20141\n",
            "====================================================================================================\n",
            "SERVICE LENGTH DAYS\n",
            "float64\n",
            "20141\n",
            "====================================================================================================\n",
            "SERVICE LENGTH YEARS\n",
            "float64\n",
            "20141\n",
            "====================================================================================================\n",
            "SERVICE LENGTH BAND\n",
            "object\n",
            "20141\n",
            "====================================================================================================\n",
            "ONE YEARS SERVICE FLAG\n",
            "int64\n",
            "0\n",
            "====================================================================================================\n",
            "LEAVING DATE\n",
            "datetime64[ns]\n",
            "160243\n",
            "====================================================================================================\n",
            "LEAVING REASON\n",
            "object\n",
            "0\n",
            "====================================================================================================\n",
            "Leaving Reason Category\n",
            "object\n",
            "160243\n",
            "====================================================================================================\n",
            "AGE BAND\n",
            "object\n",
            "0\n",
            "====================================================================================================\n",
            "Sex Identifier\n",
            "object\n",
            "0\n",
            "====================================================================================================\n",
            "HESA Disability\n",
            "object\n",
            "72375\n",
            "====================================================================================================\n",
            "ETHNIC GROUP\n",
            "object\n",
            "62267\n",
            "====================================================================================================\n",
            "Religion Or Belief\n",
            "object\n",
            "0\n",
            "====================================================================================================\n",
            "START DATE OCCUPANCY\n",
            "datetime64[ns]\n",
            "19419\n",
            "====================================================================================================\n",
            "END DATE OCCUPANCY\n",
            "datetime64[ns]\n",
            "109102\n",
            "====================================================================================================\n",
            "Expected Occupancy End Reason\n",
            "object\n",
            "194566\n",
            "====================================================================================================\n",
            "ORG PARTY ID\n",
            "object\n",
            "0\n",
            "====================================================================================================\n",
            "POSITION ID\n",
            "object\n",
            "0\n",
            "====================================================================================================\n",
            "PARTY LNK ID OCCUPANCY\n",
            "object\n",
            "19419\n",
            "====================================================================================================\n",
            "PERSON ID\n",
            "object\n",
            "19419\n",
            "====================================================================================================\n",
            "distinct person id\n",
            "int64\n",
            "0\n",
            "====================================================================================================\n",
            "Unnamed: 89\n",
            "float64\n",
            "291837\n",
            "====================================================================================================\n",
            "distinct position id\n",
            "int64\n",
            "0\n",
            "====================================================================================================\n",
            "Churn\n",
            "object\n",
            "0\n",
            "====================================================================================================\n"
          ]
        }
      ],
      "source": [
        "cols = df.columns\n",
        "for col in cols:\n",
        "  print(col)\n",
        "  print(df[col].dtype)\n",
        "  print(df[col].isnull().sum())\n",
        "  print(\"=\"*100)\n"
      ],
      "id": "O8aZJ9LN6oGr"
    },
    {
      "cell_type": "markdown",
      "metadata": {
        "id": "97I-BIrbXJ8V"
      },
      "source": [
        "**REPLACE NAN VALUES WITH THEIR COLUMN MODE VALUES**"
      ],
      "id": "97I-BIrbXJ8V"
    },
    {
      "cell_type": "code",
      "execution_count": null,
      "metadata": {
        "id": "dg7wX4-1XSvb"
      },
      "outputs": [],
      "source": [
        "# Working with NAN columns\n",
        "cols_with_nans = ['CONTRACTUAL HOURS', 'Hours Variance', 'CATEGORY', 'BASIS', 'TYPE', 'Role Title', \n",
        "'SALARY','Pro Rated Salary', 'JOB FAMILY','ETHNIC GROUP']\n",
        "\n",
        "for cols in df[cols_with_nans]:\n",
        "  cols_mode = df[cols].mode()[0]\n",
        "  df[cols].replace(np.NaN, cols_mode, inplace=True)"
      ],
      "id": "dg7wX4-1XSvb"
    },
    {
      "cell_type": "code",
      "execution_count": null,
      "metadata": {
        "colab": {
          "base_uri": "https://localhost:8080/"
        },
        "id": "JCH4UOuNX4AC",
        "outputId": "0bcb23ea-8f69-4306-e756-02ea1e3f8cc3"
      },
      "outputs": [
        {
          "data": {
            "text/plain": [
              "CONTRACTUAL HOURS    0\n",
              "Hours Variance       0\n",
              "CATEGORY             0\n",
              "BASIS                0\n",
              "TYPE                 0\n",
              "Role Title           0\n",
              "SALARY               0\n",
              "Pro Rated Salary     0\n",
              "JOB FAMILY           0\n",
              "ETHNIC GROUP         0\n",
              "dtype: int64"
            ]
          },
          "execution_count": 50,
          "metadata": {},
          "output_type": "execute_result"
        }
      ],
      "source": [
        "df[cols_with_nans].isnull().sum()"
      ],
      "id": "JCH4UOuNX4AC"
    },
    {
      "cell_type": "code",
      "execution_count": null,
      "metadata": {
        "id": "gPBq-NY_7gXz"
      },
      "outputs": [],
      "source": [
        "# Converting REPORT RUN PERIOD dtype to Datetime64\n",
        "df['REPORT RUN PERIOD'] = pd.to_datetime(df['REPORT RUN PERIOD'])"
      ],
      "id": "gPBq-NY_7gXz"
    },
    {
      "cell_type": "code",
      "execution_count": null,
      "metadata": {
        "id": "rlZovAp4Fx-g"
      },
      "outputs": [],
      "source": [],
      "id": "rlZovAp4Fx-g"
    },
    {
      "cell_type": "code",
      "execution_count": null,
      "metadata": {
        "colab": {
          "base_uri": "https://localhost:8080/"
        },
        "id": "OJB5Ldg9BgvJ",
        "outputId": "38175ef9-2753-4971-9d93-1c69ba48cf8c"
      },
      "outputs": [
        {
          "data": {
            "text/plain": [
              "(291837, 92)"
            ]
          },
          "execution_count": 52,
          "metadata": {},
          "output_type": "execute_result"
        }
      ],
      "source": [
        "df.shape"
      ],
      "id": "OJB5Ldg9BgvJ"
    },
    {
      "cell_type": "markdown",
      "metadata": {
        "id": "m1EcQQwkYsrH"
      },
      "source": [
        "**Replacing all forms of disabilities and \"No Known Disability' values to 'YES', and all NaN values to 'NO'. So the disabilty column will consist of 3 Values which are [YES, NO, PREFER NOT TO SAY]**...... "
      ],
      "id": "m1EcQQwkYsrH"
    },
    {
      "cell_type": "code",
      "execution_count": null,
      "metadata": {
        "id": "7KM9DtVEG7rP"
      },
      "outputs": [],
      "source": [
        "# Working On the \"HESA Disabilities\" column\n",
        "df['HESA Disability'].replace('No known disability', 'Yes', inplace=True)"
      ],
      "id": "7KM9DtVEG7rP"
    },
    {
      "cell_type": "code",
      "execution_count": null,
      "metadata": {
        "id": "PrgJc728c0ER"
      },
      "outputs": [],
      "source": [
        "# Disability category\n",
        "dis_val =['Long standing illness or health condition e.g. cancer, HIV, diabetes etc.',\n",
        "       'Mental health condition, such as depression, schizophrenia or anxiety disorder',\n",
        "       'Specific learning difficulty such as dyslexia, dyspraxia or AD(H)D',\n",
        "       'Physical impairment or mobility issues e.g. difficulty using arms or legs',\n",
        "       'Blind or a serious visual impairment uncorrected by glasses',\n",
        "       'Two or more impairments and/or disabling medical conditions',\n",
        "       'Disability, impairment or medical condition that is not listed above',\n",
        "       \"Social/communication impairment e.g. Asperger's or other autistic disorder\",\n",
        "       'Deaf or serious hearing impairment',\n",
        "       \"General learning disability (such as Down's syndrome)\"]\n",
        "       \n",
        "df['HESA Disability'].replace(dis_val, 'Yes', inplace=True)"
      ],
      "id": "PrgJc728c0ER"
    },
    {
      "cell_type": "code",
      "execution_count": null,
      "metadata": {
        "id": "DWxC4RE4cd0i"
      },
      "outputs": [],
      "source": [
        "df['HESA Disability'].replace(np.NaN, \"No\", inplace=True)"
      ],
      "id": "DWxC4RE4cd0i"
    },
    {
      "cell_type": "code",
      "execution_count": null,
      "metadata": {
        "colab": {
          "base_uri": "https://localhost:8080/"
        },
        "id": "veQTIOdubl_0",
        "outputId": "145a5bd6-decb-46f9-b00a-ac8a8adc2191"
      },
      "outputs": [
        {
          "data": {
            "text/plain": [
              "array(['No', 'Yes', 'Prefer not to say'], dtype=object)"
            ]
          },
          "execution_count": 56,
          "metadata": {},
          "output_type": "execute_result"
        }
      ],
      "source": [
        "df['HESA Disability'].unique()"
      ],
      "id": "veQTIOdubl_0"
    },
    {
      "cell_type": "markdown",
      "metadata": {
        "id": "N-_JMhaMYmYA"
      },
      "source": [
        "**Drop All Datetime Objects**"
      ],
      "id": "N-_JMhaMYmYA"
    },
    {
      "cell_type": "code",
      "execution_count": null,
      "metadata": {
        "id": "96UTkL8HG8y_"
      },
      "outputs": [],
      "source": [
        "# drop the datetime columns\n",
        "datetime_obj = df.select_dtypes(include='datetime64').columns.tolist()\n",
        "df.drop(datetime_obj, axis=1, inplace=True)"
      ],
      "id": "96UTkL8HG8y_"
    },
    {
      "cell_type": "code",
      "execution_count": null,
      "metadata": {
        "colab": {
          "base_uri": "https://localhost:8080/"
        },
        "id": "FkJ0PqtOOj-e",
        "outputId": "96d7f5f8-ac71-4670-c653-8f5ecd3d8e74"
      },
      "outputs": [
        {
          "data": {
            "text/plain": [
              "array(['-----', '25-29', '70+', '40-44', '30-34', '20-24', '35-39',\n",
              "       '60-64', '45-49', '55-59', '50-54', '65-69', '16-19'], dtype=object)"
            ]
          },
          "execution_count": 58,
          "metadata": {},
          "output_type": "execute_result"
        }
      ],
      "source": [
        "df['AGE BAND'].unique()"
      ],
      "id": "FkJ0PqtOOj-e"
    },
    {
      "cell_type": "markdown",
      "metadata": {
        "id": "8srkvw3SZmL5"
      },
      "source": [
        "**Replace the special characters in the \"SALARY BAND\" & \"AGE BAND\" with the columns mode**"
      ],
      "id": "8srkvw3SZmL5"
    },
    {
      "cell_type": "code",
      "execution_count": null,
      "metadata": {
        "id": "z7s9GsH3OzWt"
      },
      "outputs": [],
      "source": [
        "# Working with the AGE BAND column\n",
        "age_mode = df[\"AGE BAND\"].mode()[0]\n",
        "df[\"AGE BAND\"].replace(\"-----\", age_mode, inplace=True)\n",
        "\n",
        "# Working with the SALARY BAND column\n",
        "salary_mode = df[\"SALARY BAND\"].mode()[0]\n",
        "df[\"SALARY BAND\"].replace(\"------\", salary_mode, inplace=True)"
      ],
      "id": "z7s9GsH3OzWt"
    },
    {
      "cell_type": "markdown",
      "metadata": {
        "id": "iJomzTuHaBVo"
      },
      "source": [
        "**Rename the \"AGE BAND\" column to \"AGE GROUP\", and then grouping to the categories the belongs to [Teen, Youth, Adult, Old]** "
      ],
      "id": "iJomzTuHaBVo"
    },
    {
      "cell_type": "code",
      "execution_count": null,
      "metadata": {
        "id": "4SVjVB3uPSJn"
      },
      "outputs": [],
      "source": [
        "# AGE grouping and column Renaming\n",
        "\n",
        "df.rename({\"AGE BAND\": \"AGE GROUP\"}, axis=1, inplace=True)\n",
        "df['AGE GROUP'].replace([\"16-19\", \"20-24\"], [\"Teen\",\"Youth\"], inplace=True)\n",
        "df[\"AGE GROUP\"].replace([\"25-29\",\"30-34\",\"35-39\",\"40-44\",\"45-49\",\"50-54\",\"55-59\"], \"Adult\", inplace=True)\n",
        "df[\"AGE GROUP\"].replace([\"60-64\", \"65-69\", \"70+\"], \"Old\", inplace=True)"
      ],
      "id": "4SVjVB3uPSJn"
    },
    {
      "cell_type": "code",
      "execution_count": null,
      "metadata": {
        "colab": {
          "base_uri": "https://localhost:8080/"
        },
        "id": "YBjuEw0URjf4",
        "outputId": "e481d23e-f2a9-4ce8-fd7b-ff9ef28e70bb"
      },
      "outputs": [
        {
          "data": {
            "text/plain": [
              "array(['Youth', 'Adult', 'Old', 'Teen'], dtype=object)"
            ]
          },
          "execution_count": 61,
          "metadata": {},
          "output_type": "execute_result"
        }
      ],
      "source": [
        "df[\"AGE GROUP\"].unique()"
      ],
      "id": "YBjuEw0URjf4"
    },
    {
      "cell_type": "markdown",
      "metadata": {
        "id": "lB40R6wqYYow"
      },
      "source": [
        "**Drop unnecessary columns from the DataFrame**"
      ],
      "id": "lB40R6wqYYow"
    },
    {
      "cell_type": "code",
      "execution_count": null,
      "metadata": {
        "id": "19htLrtJiPux"
      },
      "outputs": [],
      "source": [
        "# Drop columns\n",
        "cols_to_drop = ['Vacant Hours as a % of Total Establishment', 'Budget Effective Date', 'Vacant FTE as a % of Total Establishment', 'Post reference',\n",
        "                'GRADE DESC', 'Establishment Grade', 'Scalept Description', 'ACF Agreed Date', \"Leaving Reason Category\", \"SERVICE LENGTH BAND\",\n",
        "                'PARTY LNK ID OCCUPANCY', 'PERSON ID', 'Expected Occupancy End Reason','ORG PARTY ID','POSITION ID',\n",
        "                'distinct person id', 'Academic Year', 'distinct position id', 'Month Number']\n",
        "df.drop(cols_to_drop, axis=1, inplace=True)"
      ],
      "id": "19htLrtJiPux"
    },
    {
      "cell_type": "code",
      "execution_count": null,
      "metadata": {
        "id": "L_bL_rHsjID7"
      },
      "outputs": [],
      "source": [
        "# Position Grouping\n",
        "df['Position Grouping'].replace(\"**Other Academic **\", \"Other Academic\",inplace=True)"
      ],
      "id": "L_bL_rHsjID7"
    },
    {
      "cell_type": "code",
      "execution_count": null,
      "metadata": {
        "colab": {
          "base_uri": "https://localhost:8080/"
        },
        "id": "FaTgynMfjVOx",
        "outputId": "612a0550-da50-435d-9189-3b430119bf5c"
      },
      "outputs": [
        {
          "data": {
            "text/plain": [
              "array(['Other Academic', nan, 'Lecturer/Tutor', 'Researcher', 'Professor',\n",
              "       'Senior Lecturer', 'Reader'], dtype=object)"
            ]
          },
          "execution_count": 64,
          "metadata": {},
          "output_type": "execute_result"
        }
      ],
      "source": [
        "df['Position Grouping'].unique()"
      ],
      "id": "FaTgynMfjVOx"
    },
    {
      "cell_type": "markdown",
      "metadata": {
        "id": "XdiRm9gZan_y"
      },
      "source": [
        "**Since the \"Vacancy Status\" consists of NaN and \"position filled\" values, so we are converting the NaN values to \"position vacant' value because a position can either be filled or vacant.**"
      ],
      "id": "XdiRm9gZan_y"
    },
    {
      "cell_type": "code",
      "execution_count": null,
      "metadata": {
        "id": "PHZmfxXBkuNQ"
      },
      "outputs": [],
      "source": [
        "# Vacancy Status\n",
        "df['Vacancy Status'].replace(np.NaN, \"Position Vacant\", inplace=True)"
      ],
      "id": "PHZmfxXBkuNQ"
    },
    {
      "cell_type": "code",
      "execution_count": null,
      "metadata": {
        "colab": {
          "base_uri": "https://localhost:8080/"
        },
        "id": "H0RhDpbsk_gw",
        "outputId": "65aa1cd4-98a6-4276-962c-b7d7642d6fc8"
      },
      "outputs": [
        {
          "data": {
            "text/plain": [
              "array(['Position Vacant', 'Position Filled'], dtype=object)"
            ]
          },
          "execution_count": 66,
          "metadata": {},
          "output_type": "execute_result"
        }
      ],
      "source": [
        "df['Vacancy Status'].unique()"
      ],
      "id": "H0RhDpbsk_gw"
    },
    {
      "cell_type": "markdown",
      "metadata": {
        "id": "0-t-bOyCbVrq"
      },
      "source": [
        "**REPLACE THE \"Not Stated\" values in the \"ETHNIC GROUP\" column with NaN Values**"
      ],
      "id": "0-t-bOyCbVrq"
    },
    {
      "cell_type": "code",
      "execution_count": null,
      "metadata": {
        "id": "uAem-4vrlcOg"
      },
      "outputs": [],
      "source": [
        "# Replace \"Not stated\" values in the \"ethnic group\" column with nan\n",
        "df['ETHNIC GROUP'].replace(\"Not Stated\", np.NaN, inplace=True)"
      ],
      "id": "uAem-4vrlcOg"
    },
    {
      "cell_type": "markdown",
      "metadata": {
        "id": "CEJKdHjwbpYg"
      },
      "source": [
        "**Looping through columns with object datatypes and then getting the unique values of those columns**"
      ],
      "id": "CEJKdHjwbpYg"
    },
    {
      "cell_type": "code",
      "execution_count": null,
      "metadata": {
        "colab": {
          "base_uri": "https://localhost:8080/"
        },
        "id": "TbvDB69qRlfN",
        "outputId": "fb0396f3-d360-4a32-dfe7-56d967330636"
      },
      "outputs": [
        {
          "name": "stdout",
          "output_type": "stream",
          "text": [
            "IN PERIOD STATUS\n",
            "['Vacant' 'Active Period End' 'Leaver' 'Joiner' 'Joiner/Leaver']\n",
            "====================================================================================================\n",
            "In Period EST Status\n",
            "['Added' 'Active Period End' 'Subtracted']\n",
            "====================================================================================================\n",
            "Division\n",
            "['Academic Affairs' 'Vice-Chancellor' 'Chief Finance Office' 'Education'\n",
            " 'Human Resources' 'Research and Enterprise'\n",
            " 'University Registrar and Secretary' 'Chief Operating Officer'\n",
            " 'Chief People Officer' 'International']\n",
            "====================================================================================================\n",
            "Faculty / Professional Directorate\n",
            "['Academic Affairs' 'Faculty of Arts Cultures and Education'\n",
            " 'Faculty of Business, Law and Politics' 'Faculty of Health Sciences'\n",
            " 'Faculty of Science and Engineering' 'Other' 'University Library'\n",
            " 'Campus and Accommodation Services' 'Estates' 'Finance Directorate'\n",
            " 'Information and Communication Technology' 'Education'\n",
            " 'Student Recruitment Directorate' 'Human Resources'\n",
            " 'PVC Research and Enterprise Office' 'Student Services' 'COO Office'\n",
            " 'Information Services Directorate' 'Student Services Commercial'\n",
            " 'International' 'Aura' 'Doctoral College' 'Institutes'\n",
            " 'Research and Innovation' 'Academic Registrar']\n",
            "====================================================================================================\n",
            "CATEGORY\n",
            "['Academic' 'Professional' 'XX IR35']\n",
            "====================================================================================================\n",
            "BASIS\n",
            "['Full Time' 'Atypical' 'Part Time' 'Part Time/Term Only'\n",
            " 'Full Time/Term Only']\n",
            "====================================================================================================\n",
            "TYPE\n",
            "['Continuing' 'Occasional Worker' 'Fee' 'Fixed Term' 'Temporary' 'Casual'\n",
            " 'XX IR35' 'External Agreement']\n",
            "====================================================================================================\n",
            "Establishment Contract Type\n",
            "[nan 'Continuing' 'Fixed Term' 'Temporary' 'Occasional Worker']\n",
            "====================================================================================================\n",
            "Role Title\n",
            "['Administrator' 'TSS' 'Manager' 'Personal' 'Team' 'Academic' 'Research'\n",
            " 'Professor' 'Specialist' 'Graduate' 'Clinical' 'Z99' 'Teaching'\n",
            " 'Consultant' 'Nurse' 'Occasional' 'Senior' 'KTP' 'Craftworker'\n",
            " 'Community' 'Catering' 'Fitness' 'Leisure' 'University' 'Dean' 'External'\n",
            " 'Adminstrator' 'Administration' 'EAP']\n",
            "====================================================================================================\n",
            "SALARY BAND\n",
            "['30k-39k' '10k-19k' '40k-49k' '20k-29k' '70k+' '60k-69k' '50k-59k']\n",
            "====================================================================================================\n",
            "JOB FAMILY\n",
            "['Admin Family Finance and PAs' 'Academic' 'Specialists'\n",
            " 'Medical Academic' 'Nurse' 'Community Operative' 'Library'\n",
            " 'HR and Welfare' 'Craft - Maintenance Catering Print' 'Finance']\n",
            "====================================================================================================\n",
            "academic employment function description\n",
            "['Not an academic contract' 'Teaching only' 'Not teaching and/or research'\n",
            " 'Research only' nan 'Teaching and research']\n",
            "====================================================================================================\n",
            "ACF Core Domain Focus\n",
            "[nan 'Research' 'Education' 'Transition and Development (Research)'\n",
            " 'Transition and Development (Education)'\n",
            " 'Knowledge, Innovation and Engagement'\n",
            " 'Transition and Development (Knowledge, Innovation and Engagement)']\n",
            "====================================================================================================\n",
            "STEMM Indicator\n",
            "[nan 'AHSSDL' 'STEMM']\n",
            "====================================================================================================\n",
            "Position Grouping\n",
            "['Other Academic' nan 'Lecturer/Tutor' 'Researcher' 'Professor'\n",
            " 'Senior Lecturer' 'Reader']\n",
            "====================================================================================================\n",
            "Vacancy Status\n",
            "['Position Vacant' 'Position Filled']\n",
            "====================================================================================================\n",
            "LEAVING REASON\n",
            "['Voluntarily' 'Involuntarily']\n",
            "====================================================================================================\n",
            "AGE GROUP\n",
            "['Youth' 'Adult' 'Old' 'Teen']\n",
            "====================================================================================================\n",
            "Sex Identifier\n",
            "['Unspecified' 'Female' 'Male' 'Other']\n",
            "====================================================================================================\n",
            "HESA Disability\n",
            "['No' 'Yes' 'Prefer not to say']\n",
            "====================================================================================================\n",
            "ETHNIC GROUP\n",
            "['White' 'Other Ethnic Groups' 'Asian or Asian British' nan 'Mixed'\n",
            " 'Black or Black British']\n",
            "====================================================================================================\n",
            "Religion Or Belief\n",
            "['No Religion' 'Prefer not to say' 'Any Other Religion or Belief'\n",
            " 'Christian' 'Spiritual' 'Jewish' 'Buddhist' 'Sikh' 'Muslim' 'Hindu']\n",
            "====================================================================================================\n",
            "Churn\n",
            "['No' 'Yes']\n",
            "====================================================================================================\n"
          ]
        }
      ],
      "source": [
        "cols_with_obj_dtypes = df.select_dtypes(include=['object'])\n",
        "\n",
        "for cols in cols_with_obj_dtypes:\n",
        "  print(cols)\n",
        "  print(df[cols].unique())\n",
        "  print(\"=\"*100)"
      ],
      "id": "TbvDB69qRlfN"
    },
    {
      "cell_type": "markdown",
      "metadata": {
        "id": "wigB7wEfb2uc"
      },
      "source": [
        "**Fill the NaN values in object data type columns with the columns mode**"
      ],
      "id": "wigB7wEfb2uc"
    },
    {
      "cell_type": "code",
      "execution_count": null,
      "metadata": {
        "id": "Yog8hB4Kemzp"
      },
      "outputs": [],
      "source": [
        "# replace null values\n",
        "obj_na_cols = ['Establishment Contract Type','academic employment function description', 'ACF Core Domain Focus', \n",
        "               'STEMM Indicator', 'Position Grouping', 'ETHNIC GROUP']\n",
        "\n",
        "for na_values in df[obj_na_cols]:\n",
        "  na_mode = df[na_values].mode()[0]\n",
        "  df[na_values].fillna(na_mode, inplace=True)"
      ],
      "id": "Yog8hB4Kemzp"
    },
    {
      "cell_type": "code",
      "execution_count": null,
      "metadata": {
        "colab": {
          "base_uri": "https://localhost:8080/"
        },
        "id": "5co1W95_oIaY",
        "outputId": "1bbd4a3c-7113-44fd-8fcd-85196b55cca4"
      },
      "outputs": [
        {
          "data": {
            "text/plain": [
              "(291837, 63)"
            ]
          },
          "execution_count": 70,
          "metadata": {},
          "output_type": "execute_result"
        }
      ],
      "source": [
        "df.shape"
      ],
      "id": "5co1W95_oIaY"
    },
    {
      "cell_type": "markdown",
      "metadata": {
        "id": "I8Kci8KncUgH"
      },
      "source": [
        "**Drop all remaining columns with NaN values after the needed column has been filled with their mode**"
      ],
      "id": "I8Kci8KncUgH"
    },
    {
      "cell_type": "code",
      "execution_count": null,
      "metadata": {
        "id": "qFhB__UVoAF6"
      },
      "outputs": [],
      "source": [
        "# Drop na\n",
        "df.dropna(axis=1, inplace=True)"
      ],
      "id": "qFhB__UVoAF6"
    },
    {
      "cell_type": "code",
      "execution_count": null,
      "metadata": {
        "colab": {
          "base_uri": "https://localhost:8080/"
        },
        "id": "mtLFcIzRoLoY",
        "outputId": "468eee4e-d866-4d2f-fc67-2619905ea5c7"
      },
      "outputs": [
        {
          "data": {
            "text/plain": [
              "(291837, 56)"
            ]
          },
          "execution_count": 72,
          "metadata": {},
          "output_type": "execute_result"
        }
      ],
      "source": [
        "df.shape"
      ],
      "id": "mtLFcIzRoLoY"
    },
    {
      "cell_type": "markdown",
      "metadata": {
        "id": "twZY3ReBcioK"
      },
      "source": [
        "**Replacing The \"Unspecified\" value in the \"Sex Identifier\" column with the column mode**"
      ],
      "id": "twZY3ReBcioK"
    },
    {
      "cell_type": "code",
      "execution_count": null,
      "metadata": {
        "id": "6jV57XuyU9Od"
      },
      "outputs": [],
      "source": [
        "# Replacing The \"Unspecified\" value in the \"Sex Identifier\" column\n",
        "sex_mode = df['Sex Identifier'].mode()[0]\n",
        "df['Sex Identifier'].replace(\"Unspecified\", sex_mode, inplace=True)"
      ],
      "id": "6jV57XuyU9Od"
    },
    {
      "cell_type": "code",
      "execution_count": null,
      "metadata": {
        "colab": {
          "base_uri": "https://localhost:8080/"
        },
        "id": "i4Tw3eqZYert",
        "outputId": "93974752-b779-456d-af1e-34f5bac441d5"
      },
      "outputs": [
        {
          "data": {
            "text/plain": [
              "array(['Female', 'Male', 'Other'], dtype=object)"
            ]
          },
          "execution_count": 74,
          "metadata": {},
          "output_type": "execute_result"
        }
      ],
      "source": [
        "df['Sex Identifier'].unique()"
      ],
      "id": "i4Tw3eqZYert"
    },
    {
      "cell_type": "markdown",
      "metadata": {
        "id": "28RL7eB1cypj"
      },
      "source": [
        "**Replace \"YES\" with 1 and \"NO\" with 0 in the \"Churn column\"**"
      ],
      "id": "28RL7eB1cypj"
    },
    {
      "cell_type": "code",
      "execution_count": null,
      "metadata": {
        "id": "z8WMD-gOoeyB"
      },
      "outputs": [],
      "source": [
        "# REplace \"YES\" with 1 and \"NO\" with 0 in the \"Churn column\"\n",
        "df['Churn'] = np.where(df['Churn']==\"Yes\", 1, 0)"
      ],
      "id": "z8WMD-gOoeyB"
    },
    {
      "cell_type": "code",
      "execution_count": null,
      "metadata": {
        "colab": {
          "base_uri": "https://localhost:8080/"
        },
        "id": "XTOW85EEtnkI",
        "outputId": "08d6fe35-5f96-4290-a957-c413825e0d80"
      },
      "outputs": [
        {
          "data": {
            "text/plain": [
              "9015     0\n",
              "4434     1\n",
              "2247     0\n",
              "13828    0\n",
              "45881    1\n",
              "Name: Churn, dtype: int64"
            ]
          },
          "execution_count": 76,
          "metadata": {},
          "output_type": "execute_result"
        }
      ],
      "source": [
        "df['Churn'].sample(5)"
      ],
      "id": "XTOW85EEtnkI"
    },
    {
      "cell_type": "markdown",
      "metadata": {
        "id": "G025yEF3c9CP"
      },
      "source": [
        "**Encoding Columns with categorical values**"
      ],
      "id": "G025yEF3c9CP"
    },
    {
      "cell_type": "code",
      "execution_count": null,
      "metadata": {
        "id": "zVSVdlx5livg"
      },
      "outputs": [],
      "source": [
        "# Working on Categorical Features\n",
        "cat_cols = df.select_dtypes(include=['object']).columns.tolist()\n",
        "\n",
        "df = pd.get_dummies(df, columns=cat_cols)"
      ],
      "id": "zVSVdlx5livg"
    },
    {
      "cell_type": "markdown",
      "metadata": {
        "id": "Eu-DzZ9_eBlO"
      },
      "source": [
        "**Specifying The Features and the Target Variables**"
      ],
      "id": "Eu-DzZ9_eBlO"
    },
    {
      "cell_type": "code",
      "execution_count": null,
      "metadata": {
        "id": "2DzEXx9-Yim5"
      },
      "outputs": [],
      "source": [
        "# DATA SEGMENTATION\n",
        "labels = df[\"Churn\"].copy()\n",
        "features = df.drop(\"Churn\", axis=1).copy()"
      ],
      "id": "2DzEXx9-Yim5"
    },
    {
      "cell_type": "markdown",
      "metadata": {
        "id": "jixo957ceJQq"
      },
      "source": [
        "**Normalizing the features before fitting it to the model**"
      ],
      "id": "jixo957ceJQq"
    },
    {
      "cell_type": "code",
      "execution_count": null,
      "metadata": {
        "id": "8GYSOM0ndF8C"
      },
      "outputs": [],
      "source": [
        "# Features Normalization\n",
        "sc = StandardScaler()\n",
        "features = sc.fit_transform(features)"
      ],
      "id": "8GYSOM0ndF8C"
    },
    {
      "cell_type": "markdown",
      "metadata": {
        "id": "bY825nDneQkD"
      },
      "source": [
        "**Splitting The Data into \"Training\" & \"Validation\" Set**"
      ],
      "id": "bY825nDneQkD"
    },
    {
      "cell_type": "code",
      "execution_count": null,
      "metadata": {
        "colab": {
          "base_uri": "https://localhost:8080/"
        },
        "id": "evANhCpCgCNo",
        "outputId": "ad1ab27b-ccb4-42c8-86e6-1566b312934b"
      },
      "outputs": [
        {
          "data": {
            "text/plain": [
              "((204285, 190), (87552, 190), (204285,), (87552,))"
            ]
          },
          "execution_count": 80,
          "metadata": {},
          "output_type": "execute_result"
        }
      ],
      "source": [
        "# Splitting data into Training and Validation Set\n",
        "X_train, X_test, y_train, y_test = train_test_split(features, labels, test_size=0.3, random_state=42, shuffle=True)\n",
        "X_train.shape, X_test.shape, y_train.shape, y_test.shape"
      ],
      "id": "evANhCpCgCNo"
    },
    {
      "cell_type": "markdown",
      "metadata": {
        "id": "uFOKXecreKnb"
      },
      "source": [
        "Model1 : **RANDOM FOREST CLASSIFIER**"
      ],
      "id": "uFOKXecreKnb"
    },
    {
      "cell_type": "code",
      "execution_count": null,
      "metadata": {
        "colab": {
          "background_save": true,
          "base_uri": "https://localhost:8080/"
        },
        "id": "lN0aG1pe22Ms",
        "outputId": "e99e839c-7280-4cbe-e1ea-ed83add3fee7"
      },
      "outputs": [
        {
          "name": "stdout",
          "output_type": "stream",
          "text": [
            "Roc AUC:rfc 0.9877899848514174\n",
            "====================================================================================================\n",
            "Model Accuracy:rfc 0.9525082236842105\n",
            "====================================================================================================\n",
            "Classification Report For:rfc               precision    recall  f1-score   support\n",
            "\n",
            "           0       0.95      0.96      0.96     48173\n",
            "           1       0.95      0.94      0.95     39379\n",
            "\n",
            "    accuracy                           0.95     87552\n",
            "   macro avg       0.95      0.95      0.95     87552\n",
            "weighted avg       0.95      0.95      0.95     87552\n",
            "\n",
            "\n",
            "Roc AUC:gdb 0.9182531965406702\n",
            "====================================================================================================\n",
            "Model Accuracy:gdb 0.8384160270467836\n",
            "====================================================================================================\n",
            "Classification Report For:gdb               precision    recall  f1-score   support\n",
            "\n",
            "           0       0.82      0.90      0.86     48173\n",
            "           1       0.86      0.77      0.81     39379\n",
            "\n",
            "    accuracy                           0.84     87552\n",
            "   macro avg       0.84      0.83      0.83     87552\n",
            "weighted avg       0.84      0.84      0.84     87552\n",
            "\n",
            "\n",
            "Roc AUC:xgb 0.9165068246248456\n",
            "====================================================================================================\n",
            "Model Accuracy:xgb 0.8384959795321637\n",
            "====================================================================================================\n",
            "Classification Report For:xgb               precision    recall  f1-score   support\n",
            "\n",
            "           0       0.82      0.90      0.86     48173\n",
            "           1       0.86      0.76      0.81     39379\n",
            "\n",
            "    accuracy                           0.84     87552\n",
            "   macro avg       0.84      0.83      0.83     87552\n",
            "weighted avg       0.84      0.84      0.84     87552\n",
            "\n",
            "\n",
            "Roc AUC:knn 0.9712459234685649\n",
            "====================================================================================================\n",
            "Model Accuracy:knn 0.9205843384502924\n",
            "====================================================================================================\n",
            "Classification Report For:knn               precision    recall  f1-score   support\n",
            "\n",
            "           0       0.92      0.94      0.93     48173\n",
            "           1       0.92      0.90      0.91     39379\n",
            "\n",
            "    accuracy                           0.92     87552\n",
            "   macro avg       0.92      0.92      0.92     87552\n",
            "weighted avg       0.92      0.92      0.92     87552\n",
            "\n",
            "\n"
          ]
        },
        {
          "data": {
            "image/png": "[encoded data removed]",
            "text/plain": [
              "<Figure size 864x720 with 1 Axes>"
            ]
          },
          "metadata": {},
          "output_type": "display_data"
        }
      ],
      "source": [
        "# Model names\n",
        "names = [\"rfc\",\"gdb\",\"xgb\",\"knn\"]\n",
        "\n",
        "# Instantiating all Models\n",
        "models = [\n",
        "RandomForestClassifier(n_estimators=200),\n",
        "GradientBoostingClassifier(),\n",
        "XGBClassifier(),\n",
        "KNeighborsClassifier()\n",
        "]\n",
        "\n",
        "plt.figure(figsize=(12,10))\n",
        "for name,model in zip(names,models):\n",
        "\n",
        "\tmodel.fit(X_train,y_train)\n",
        "\ty_pred = model.predict(X_test)\n",
        "\ty_proba = model.predict_proba(X_test)[:,1]\n",
        "\tprint(\"Roc AUC:\"+name, roc_auc_score(y_test, model.predict_proba(X_test)[:,1],average='macro'))\n",
        "\tprint(\"=\"*100)\n",
        "\tprint(\"Model Accuracy:\"+name, accuracy_score(y_test, y_pred))\n",
        "\tprint(\"=\"*100)\n",
        "\tprint(\"Classification Report For:\"+name, classification_report(y_test, y_pred))\n",
        "\tprint()\n",
        "\tfpr, tpr, thresholds = roc_curve(y_test, y_proba)\n",
        "\tplt.plot(fpr, tpr, label=name)\n",
        " \n",
        "\n",
        "plt.xlabel('False positive rate')\n",
        "plt.ylabel('True positive rate')\n",
        "plt.title('ROC curve')\n",
        "plt.legend(loc='best')\n",
        "plt.savefig('ModelsROCCurve.png')\n",
        "plt.show()          "
      ],
      "id": "lN0aG1pe22Ms"
    },
    {
      "cell_type": "code",
      "execution_count": null,
      "metadata": {
        "colab": {
          "base_uri": "https://localhost:8080/"
        },
        "id": "-mwZjbNdKXJA",
        "outputId": "0a8c0a8d-d98f-42fb-9505-913fc8dfdee6"
      },
      "outputs": [
        {
          "output_type": "execute_result",
          "data": {
            "text/plain": [
              "RandomForestClassifier(n_estimators=200)"
            ]
          },
          "metadata": {},
          "execution_count": 85
        }
      ],
      "source": [
        "models[0]"
      ],
      "id": "-mwZjbNdKXJA"
    },
    {
      "cell_type": "markdown",
      "metadata": {
        "id": "S3gYw8bkyRVW"
      },
      "source": [
        "After the model evaluation and ROC curve plotting we did above, we were able to come into conclusion that the **RandomForestClassifier** is the best model so far, so we will then save the  randomforest model into a **.Pkl** file for future use.\n"
      ],
      "id": "S3gYw8bkyRVW"
    },
    {
      "cell_type": "code",
      "execution_count": null,
      "metadata": {
        "id": "dtxkPlN21bxf",
        "colab": {
          "base_uri": "https://localhost:8080/"
        },
        "outputId": "3bed0c1a-8811-4435-fa28-cb577c6c7fb4"
      },
      "outputs": [
        {
          "output_type": "execute_result",
          "data": {
            "text/plain": [
              "['./drive/MyDrive/Employees_Churn_Prediction/EmployeesChurnModel.pkl']"
            ]
          },
          "metadata": {},
          "execution_count": 87
        }
      ],
      "source": [
        "import joblib\n",
        "joblib.dump(model[0], \"./drive/MyDrive/Employees_Churn_Prediction/EmployeesChurnModel.pkl\")"
      ],
      "id": "dtxkPlN21bxf"
    }
  ],
  "metadata": {
    "colab": {
      "collapsed_sections": [],
      "name": "HR_Project.ipynb",
      "provenance": [],
      "include_colab_link": true
    },
    "kernelspec": {
      "display_name": "Python 3 (ipykernel)",
      "language": "python",
      "name": "python3"
    },
    "language_info": {
      "codemirror_mode": {
        "name": "ipython",
        "version": 3
      },
      "file_extension": ".py",
      "mimetype": "text/x-python",
      "name": "python",
      "nbconvert_exporter": "python",
      "pygments_lexer": "ipython3",
      "version": "3.10.0"
    }
  },
  "nbformat": 4,
  "nbformat_minor": 5
}